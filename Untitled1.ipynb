{
 "cells": [
  {
   "cell_type": "code",
   "execution_count": 1,
   "id": "27138a88",
   "metadata": {},
   "outputs": [
    {
     "name": "stdout",
     "output_type": "stream",
     "text": [
      "Requirement already satisfied: Pillow in c:\\users\\abhishek.cw.gupta\\appdata\\local\\anaconda-3\\lib\\site-packages (9.4.0)Note: you may need to restart the kernel to use updated packages.\n",
      "\n"
     ]
    }
   ],
   "source": [
    "pip install Pillow"
   ]
  },
  {
   "cell_type": "code",
   "execution_count": 2,
   "id": "a0869447",
   "metadata": {},
   "outputs": [],
   "source": [
    "from PIL import Image, ImageSequence\n",
    "import os"
   ]
  },
  {
   "cell_type": "code",
   "execution_count": 3,
   "id": "44b6a0bc",
   "metadata": {},
   "outputs": [],
   "source": [
    "\n",
    " \n",
    "def tiff_to_pdf(tiff_path: str) -> str:\n",
    " \n",
    "    pdf_path = tiff_path.replace('.tif', '.pdf')\n",
    "    \n",
    "#     if not os.path.exists(tiff_path): raise Exception(f'{tiff_path} does not find.')\n",
    "    image = Image.open(tiff_path)\n",
    " \n",
    "    images = []\n",
    "    for i, page in enumerate(ImageSequence.Iterator(image)):\n",
    "        page = page.convert(\"RGB\")\n",
    "        images.append(page)\n",
    "    if len(images) == 1:\n",
    "        print(pdf_path)\n",
    "        images[0].save(pdf_path)\n",
    "    else:\n",
    "        images[0].save(pdf_path, save_all=True,append_images=images[1:])\n",
    "    return pdf_path"
   ]
  },
  {
   "cell_type": "code",
   "execution_count": 5,
   "id": "1f196f64",
   "metadata": {},
   "outputs": [
    {
     "name": "stdout",
     "output_type": "stream",
     "text": [
      "Received From Client/Pathology Report/089001563651 Path.pdf\n",
      "Received From Client/Pathology Report/089001612868 Path.pdf\n",
      "Received From Client/Pathology Report/092001596417 Path.pdf\n",
      "Received From Client/Pathology Report/092001596669 Path.pdf\n",
      "Received From Client/Pathology Report/092001744894 Path.pdf\n",
      "Received From Client/Pathology Report/092001744898 Path.pdf\n",
      "Received From Client/Pathology Report/092001744904 Path.pdf\n",
      "Received From Client/Pathology Report/092001859972 Path.pdf\n",
      "Received From Client/Pathology Report/2024-09-10_08-52-45 Path.pdf\n"
     ]
    }
   ],
   "source": [
    "path = \"Received From Client/Pathology Report\"\n",
    "dir_list_a = os.listdir(path)\n",
    "for i in dir_list_a:\n",
    "    if i.endswith('.tif'):\n",
    "        path1 = path +'/'+ i\n",
    "        \n",
    "        tiff_to_pdf(path1)\n",
    "        os.remove(path1)\n",
    "# tiff_to_pdf(path)"
   ]
  },
  {
   "cell_type": "code",
   "execution_count": 16,
   "id": "7abc66ea",
   "metadata": {},
   "outputs": [],
   "source": [
    "os.remove('Received From Client/Bills/2024-09-10_08-53-33 Bill.tif')"
   ]
  },
  {
   "cell_type": "code",
   "execution_count": 12,
   "id": "22b20f9d",
   "metadata": {},
   "outputs": [
    {
     "data": {
      "text/plain": [
       "['089001282579 (s)Bill.tif',\n",
       " '089001282579 Bill.tif',\n",
       " '089001562710 Bill.pdf',\n",
       " '089001563322 Bill1.tif',\n",
       " '089001563322 Bill2.tif',\n",
       " '089001563322 Bill3.tif',\n",
       " '089001563387 Bill1.tif',\n",
       " '089001563387 Bill2.tif',\n",
       " '089001563387 Bill3.tif',\n",
       " '089001563586 Bill.tif',\n",
       " '089001563662.tif',\n",
       " '089001563672 (s)bill.tif',\n",
       " '089001563672 bill.pdf',\n",
       " '089001564211 Bills_1.tif',\n",
       " '089001564211 Bills_2.tif',\n",
       " '089001564211 Bills_3.tif',\n",
       " '089001564211 Bills_4.tif',\n",
       " '089001564211 Bills_5.pdf',\n",
       " '089001564211 Bills_6.pdf',\n",
       " '089001564211 Bills_7.pdf',\n",
       " '089001564211 Bills_8.pdf',\n",
       " '2024-09-10_08-53-33 Bill.pdf',\n",
       " '2024-09-10_08-53-33 Bill.tif',\n",
       " 'AI ITEMIZED HOSP BILL PROJECT.tif',\n",
       " 'claim form9.pdf',\n",
       " 'IB 1.pdf',\n",
       " 'IB 2.pdf',\n",
       " 'IB 3.pdf',\n",
       " 'ib 4.pdf',\n",
       " 'IB 5.pdf',\n",
       " 'ib 6.pdf',\n",
       " 'IRB 2.pdf',\n",
       " 'Sample - UB04']"
      ]
     },
     "execution_count": 12,
     "metadata": {},
     "output_type": "execute_result"
    }
   ],
   "source": [
    "dir_list_a"
   ]
  },
  {
   "cell_type": "code",
   "execution_count": null,
   "id": "86513181",
   "metadata": {},
   "outputs": [],
   "source": [
    "path = \"Received From Client\"\n",
    "dir_list_a = os.listdir(path)\n",
    "dir_list_a.pop(0)\n",
    "# print('dir',dir_list_a)\n",
    "final_dir_list=[]\n",
    "final_final_list=[]\n",
    "for direc in dir_list_a:\n",
    "    path1 = path+'/'+direc\n",
    "    dir_list = os.listdir(path1)\n",
    "#     print('dir_l',dir_list)\n",
    "    for file in dir_list:\n",
    "        if \".\" not in file:\n",
    "            dir_list.remove(file)\n",
    "            path1 = path1+'/'+file\n",
    "#             print(path)\n",
    "            dir1=os.listdir(path1)\n",
    "#             print('dir1',dir1) \n",
    "            dir_list = dir_list+dir1\n",
    "#     print(len(dir_list))\n",
    "    final_list=[]\n",
    "    for i in range(len(dir_list)):\n",
    "        final_list.append(direc)\n",
    "    final_final_list = final_final_list+final_list\n",
    "\n",
    "        \n",
    "#     print(final_list)\n",
    "#     print(\"Files and directories in '\", path, \"' :\")\n",
    "    # prints all files\n",
    "#     i=0\n",
    "#     for a in dir_list:\n",
    "#         final_list=final_list.append(direc)\n",
    "\n",
    "    final_dir_list = final_dir_list+dir_list\n",
    "#     print(dir_list)\n",
    "print(final_dir_list)\n",
    "print(final_final_list)"
   ]
  }
 ],
 "metadata": {
  "kernelspec": {
   "display_name": "Python 3 (ipykernel)",
   "language": "python",
   "name": "python3"
  },
  "language_info": {
   "codemirror_mode": {
    "name": "ipython",
    "version": 3
   },
   "file_extension": ".py",
   "mimetype": "text/x-python",
   "name": "python",
   "nbconvert_exporter": "python",
   "pygments_lexer": "ipython3",
   "version": "3.10.9"
  }
 },
 "nbformat": 4,
 "nbformat_minor": 5
}
