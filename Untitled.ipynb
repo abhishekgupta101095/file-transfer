{
 "cells": [
  {
   "cell_type": "code",
   "execution_count": 1,
   "id": "f29e2795",
   "metadata": {},
   "outputs": [],
   "source": [
    "import os\n",
    "import pandas as pd"
   ]
  },
  {
   "cell_type": "code",
   "execution_count": 13,
   "id": "8efd9c66",
   "metadata": {},
   "outputs": [],
   "source": [
    "# import module\n",
    "import shutil\n",
    "\n",
    "# copy the contents of the demo.py file to  a new file called demo1.py\n",
    "# shutil.copyfile('./demo.py', './demo1.py')"
   ]
  },
  {
   "cell_type": "code",
   "execution_count": 29,
   "id": "067e0262",
   "metadata": {},
   "outputs": [
    {
     "data": {
      "text/plain": [
       "'atest/Others 98.pdf'"
      ]
     },
     "execution_count": 29,
     "metadata": {},
     "output_type": "execute_result"
    }
   ],
   "source": [
    "shutil.copyfile('Others/Others 98.pdf','atest/Others 98.pdf')"
   ]
  },
  {
   "cell_type": "code",
   "execution_count": 2,
   "id": "e1243760",
   "metadata": {},
   "outputs": [
    {
     "ename": "NameError",
     "evalue": "name 'dir1' is not defined",
     "output_type": "error",
     "traceback": [
      "\u001b[1;31m---------------------------------------------------------------------------\u001b[0m",
      "\u001b[1;31mNameError\u001b[0m                                 Traceback (most recent call last)",
      "Cell \u001b[1;32mIn[2], line 14\u001b[0m\n\u001b[0;32m     12\u001b[0m         dir1\u001b[38;5;241m=\u001b[39mos\u001b[38;5;241m.\u001b[39mlistdir(path)\n\u001b[0;32m     13\u001b[0m         \u001b[38;5;28mprint\u001b[39m(\u001b[38;5;124m'\u001b[39m\u001b[38;5;124mdir1\u001b[39m\u001b[38;5;124m'\u001b[39m,dir1)\n\u001b[1;32m---> 14\u001b[0m dir_list \u001b[38;5;241m=\u001b[39m dir_list\u001b[38;5;241m+\u001b[39m\u001b[43mdir1\u001b[49m\n\u001b[0;32m     15\u001b[0m \u001b[38;5;28mprint\u001b[39m(\u001b[38;5;124m\"\u001b[39m\u001b[38;5;124mFiles and directories in \u001b[39m\u001b[38;5;124m'\u001b[39m\u001b[38;5;124m\"\u001b[39m, path, \u001b[38;5;124m\"\u001b[39m\u001b[38;5;124m'\u001b[39m\u001b[38;5;124m :\u001b[39m\u001b[38;5;124m\"\u001b[39m)\n\u001b[0;32m     16\u001b[0m \u001b[38;5;66;03m# prints all files\u001b[39;00m\n",
      "\u001b[1;31mNameError\u001b[0m: name 'dir1' is not defined"
     ]
    }
   ],
   "source": [
    "# Get the list of all files and directories\n",
    "path = \"Received From Client\"\n",
    "dir_list_a = os.listdir(path)\n",
    "for direc in dir_list_a:\n",
    "    path = path+'/'+direc\n",
    "    dir_list = os.listdir(path)\n",
    "    for file in dir_list:\n",
    "        if \".\" not in file:\n",
    "            dir_list.remove(file)\n",
    "            path = path+'/'+file\n",
    "            print(path)\n",
    "            dir1=os.listdir(path)\n",
    "            print('dir1',dir1)\n",
    "    dir_list = dir_list+dir1\n",
    "    print(\"Files and directories in '\", path, \"' :\")\n",
    "    # prints all files\n",
    "    print(dir_list)"
   ]
  },
  {
   "cell_type": "code",
   "execution_count": 59,
   "id": "d79ff973",
   "metadata": {},
   "outputs": [
    {
     "name": "stdout",
     "output_type": "stream",
     "text": [
      "Sample - UB04\n",
      "Downloaded Items\n",
      "['0097aftervisitsummary.pdf', '0297aftervisitsummary.pdf', '3227aftervisitsummary.pdf', '3667aftervisitsummary.pdf', '507aftervisitsummary.pdf', '5117aftervisitsummary.pdf', '5327aftervisitsummary.pdf', '5647aftervisitsummary.pdf', 'Admission_Discharge Summary 5.pdf', 'After visit summary 2.pdf', 'after visit summary.pdf', 'after visit summary1 - Copy.pdf', 'after visit summary1.pdf', 'afv - Copy.pdf', 'afv.pdf', 'AVS 5 - Copy.pdf', 'AVS 5.pdf', 'AVS 6- After visit summary - Copy.pdf', 'AVS 6- After visit summary.pdf', 'AVS 7 - Copy.pdf', 'AVS 7.pdf', 'AVS 8 - Copy.pdf', 'AVS 8.pdf', 'Doctor Visit 1 - Copy.pdf', 'Doctor Visit 1.pdf', 'Doctor Visit 2 - Copy.pdf', 'Doctor Visit 2.pdf', 'DV 1 - Copy.pdf', 'DV 1.pdf', 'DV 3 - Copy.pdf', 'DV 3.pdf', '089001564979 APS.pdf', '089001575133 APS.pdf', '089001612266 APS.pdf', '092001504440 APS.pdf', '092001601229 APS.pdf', '092001850464 APS.pdf', '092001862025 APS.pdf', '3947APS_Redacted.pdf', 'AI_ACCD_Attending Physician Statement 2.pdf', 'APS 2.pdf', 'APS 3.pdf', 'APS 4.pdf', 'APS 5.pdf', 'APS 6 - Copy.pdf', 'APS 6.pdf', 'APS 7 - Copy.pdf', 'APS 7.pdf', 'APS 8 - Copy.pdf', 'APS 8.pdf', 'APS 9 - Copy.pdf', 'APS 9.pdf', 'APS AI - Copy.pdf', 'APS AI.pdf', 'aps.pdf', 'Sample APS 10 - Copy.pdf', 'Sample APS 10.pdf', 'Sample APS 2 - Copy.pdf', 'Sample APS 2.pdf', 'sample APS 3 - Copy.pdf', 'sample APS 3.pdf', 'sample APS 4 - Copy.pdf', 'sample APS 4.pdf', 'Sample APS 5 - Copy.pdf', 'Sample APS 5.pdf', '089001282579 (s)Bill.pdf', '089001282579 Bill - Copy.pdf', '089001282579 Bill.pdf', '089001562710 Bill.pdf', '089001563322 Bill1 - Copy.pdf', '089001563322 Bill1.pdf', '089001563322 Bill2.pdf', '089001563322 Bill3.pdf', '089001563387 Bill1 - Copy.pdf', '089001563387 Bill1.pdf', '089001563387 Bill2 - Copy.pdf', '089001563387 Bill2.pdf', '089001563387 Bill3 - Copy.pdf', '089001563387 Bill3.pdf', '089001563586 Bill - Copy.pdf', '089001563586 Bill.pdf', '089001563662 - Copy.pdf', '089001563662.pdf', '089001563672 (s)bill - Copy.pdf', '089001563672 (s)bill.pdf', '089001563672 bill.pdf', '089001564211 Bills_1 - Copy.pdf', '089001564211 Bills_1.pdf', '089001564211 Bills_5.pdf', '089001564211 Bills_6.pdf', '089001564211 Bills_7.pdf', '089001564211 Bills_8.pdf', '2024-09-10_08-53-33 Bill.pdf', 'AI ITEMIZED HOSP BILL PROJECT - Copy.pdf', 'AI ITEMIZED HOSP BILL PROJECT.pdf', 'claim form9.pdf', 'IB 1.pdf', 'IB 2.pdf', 'IB 3.pdf', 'ib 4.pdf', 'IB 5.pdf', 'ib 6.pdf', 'IRB 2.pdf', 'ACCD Claim form 1.pdf', 'ACCD Claim form 10.pdf', 'ACCD Claim form 11.pdf', 'ACCD Claim form 12.pdf', 'ACCD Claim form 13.pdf', 'ACCD Claim form 14.pdf', 'ACCD Claim form 15.pdf', 'ACCD Claim Form 16.pdf', 'ACCD Claim form 2.pdf', 'ACCD Claim form 3.pdf', 'ACCD Claim form 4.pdf', 'Accd Claim form 5.pdf', 'ACCD Claim form 6.pdf', 'ACCD Claim Form 7.pdf', 'ACCD Claim form 8.pdf', 'ACCD Claim form 9.pdf', 'Admission Discharge-Claim form.pdf', 'AI_ACCD  claim form.pdf', 'cancer claim form 1 (1).pdf', 'cancer claim form 1.pdf', 'cancer claim form 10.pdf', 'cancer claim form 11.pdf', 'cancer claim form 12.pdf', 'cancer claim form 13.pdf', 'cancer claim form 14.pdf', 'cancer claim form 15.pdf', 'cancer claim form 16.pdf', 'cancer claim form 18.pdf', 'cancer claim form 2 (1).pdf', 'cancer claim form 2.pdf', 'Cancer Claim form 3.pdf', 'cancer claim form 4 (1).pdf', 'cancer claim form 4.pdf', 'cancer claim form 5 (1).pdf', 'cancer claim form 5.pdf', 'cancer claim form 6.pdf', 'cancer claim form 7.pdf', 'cancer claim form 8.pdf', 'cancer claim form 9.pdf', 'Claim Form 1.pdf', 'Claim form 10 CI.pdf', 'claim form 11.pdf', 'Claim Form 2.pdf', 'Claim Form 3.pdf', 'claim form 5.pdf', 'claim form 6.pdf', 'claim form 7.pdf', 'claim form 8.pdf', 'Claim form 9 CI.pdf', 'Claim form denver.pdf', 'Claim form H 7.pdf', 'Claim form H9.pdf', 'claim form peterson.pdf', 'CR Illness Claim form 1 CI.pdf', 'CR Illness Claim form 1.pdf', 'CR Illness Claim form 2 CI.pdf', 'Cr Illness Claim form 3 CI.pdf', 'CR illness Claim form 4 CI.pdf', 'Cr Illness cLaim form 5 replaced.pdf', 'CR Illness Claim form 6 CI.pdf', 'CR Illness Claim form 7.pdf', 'Cr Illness Claim form 8.pdf', 'Hospital Claim form 1.pdf', 'Hospital Claim form 11.pdf', 'Hospital Claim form 2.pdf', 'Hospital Claim form 3.pdf', 'Hospital Claim form 5.pdf', 'Hospital Claim form 6.pdf', 'Hospital Claim form 8.pdf', 'Hospital Claim form.pdf', '082000151094 Death Cert - Copy.pdf', '082000151094 Death Cert.pdf', '087002189909_Death certificate.pdf', '087002210034 Death Cert - Copy.pdf', '087002210034 Death Cert.pdf', '089000790814 Death Cert - Copy.pdf', '089000790814 Death Cert.pdf', '089001943233 Death Cert - Copy.pdf', '089001943233 Death Cert.pdf', '092001459902 Death Cert - Copy.pdf', '092001459902 Death Cert.pdf', '092002382030 Death Cert - Copy.pdf', '092002382030 Death Cert.pdf', '110000523062 Death Cert - Copy.pdf', '110000523062 Death Cert.pdf', '16180 DC (red).pdf', '23062 DC (red).pdf', 'Death Cert Example (red) - Copy.pdf', 'Death Cert Example (red).pdf', 'Death Certificate 1 - Copy.pdf', 'Death Certificate 1.pdf', 'Death Certificate 2 - Copy.pdf', 'Death Certificate 2.pdf', 'Apostille-Death-Certificate.pdf', 'DC-1024x791.PDF', 'Death Cert of a Dude.pdf', 'Death Cert Temp.pdf', 'death-certificate.PDF', 'FL Death Cert.pdf', 'florida-death-certification-without-cause-of-death_2023.PDF', 'Illinois Death Cert.pdf', 'Indiana Death Cert.pdf', 'Iowa Death Cert.pdf', 'Mass Death Cert.PDF', 'NY Death Cert.pdf', 'OIP 1.pdf', 'OIP Redacted.PDF', 'Rudolph_Death Cer.pdf', '48579-Dr Office Office.pdf', '77391 Dr office visit.pdf', 'AD 4-Dr office visit.pdf', 'Doctor office visit 2.pdf', 'Dr Office Visit 1.pdf', 'Dr Office Visit 10.pdf', 'Dr Office Visit 12.pdf', 'Dr Office Visit 13.pdf', 'Dr Office Visit 14.pdf', 'Dr Office Visit 15.pdf', 'Dr Office Visit 16.pdf', 'Dr Office Visit 17.pdf', 'Dr Office Visit 18.pdf', 'Dr Office Visit 19.pdf', 'Dr office visit 2.pdf', 'Dr Office Visit 20.pdf', 'Dr Office Visit 21.pdf', 'Dr Office Visit 22.pdf', 'Dr Office Visit 23.pdf', 'Dr Office Visit 24.pdf', 'Dr Office Visit 25.pdf', 'Dr Office Visit 26.pdf', 'Dr Office Visit 3.pdf', 'Dr Office Visit 6.pdf', 'Dr Office Visit 7.pdf', 'Dr Ofiice visit 1.pdf', 'Dr. office visit 11.1.pdf', 'Dr. office visit 11.2.pdf', 'Dr. office visit 3.pdf', '030001943124- samp 7.pdf', '077001432009- Samp 3.pdf', '109000989884- Samp 2.pdf', '109001071729- Samp 5.pdf', 'EF 1 - Copy.pdf', 'EF 1.pdf', 'EF 2.pdf', 'EF 3.pdf', 'EF 4 - Copy.pdf', 'EF 4.pdf', 'EF 5.pdf', 'EF 6.pdf', 'EF 7.pdf', 'EFD 1.pdf', 'EFD 2 - Copy.pdf', 'EFD 2.pdf', 'EFD 3 - Copy.pdf', 'EFD 3.pdf', 'EFD 4 - Copy.pdf', 'EFD 4.pdf', 'Employer Form 1.pdf', 'Employer Form 2.pdf', 'Employer Form 3 - Copy.pdf', 'Employer Form 3.pdf', 'Employer Form 4 - Copy.pdf', 'Employer Form 4.pdf', 'Employer Form 5 - Copy.pdf', 'Employer Form 5.pdf', 'Employer Form 6 - Copy.pdf', 'Employer Form 6.pdf', 'Emp_Form 1 - Copy.pdf', 'Emp_Form 1.pdf', 'Emp_Form 2 - Copy.pdf', 'Emp_Form 2.pdf', 'Sample 8.pdf', '089001563322 Bill4 - Copy.pdf', '089001563322 Bill4.pdf', '089001563569 EOB1 - Copy.pdf', '089001563569 EOB1.pdf', '089001563569 EOB2 - Copy.pdf', '089001563569 EOB2.pdf', '240108218_EOB.pdf', '240197044_EOB.pdf', '240237673L.pdf', '240248401_EOB.pdf', '240326247.pdf', '240326338.pdf', '240327326.pdf', '240337818.pdf', 'dcn240317588.pdf', 'EOB 08900.pdf', 'EOB 089001130244.pdf', 'EOB 092001624009.pdf', 'EOB 1 - Copy.pdf', 'EOB 1.pdf', 'EOB 2 - Copy.pdf', 'EOB 2.pdf', 'EOB 3 - Copy.pdf', 'EOB 3.pdf', 'EOB 4 - Copy.pdf', 'EOB 4.pdf', 'EOB 5 - Copy.pdf', 'EOB 5.pdf', 'EOB 6 - Copy.pdf', 'EOB 6.pdf', 'EOB 7 - Copy.pdf', 'EOB 7.pdf', 'EOB 8 - Copy.pdf', 'EOB 8.pdf', 'EOB 9 - Copy.pdf', 'EOB 9.pdf', '077001723741 AD (red).pdf', '09202264187 Admission Discharge.pdf', '32351 ADMDSCHG (red).pdf', '48579-Admission Discharge.pdf', '69018 Admission Discharge.pdf', '73179 ADMDSCHG (red).pdf', '77391 Admission Discharge 2.pdf', '77391 Admission Discharge.pdf', '98769 Admission and Discharge.pdf', 'AD 1- Admission and Discharge 2.pdf', 'AD 2.pdf', 'AD 3- Admission Records.pdf', 'AD 4-Admission and Discharge.pdf', 'AD 6 - Copy.pdf', 'AD 6.pdf', 'AD-1 Admission and Discharge - Copy.pdf', 'AD-1 Admission and Discharge 2 - Copy.pdf', 'AD-1 Admission and Discharge 2.pdf', 'AD-1 Admission and Discharge.pdf', 'Admission Discharge 11- Admission Discharge - Copy.pdf', 'Admission Discharge 11- Admission Discharge.pdf', 'Admission Discharge 6-Admission Discharge - Copy.pdf', 'Admission Discharge 6-Admission Discharge.pdf', 'Admission_Discharge Summary 10 - Copy.pdf', 'Admission_Discharge Summary 10.pdf', 'Admission_Discharge Summary 7 - Copy.pdf', 'Admission_Discharge Summary 7.pdf', 'Admission_Discharge Summary 8 - Copy.pdf', 'Admission_Discharge Summary 8.pdf', 'AVS 6- Admission Discharge - Copy.pdf', 'AVS 6- Admission Discharge.pdf', '48579-Hospital-Physician Report 2.pdf', '48579-Hospital-Physician Report.pdf', '77391 Hospital-Physician records 1.pdf', '77391 Hospital-Physician records 2.pdf', '77391 Hospital-Physician records 3.pdf', '77770 HSPR (red) - Copy.pdf', '77770 HSPR (red).pdf', '808662 HSPR (red) - Copy.pdf', '808662 HSPR (red).pdf', '98769 Hospital-Physician Records.pdf', 'AD 3- Hospital-Physician Records.pdf', 'AD 3-Hospital-Physician Records 2 - Copy.pdf', 'AD 3-Hospital-Physician Records 2.pdf', 'AD-1 Hospital-Physician Records - Copy.pdf', 'AD-1 Hospital-Physician Records.pdf', 'Admission Discharge 11-Hospital-Physician Report.pdf', 'Hospital Record 1.pdf', 'Hospital Record 2 - Copy.pdf', 'Hospital Record 2.pdf', 'Hospital Record 3 - Copy.pdf', 'Hospital Record 3.pdf', 'Hospital Record 4 - Copy.pdf', 'Hospital Record 4.pdf', 'Hospital Record 5 - Copy.pdf', 'Hospital Record 5.pdf', 'Hospital Record 6.pdf', 'Hospital Record 7.pdf', 'Hospital Record 8.pdf', 'Hos_Phy Rec 1 (red) - Copy.pdf', 'Hos_Phy Rec 1 (red).pdf', 'Hos_Phy Rec 11pdf (red).pdf', 'Hos_Phy Rec 12pdf (red).pdf', 'Hos_Phy Rec 13pdf (red) - Copy.pdf', 'Hos_Phy Rec 13pdf (red).pdf', 'Hos_Phy Rec 14pdf (red) - Copy.pdf', 'Hos_Phy Rec 14pdf (red).pdf', 'Hos_Phy Rec 15pdf (red) - Copy.pdf', 'Hos_Phy Rec 15pdf (red).pdf', 'HSPR Example.pdf', '0377medicalimagingreport.pdf', '089001958586 Imaging.pdf', '48579-Imaging report 2.pdf', '48579-imaging report.pdf', '5107medicalimagingreport.pdf', '5477imaging.pdf', '5867medical imaging.pdf', '7617medicalimaging.pdf', 'AD 1-Imaging Report.pdf', 'AD-1 Imaging Report 2.pdf', 'AD-1 Imaging report 3.pdf', 'Admission Discharge-Imaging Report 11.pdf', 'Admission Discharge-Imaging Report 12.pdf', 'Admission Discharge-Imaging Report 2.pdf', 'Admission Discharge-Imaging Report 3.pdf', 'Admission Discharge-Imaging Report 4.pdf', 'Admission Discharge-Imaging Report 5.pdf', 'Admission Discharge-Imaging report 6.pdf', 'Admission Discharge-Imaging Report 7.pdf', 'Admission Discharge-Imaging Report 8.pdf', 'Admission Discharge-Imaging Report 9.pdf', 'Admission Discharge-Imaging Report.pdf', 'Admission Discharge-Imaging Report10.pdf', 'AVS 3.pdf', 'AVS 4.pdf', 'Document Pacakage 19-Imaging report 3.pdf', 'Document Package 19-Imaging Report 2.pdf', 'Document Package 19-Imaging Report 3.pdf', 'Document Package 19-Imaging Report 4.pdf', 'Document Package 19-Imaging Report.pdf', 'Imaging 1.pdf', 'imaging 2.pdf', 'Imaging Report 1.pdf', 'Imaging Report 2.pdf', 'Imaging Report 4.pdf', 'Imaging Report 6.pdf', 'IR.pdf', '1887labreport.pdf', '2197labreport.pdf', '227labreport.pdf', '357labreport.pdf', '80372LABREPORT.pdf', '8037LABREPORT.pdf', '987labreport.pdf', 'AD 1-Lab Report 2.pdf', 'AD-1 Lab reports 3.pdf', 'AD-1 Lab reports.pdf', 'Admission_Discharge Summary 3.pdf', 'AVS 1.pdf', 'AVS 2.pdf', 'Document Package 19-Lab report.pdf', 'Lab 20M.pdf', 'Lab 21M.pdf', 'Lab 22M.pdf', 'Lab 23M.pdf', 'Lab 24M.pdf', 'Lab report -12M.pdf', 'Lab Report 25M.pdf', 'Lab report-10M.pdf', 'Lab report-11M.pdf', 'Lab report-1M.pdf', 'Lab report-2M.pdf', 'Lab report-3M.pdf', 'Lab report-4M.pdf', 'Lab report-5M.pdf', 'Lab report-9M.pdf', '1167operative report.pdf', '1327operative report.pdf', '69018 Operative Report.pdf', 'AD 1- Operative report.pdf', 'AD 3-Operative note.pdf', 'AD 4- Operative note.pdf', 'AD-1 Operative report 2.pdf', 'AD-4 Operative note 2.pdf', 'Admission Discharge 11-Operative Report.pdf', 'Admission Discharge-Operative Report.pdf', 'Admission_Discharge Summary 4.pdf', 'AVS 9.pdf', 'Doc 1.pdf', 'Doc 2.pdf', 'doc 3.pdf', 'doc 4.pdf', 'doc 5.pdf', 'doc 6.pdf', 'doc 7.pdf', 'Document Package 19-Operative Report 2.pdf', 'Document Package 19-Operative Report 3.pdf', 'Document Package 19-Operative report 4.pdf', 'Document Package 19-Operative Report 5.pdf', 'Document Package 19-Operative Report.pdf', 'Operative note.pdf', 'Operative Report 1.pdf', 'Operative Report 2.pdf', 'Operative Report 3.pdf', 'Operative Report 5.pdf', 'Operative Report 6.pdf', 'Others 1.pdf', 'Others 10.pdf', 'Others 100.pdf', 'Others 101.pdf', 'Others 102.pdf', 'Others 103.pdf', 'Others 104.pdf', 'Others 105.pdf', 'Others 106.pdf', 'Others 107.pdf', 'Others 108.pdf', 'Others 109.pdf', 'Others 11.pdf', 'Others 110.pdf', 'Others 111.pdf', 'Others 112.pdf', 'Others 113.pdf', 'Others 114.pdf', 'Others 115.pdf', 'Others 116.pdf', 'Others 117.pdf', 'Others 118.pdf', 'Others 119.pdf', 'Others 12.pdf', 'Others 120.pdf', 'Others 121.pdf', 'Others 122.pdf', 'Others 123.pdf', 'Others 124.pdf', 'Others 125.pdf', 'Others 126.pdf', 'Others 127.pdf', 'Others 128.pdf', 'Others 129.pdf', 'Others 13.pdf', 'Others 130.pdf', 'Others 131.pdf', 'Others 132.pdf', 'Others 133.pdf', 'Others 134.pdf', 'Others 135.pdf', 'Others 136.pdf', 'Others 137.pdf', 'Others 138.pdf', 'Others 139.pdf', 'Others 14.pdf', 'Others 140.pdf', 'Others 141.pdf', 'Others 142.pdf', 'Others 143.pdf', 'Others 15.pdf', 'Others 16.pdf', 'Others 17.pdf', 'Others 18.pdf', 'Others 19.pdf', 'Others 2.pdf', 'Others 20.pdf', 'Others 21.pdf', 'Others 22.pdf', 'Others 23.pdf', 'Others 24.pdf', 'Others 25.pdf', 'Others 26.pdf', 'Others 27.pdf', 'Others 28.pdf', 'Others 29.pdf', 'Others 3.pdf', 'Others 30.pdf', 'Others 31.pdf', 'Others 32.pdf', 'Others 33.pdf', 'Others 34.pdf', 'Others 35.pdf', 'Others 36.pdf', 'Others 37.pdf', 'Others 38.pdf', 'Others 39.pdf', 'Others 4.pdf', 'Others 40.pdf', 'Others 41.pdf', 'Others 42.pdf', 'Others 43.pdf', 'Others 44.pdf', 'Others 45.pdf', 'Others 46.pdf', 'Others 47.pdf', 'Others 48.pdf', 'Others 49.pdf', 'Others 5.pdf', 'Others 50.pdf', 'Others 51.pdf', 'Others 52.pdf', 'Others 53.pdf', 'Others 54.pdf', 'Others 55.pdf', 'Others 56.pdf', 'Others 57.pdf', 'Others 58.pdf', 'Others 59.pdf', 'Others 6.pdf', 'Others 60.pdf', 'Others 61.pdf', 'Others 62.pdf', 'Others 63.pdf', 'Others 64.pdf', 'Others 65.pdf', 'Others 66.pdf', 'Others 67.pdf', 'Others 68.pdf', 'Others 69.pdf', 'Others 7.pdf', 'Others 70.pdf', 'Others 71.pdf', 'Others 72.pdf', 'Others 73.pdf', 'Others 74.pdf', 'Others 75.pdf', 'Others 76.pdf', 'Others 77.pdf', 'Others 78.pdf', 'Others 79.pdf', 'Others 8.pdf', 'Others 80.pdf', 'Others 81.pdf', 'Others 82.pdf', 'Others 83.pdf', 'Others 86.pdf', '089001161060 Path.pdf', '089001441811 Path.pdf', '089001563379 Path.pdf', '089001563651 Path.pdf', '089001612868 Path.pdf', '092001518895 Path.pdf', '092001567663.pdf', '092001578353 Path-Bill.pdf', '092001609304.pdf', '092001828053 Path.pdf', '092001859640 Path.pdf', '092001861317 Path.pdf', '092001861708 Path.pdf', '092001862022 Path.pdf', '092001970716 Path.pdf', '092002264187 ADS-Pathology.pdf', 'AD 1- Pathology 5.pdf', 'AD 1- Pathology 6.pdf', 'AD 1- Pathology 7.pdf', 'AD 1-Pathology 3.pdf', 'AD 1-Pathology 4.pdf', 'AD-1 Pathology 2.pdf', 'AD-1 Pathology.pdf', 'Admission Discharge 6-Pathology Report.pdf', 'Dr Office Visit 4.pdf', 'Dr Office Visit 5.pdf', 'Path 1.pdf', 'path 2.pdf', 'path 3.pdf', 'Path 4.pdf', 'path 5.pdf', 'Path.pdf', '078001931001 Police Report - Copy.pdf', '078001931001 Police Report.pdf', '110000137288 Police Report - Copy.pdf', '110000137288 Police Report.pdf', 'Belmont Crash (red).pdf', 'Belmont Crash - Copy.pdf', 'Belmont Crash.pdf', 'Police Report 2.pdf', 'Police Report 3.pdf', 'Police Report 4.pdf', 'Police Report 5.pdf', 'police report 6.pdf', 'Police Report Example 1.pdf', 'Police Report Example 10.pdf', 'Police Report Example 11.pdf', 'Police Report Example 2 - Copy.pdf', 'Police Report Example 2.pdf', 'Police Report Example 3.pdf', 'Police Report Example 4.pdf', 'Police Report Example 5.pdf', 'Police Report Example 6.pdf', 'Police Report Example 7 - Copy.pdf', 'Police Report Example 7.pdf', 'Police Report Example 8 - Copy.pdf', 'Police Report Example 8.pdf', 'Police Report Example 9 - Copy.pdf', 'Police Report Example 9.pdf', 'Police Report Sample 1 - Copy.pdf', 'Police Report Sample 1.pdf', 'Police Report Sample 2 - Copy.pdf', 'Police Report Sample 2.pdf', 'ST Pete PD (red) - Copy.pdf', 'ST Pete PD (red).pdf', 'ST Pete PD - Copy.pdf', 'ST Pete PD.pdf']\n",
      "['After Visit Summary', 'After Visit Summary', 'After Visit Summary', 'After Visit Summary', 'After Visit Summary', 'After Visit Summary', 'After Visit Summary', 'After Visit Summary', 'After Visit Summary', 'After Visit Summary', 'After Visit Summary', 'After Visit Summary', 'After Visit Summary', 'After Visit Summary', 'After Visit Summary', 'After Visit Summary', 'After Visit Summary', 'After Visit Summary', 'After Visit Summary', 'After Visit Summary', 'After Visit Summary', 'After Visit Summary', 'After Visit Summary', 'After Visit Summary', 'After Visit Summary', 'After Visit Summary', 'After Visit Summary', 'After Visit Summary', 'After Visit Summary', 'After Visit Summary', 'After Visit Summary', 'Attending Physician Statement', 'Attending Physician Statement', 'Attending Physician Statement', 'Attending Physician Statement', 'Attending Physician Statement', 'Attending Physician Statement', 'Attending Physician Statement', 'Attending Physician Statement', 'Attending Physician Statement', 'Attending Physician Statement', 'Attending Physician Statement', 'Attending Physician Statement', 'Attending Physician Statement', 'Attending Physician Statement', 'Attending Physician Statement', 'Attending Physician Statement', 'Attending Physician Statement', 'Attending Physician Statement', 'Attending Physician Statement', 'Attending Physician Statement', 'Attending Physician Statement', 'Attending Physician Statement', 'Attending Physician Statement', 'Attending Physician Statement', 'Attending Physician Statement', 'Attending Physician Statement', 'Attending Physician Statement', 'Attending Physician Statement', 'Attending Physician Statement', 'Attending Physician Statement', 'Attending Physician Statement', 'Attending Physician Statement', 'Attending Physician Statement', 'Attending Physician Statement', 'Bills', 'Bills', 'Bills', 'Bills', 'Bills', 'Bills', 'Bills', 'Bills', 'Bills', 'Bills', 'Bills', 'Bills', 'Bills', 'Bills', 'Bills', 'Bills', 'Bills', 'Bills', 'Bills', 'Bills', 'Bills', 'Bills', 'Bills', 'Bills', 'Bills', 'Bills', 'Bills', 'Bills', 'Bills', 'Bills', 'Bills', 'Bills', 'Bills', 'Bills', 'Bills', 'Bills', 'Bills', 'Bills', 'Claim form', 'Claim form', 'Claim form', 'Claim form', 'Claim form', 'Claim form', 'Claim form', 'Claim form', 'Claim form', 'Claim form', 'Claim form', 'Claim form', 'Claim form', 'Claim form', 'Claim form', 'Claim form', 'Claim form', 'Claim form', 'Claim form', 'Claim form', 'Claim form', 'Claim form', 'Claim form', 'Claim form', 'Claim form', 'Claim form', 'Claim form', 'Claim form', 'Claim form', 'Claim form', 'Claim form', 'Claim form', 'Claim form', 'Claim form', 'Claim form', 'Claim form', 'Claim form', 'Claim form', 'Claim form', 'Claim form', 'Claim form', 'Claim form', 'Claim form', 'Claim form', 'Claim form', 'Claim form', 'Claim form', 'Claim form', 'Claim form', 'Claim form', 'Claim form', 'Claim form', 'Claim form', 'Claim form', 'Claim form', 'Claim form', 'Claim form', 'Claim form', 'Claim form', 'Claim form', 'Claim form', 'Claim form', 'Claim form', 'Claim form', 'Claim form', 'Claim form', 'Claim form', 'Claim form', 'Claim form', 'Claim form', 'Death Certificate', 'Death Certificate', 'Death Certificate', 'Death Certificate', 'Death Certificate', 'Death Certificate', 'Death Certificate', 'Death Certificate', 'Death Certificate', 'Death Certificate', 'Death Certificate', 'Death Certificate', 'Death Certificate', 'Death Certificate', 'Death Certificate', 'Death Certificate', 'Death Certificate', 'Death Certificate', 'Death Certificate', 'Death Certificate', 'Death Certificate', 'Death Certificate', 'Death Certificate', 'Death Certificate', 'Death Certificate', 'Death Certificate', 'Death Certificate', 'Death Certificate', 'Death Certificate', 'Death Certificate', 'Death Certificate', 'Death Certificate', 'Death Certificate', 'Death Certificate', 'Death Certificate', 'Death Certificate', 'Death Certificate', 'Death Certificate', 'Doctor office visit record', 'Doctor office visit record', 'Doctor office visit record', 'Doctor office visit record', 'Doctor office visit record', 'Doctor office visit record', 'Doctor office visit record', 'Doctor office visit record', 'Doctor office visit record', 'Doctor office visit record', 'Doctor office visit record', 'Doctor office visit record', 'Doctor office visit record', 'Doctor office visit record', 'Doctor office visit record', 'Doctor office visit record', 'Doctor office visit record', 'Doctor office visit record', 'Doctor office visit record', 'Doctor office visit record', 'Doctor office visit record', 'Doctor office visit record', 'Doctor office visit record', 'Doctor office visit record', 'Doctor office visit record', 'Doctor office visit record', 'Doctor office visit record', 'Doctor office visit record', 'Doctor office visit record', 'Employer Form', 'Employer Form', 'Employer Form', 'Employer Form', 'Employer Form', 'Employer Form', 'Employer Form', 'Employer Form', 'Employer Form', 'Employer Form', 'Employer Form', 'Employer Form', 'Employer Form', 'Employer Form', 'Employer Form', 'Employer Form', 'Employer Form', 'Employer Form', 'Employer Form', 'Employer Form', 'Employer Form', 'Employer Form', 'Employer Form', 'Employer Form', 'Employer Form', 'Employer Form', 'Employer Form', 'Employer Form', 'Employer Form', 'Employer Form', 'Employer Form', 'Employer Form', 'Employer Form', 'Employer Form', 'Employer Form', 'EOB', 'EOB', 'EOB', 'EOB', 'EOB', 'EOB', 'EOB', 'EOB', 'EOB', 'EOB', 'EOB', 'EOB', 'EOB', 'EOB', 'EOB', 'EOB', 'EOB', 'EOB', 'EOB', 'EOB', 'EOB', 'EOB', 'EOB', 'EOB', 'EOB', 'EOB', 'EOB', 'EOB', 'EOB', 'EOB', 'EOB', 'EOB', 'EOB', 'EOB', 'EOB', 'EOB', 'Hospital Admission Records', 'Hospital Admission Records', 'Hospital Admission Records', 'Hospital Admission Records', 'Hospital Admission Records', 'Hospital Admission Records', 'Hospital Admission Records', 'Hospital Admission Records', 'Hospital Admission Records', 'Hospital Admission Records', 'Hospital Admission Records', 'Hospital Admission Records', 'Hospital Admission Records', 'Hospital Admission Records', 'Hospital Admission Records', 'Hospital Admission Records', 'Hospital Admission Records', 'Hospital Admission Records', 'Hospital Admission Records', 'Hospital Admission Records', 'Hospital Admission Records', 'Hospital Admission Records', 'Hospital Admission Records', 'Hospital Admission Records', 'Hospital Admission Records', 'Hospital Admission Records', 'Hospital Admission Records', 'Hospital Admission Records', 'Hospital Admission Records', 'Hospital Admission Records', 'Hospital Admission Records', 'Hospital RecordsPhysician Records', 'Hospital RecordsPhysician Records', 'Hospital RecordsPhysician Records', 'Hospital RecordsPhysician Records', 'Hospital RecordsPhysician Records', 'Hospital RecordsPhysician Records', 'Hospital RecordsPhysician Records', 'Hospital RecordsPhysician Records', 'Hospital RecordsPhysician Records', 'Hospital RecordsPhysician Records', 'Hospital RecordsPhysician Records', 'Hospital RecordsPhysician Records', 'Hospital RecordsPhysician Records', 'Hospital RecordsPhysician Records', 'Hospital RecordsPhysician Records', 'Hospital RecordsPhysician Records', 'Hospital RecordsPhysician Records', 'Hospital RecordsPhysician Records', 'Hospital RecordsPhysician Records', 'Hospital RecordsPhysician Records', 'Hospital RecordsPhysician Records', 'Hospital RecordsPhysician Records', 'Hospital RecordsPhysician Records', 'Hospital RecordsPhysician Records', 'Hospital RecordsPhysician Records', 'Hospital RecordsPhysician Records', 'Hospital RecordsPhysician Records', 'Hospital RecordsPhysician Records', 'Hospital RecordsPhysician Records', 'Hospital RecordsPhysician Records', 'Hospital RecordsPhysician Records', 'Hospital RecordsPhysician Records', 'Hospital RecordsPhysician Records', 'Hospital RecordsPhysician Records', 'Hospital RecordsPhysician Records', 'Hospital RecordsPhysician Records', 'Hospital RecordsPhysician Records', 'Hospital RecordsPhysician Records', 'Hospital RecordsPhysician Records', 'Imaging Report', 'Imaging Report', 'Imaging Report', 'Imaging Report', 'Imaging Report', 'Imaging Report', 'Imaging Report', 'Imaging Report', 'Imaging Report', 'Imaging Report', 'Imaging Report', 'Imaging Report', 'Imaging Report', 'Imaging Report', 'Imaging Report', 'Imaging Report', 'Imaging Report', 'Imaging Report', 'Imaging Report', 'Imaging Report', 'Imaging Report', 'Imaging Report', 'Imaging Report', 'Imaging Report', 'Imaging Report', 'Imaging Report', 'Imaging Report', 'Imaging Report', 'Imaging Report', 'Imaging Report', 'Imaging Report', 'Imaging Report', 'Imaging Report', 'Imaging Report', 'Imaging Report', 'Imaging Report', 'Imaging Report', 'Lab Report', 'Lab Report', 'Lab Report', 'Lab Report', 'Lab Report', 'Lab Report', 'Lab Report', 'Lab Report', 'Lab Report', 'Lab Report', 'Lab Report', 'Lab Report', 'Lab Report', 'Lab Report', 'Lab Report', 'Lab Report', 'Lab Report', 'Lab Report', 'Lab Report', 'Lab Report', 'Lab Report', 'Lab Report', 'Lab Report', 'Lab Report', 'Lab Report', 'Lab Report', 'Lab Report', 'Lab Report', 'Lab Report', 'Operative report', 'Operative report', 'Operative report', 'Operative report', 'Operative report', 'Operative report', 'Operative report', 'Operative report', 'Operative report', 'Operative report', 'Operative report', 'Operative report', 'Operative report', 'Operative report', 'Operative report', 'Operative report', 'Operative report', 'Operative report', 'Operative report', 'Operative report', 'Operative report', 'Operative report', 'Operative report', 'Operative report', 'Operative report', 'Operative report', 'Operative report', 'Operative report', 'Operative report', 'Operative report', 'Others', 'Others', 'Others', 'Others', 'Others', 'Others', 'Others', 'Others', 'Others', 'Others', 'Others', 'Others', 'Others', 'Others', 'Others', 'Others', 'Others', 'Others', 'Others', 'Others', 'Others', 'Others', 'Others', 'Others', 'Others', 'Others', 'Others', 'Others', 'Others', 'Others', 'Others', 'Others', 'Others', 'Others', 'Others', 'Others', 'Others', 'Others', 'Others', 'Others', 'Others', 'Others', 'Others', 'Others', 'Others', 'Others', 'Others', 'Others', 'Others', 'Others', 'Others', 'Others', 'Others', 'Others', 'Others', 'Others', 'Others', 'Others', 'Others', 'Others', 'Others', 'Others', 'Others', 'Others', 'Others', 'Others', 'Others', 'Others', 'Others', 'Others', 'Others', 'Others', 'Others', 'Others', 'Others', 'Others', 'Others', 'Others', 'Others', 'Others', 'Others', 'Others', 'Others', 'Others', 'Others', 'Others', 'Others', 'Others', 'Others', 'Others', 'Others', 'Others', 'Others', 'Others', 'Others', 'Others', 'Others', 'Others', 'Others', 'Others', 'Others', 'Others', 'Others', 'Others', 'Others', 'Others', 'Others', 'Others', 'Others', 'Others', 'Others', 'Others', 'Others', 'Others', 'Others', 'Others', 'Others', 'Others', 'Others', 'Others', 'Others', 'Others', 'Others', 'Others', 'Others', 'Others', 'Others', 'Pathology Report', 'Pathology Report', 'Pathology Report', 'Pathology Report', 'Pathology Report', 'Pathology Report', 'Pathology Report', 'Pathology Report', 'Pathology Report', 'Pathology Report', 'Pathology Report', 'Pathology Report', 'Pathology Report', 'Pathology Report', 'Pathology Report', 'Pathology Report', 'Pathology Report', 'Pathology Report', 'Pathology Report', 'Pathology Report', 'Pathology Report', 'Pathology Report', 'Pathology Report', 'Pathology Report', 'Pathology Report', 'Pathology Report', 'Pathology Report', 'Pathology Report', 'Pathology Report', 'Pathology Report', 'Pathology Report', 'Pathology Report', 'Police Report', 'Police Report', 'Police Report', 'Police Report', 'Police Report', 'Police Report', 'Police Report', 'Police Report', 'Police Report', 'Police Report', 'Police Report', 'Police Report', 'Police Report', 'Police Report', 'Police Report', 'Police Report', 'Police Report', 'Police Report', 'Police Report', 'Police Report', 'Police Report', 'Police Report', 'Police Report', 'Police Report', 'Police Report', 'Police Report', 'Police Report', 'Police Report', 'Police Report', 'Police Report', 'Police Report', 'Police Report', 'Police Report', 'Police Report', 'Police Report']\n"
     ]
    }
   ],
   "source": [
    "path = \"Received From Client\"\n",
    "dir_list_a = os.listdir(path)\n",
    "dir_list_a.pop(0)\n",
    "# print('dir',dir_list_a)\n",
    "final_dir_list=[]\n",
    "final_final_list=[]\n",
    "for direc in dir_list_a:\n",
    "    path1 = path+'/'+direc\n",
    "    dir_list = os.listdir(path1)\n",
    "#     print('dir_l',dir_list)\n",
    "    for file in dir_list:\n",
    "        if \".\" not in file:\n",
    "            dir_list.remove(file)\n",
    "            path1 = path1+'/'+file\n",
    "#             print(path)\n",
    "            dir1=os.listdir(path1)\n",
    "#             print('dir1',dir1)\n",
    "            dir_list = dir_list+dir1\n",
    "            for cf in dir_list:\n",
    "                if '.' not in file:\n",
    "                    print(file)\n",
    "                    break\n",
    "                shutil.copyfile(path1,r\"C:\\Users\\abhishek.cw.gupta\\Documents\\input\\{{file}}\")\n",
    "#     print(len(dir_list))\n",
    "    final_list=[]\n",
    "    for i in range(len(dir_list)):\n",
    "        final_list.append(direc)\n",
    "    final_final_list = final_final_list+final_list\n",
    "\n",
    "        \n",
    "#     print(final_list)\n",
    "#     print(\"Files and directories in '\", path, \"' :\")\n",
    "    # prints all files\n",
    "#     i=0\n",
    "#     for a in dir_list:\n",
    "#         final_list=final_list.append(direc)\n",
    "\n",
    "    final_dir_list = final_dir_list+dir_list\n",
    "#     print(dir_list)\n",
    "print(final_dir_list)\n",
    "print(final_final_list)"
   ]
  },
  {
   "cell_type": "code",
   "execution_count": 46,
   "id": "41091244",
   "metadata": {},
   "outputs": [
    {
     "name": "stdout",
     "output_type": "stream",
     "text": [
      "['dv 4 - Copy.pdf', 'dv 4.pdf', 'dv 5 - Copy.pdf', 'dv 5.pdf', 'dv 6 - Copy.pdf', 'dv 6.pdf', 'DV2.pdf', 'Post Sx 5.pdf', 'Post Sx 6.pdf', 'Sample APS 2 (1).pdf', 'Sample APS 6.pdf', 'sample aps 7.pdf', 'sample APS 8.pdf', 'Sample APS 9.pdf', 'Sample APS.pdf', '089001564211 Bills_2.pdf', '089001564211 Bills_3.pdf', '089001564211 Bills_4.pdf', '092001463423 UB04.pdf', '2024-09-16_14-24-39 UB04.pdf', 'AI UBO4 HOSPITAL BILL PROJECT.jpg', '089001563379 Claim Form.pdf', '089001563651 Claim Form.pdf', '089001563658 Claim Form.pdf', '092001463423 Claim Form.pdf', 'Hospital Claim form 10.pdf', 'Hospital Claim form 12.pdf', 'Hospital Claim form 13.pdf', 'Hospital Claim form 14.pdf', 'Hospital Claim form 15.pdf', 'Hospital Claim form 16.pdf', 'Hospital Claim form 17.pdf', 'Hospital Claim form 18.pdf', 'Hospital Claim form 19.pdf', 'Hospital-Indemnity-Claim-Form-ABJ10366-6.pdf', 'Sample ACCD Claim form 18.pdf', 'SAmple Accd Claim form 19.pdf', 'Sample Accd Claim form 20.pdf', 'steve claim.pdf', '077003221126 Death Cert.pdf', '087002180697 Death Cert.pdf', '089001583292 Death Cert.pdf', 'Proof of Death.pdf', 'redacted-death-certificate.PDF', 'Virginia Death Certificate.pdf', '089001563651 Notes.pdf', '089001568088 Office Notes.pdf', '092001828053.pdf', '121313265 Office Note.pdf', '2355656491 Office Notes.pdf', 'Dr. office visit 11.3.pdf', 'Visit Summary re.pdf', '063000462730 Employer Statement.pdf', '064000377213 Employer Statement.pdf', '064000381507 Employer Statement.pdf', '077000453117 Employers Statement.pdf', '109000449816 Employer Statement.pdf', '109001091012- sample 6.pdf', '089001579486 EOB.pdf', '092001323227 EOB.pdf', '092001597474 EOB.pdf', '092001609159 EOB.pdf', '092001742331 EOB.pdf', '092001978741 EOB.pdf', '092002264187 ADS - Copy.pdf', '092002264187 ADS.pdf', 'HD 1.pdf', 'HD 2.pdf', 'HD 3.pdf', 'HD 4.pdf', 'HD 5 - Copy.pdf', 'HD 5.pdf', 'HD 6.pdf', '382224 HSPR (red).pdf', 'Hos_Phy Rec 10pdf (red) - Copy.pdf', 'Hos_Phy Rec 10pdf (red).pdf', 'Hos_Phy Rec 16pdf (red) - Copy.pdf', 'Hos_Phy Rec 16pdf (red).pdf', 'Hos_Phy Rec 7pdf (red).pdf', 'Hos_Phy Rec 8pdf (red).pdf', 'Hos_Phy Rec 9pdf (red) - Copy.pdf', 'Hos_Phy Rec 9pdf (red).pdf', '092001579608 Imaging.pdf', '092002280012 Imaging.pdf', '092002280013 Imaging.pdf', 'Imaging report 7.pdf', 'IR 1.pdf', 'IR 2.pdf', 'IR 5.pdf', 'IRB 4.pdf', 'IRB.pdf', 'Lab report-13M.pdf', 'Lab report-14M.pdf', 'Lab report-16M.pdf', 'Lab report-17M.pdf', 'Lab report-18M.pdf', 'Lab report-19M.pdf', 'Lab report-6M.pdf', 'Operative Report 4.pdf', 'Operative Report 7.pdf', 'Operative Report 8.pdf', 'Operative Report 9.pdf', 'operativereport.pdf', 'Post Sx 3.pdf', 'procedure note.pdf', 'Others 84.pdf', 'Others 85.pdf', 'Others 87.pdf', 'Others 88.pdf', 'Others 89.pdf', 'Others 9.pdf', 'Others 90.pdf', 'Others 91.pdf', 'Others 92.pdf', 'Others 93.pdf', 'Others 94.pdf', 'Others 95.pdf', 'Others 96.pdf', 'Others 97.pdf', 'Others 98.pdf', 'others 99.pdf', '092001579603 Path.pdf', '092001596417 Path.pdf', '092001596669 Path.pdf', '092001744894 Path.pdf', '092001744898 Path.pdf', '092001744904 Path.pdf', '092001859972 Path.pdf', '2024-09-10_08-52-45 Path.pdf', '069000931039 Police Report.pdf', '070000620892 Police Report.pdf', '070001258129 Police Report.pdf', '070001969072 Police Report.pdf', '078001339221 Police Report.pdf', '109000218116 Police Report.pdf']\n",
      "['After Visit Summary', 'After Visit Summary', 'After Visit Summary', 'After Visit Summary', 'After Visit Summary', 'After Visit Summary', 'After Visit Summary', 'After Visit Summary', 'After Visit Summary', 'Attending Physician Statement', 'Attending Physician Statement', 'Attending Physician Statement', 'Attending Physician Statement', 'Attending Physician Statement', 'Attending Physician Statement', 'Bills', 'Bills', 'Bills', 'Bills', 'Bills', 'Bills', 'Claim form', 'Claim form', 'Claim form', 'Claim form', 'Claim form', 'Claim form', 'Claim form', 'Claim form', 'Claim form', 'Claim form', 'Claim form', 'Claim form', 'Claim form', 'Claim form', 'Claim form', 'Claim form', 'Claim form', 'Claim form', 'Death Certificate', 'Death Certificate', 'Death Certificate', 'Death Certificate', 'Death Certificate', 'Death Certificate', 'Doctor office visit record', 'Doctor office visit record', 'Doctor office visit record', 'Doctor office visit record', 'Doctor office visit record', 'Doctor office visit record', 'Doctor office visit record', 'Employer Form', 'Employer Form', 'Employer Form', 'Employer Form', 'Employer Form', 'Employer Form', 'EOB', 'EOB', 'EOB', 'EOB', 'EOB', 'EOB', 'Hospital Admission Records', 'Hospital Admission Records', 'Hospital Admission Records', 'Hospital Admission Records', 'Hospital Admission Records', 'Hospital Admission Records', 'Hospital Admission Records', 'Hospital Admission Records', 'Hospital Admission Records', 'Hospital RecordsPhysician Records', 'Hospital RecordsPhysician Records', 'Hospital RecordsPhysician Records', 'Hospital RecordsPhysician Records', 'Hospital RecordsPhysician Records', 'Hospital RecordsPhysician Records', 'Hospital RecordsPhysician Records', 'Hospital RecordsPhysician Records', 'Hospital RecordsPhysician Records', 'Imaging Report', 'Imaging Report', 'Imaging Report', 'Imaging Report', 'Imaging Report', 'Imaging Report', 'Imaging Report', 'Imaging Report', 'Imaging Report', 'Lab Report', 'Lab Report', 'Lab Report', 'Lab Report', 'Lab Report', 'Lab Report', 'Lab Report', 'Operative report', 'Operative report', 'Operative report', 'Operative report', 'Operative report', 'Operative report', 'Operative report', 'Others', 'Others', 'Others', 'Others', 'Others', 'Others', 'Others', 'Others', 'Others', 'Others', 'Others', 'Others', 'Others', 'Others', 'Others', 'Others', 'Pathology Report', 'Pathology Report', 'Pathology Report', 'Pathology Report', 'Pathology Report', 'Pathology Report', 'Pathology Report', 'Pathology Report', 'Police Report', 'Police Report', 'Police Report', 'Police Report', 'Police Report', 'Police Report']\n"
     ]
    }
   ],
   "source": [
    "path = \"Received From Client - test\"\n",
    "dir_list_a = os.listdir(path)\n",
    "dir_list_a.pop(0)\n",
    "# print('dir',dir_list_a)\n",
    "final_dir_list=[]\n",
    "final_final_list=[]\n",
    "for direc in dir_list_a:\n",
    "    path1 = path+'/'+direc\n",
    "    dir_list = os.listdir(path1)\n",
    "#     print('dir_l',dir_list)\n",
    "    for file in dir_list:\n",
    "        if \".\" not in file:\n",
    "            dir_list.remove(file)\n",
    "            path1 = path1+'/'+file\n",
    "#             print(path)\n",
    "            dir1=os.listdir(path1)\n",
    "#             print('dir1',dir1)\n",
    "            dir_list = dir_list+dir1\n",
    "#     print(len(dir_list))\n",
    "    final_list=[]\n",
    "    for i in range(len(dir_list)):\n",
    "        final_list.append(direc)\n",
    "    final_final_list = final_final_list+final_list\n",
    "\n",
    "        \n",
    "#     print(final_list)\n",
    "#     print(\"Files and directories in '\", path, \"' :\")\n",
    "    # prints all files\n",
    "#     i=0\n",
    "#     for a in dir_list:\n",
    "#         final_list=final_list.append(direc)\n",
    "\n",
    "    final_dir_list = final_dir_list+dir_list\n",
    "#     print(dir_list)\n",
    "print(final_dir_list)\n",
    "print(final_final_list)"
   ]
  },
  {
   "cell_type": "code",
   "execution_count": 47,
   "id": "8de6a747",
   "metadata": {},
   "outputs": [],
   "source": [
    "df_test=pd.DataFrame(final_dir_list,final_final_list).reset_index()"
   ]
  },
  {
   "cell_type": "code",
   "execution_count": 48,
   "id": "bb46d7e0",
   "metadata": {},
   "outputs": [
    {
     "data": {
      "text/html": [
       "<div>\n",
       "<style scoped>\n",
       "    .dataframe tbody tr th:only-of-type {\n",
       "        vertical-align: middle;\n",
       "    }\n",
       "\n",
       "    .dataframe tbody tr th {\n",
       "        vertical-align: top;\n",
       "    }\n",
       "\n",
       "    .dataframe thead th {\n",
       "        text-align: right;\n",
       "    }\n",
       "</style>\n",
       "<table border=\"1\" class=\"dataframe\">\n",
       "  <thead>\n",
       "    <tr style=\"text-align: right;\">\n",
       "      <th></th>\n",
       "      <th>index</th>\n",
       "      <th>0</th>\n",
       "    </tr>\n",
       "  </thead>\n",
       "  <tbody>\n",
       "    <tr>\n",
       "      <th>0</th>\n",
       "      <td>After Visit Summary</td>\n",
       "      <td>dv 4 - Copy.pdf</td>\n",
       "    </tr>\n",
       "    <tr>\n",
       "      <th>1</th>\n",
       "      <td>After Visit Summary</td>\n",
       "      <td>dv 4.pdf</td>\n",
       "    </tr>\n",
       "    <tr>\n",
       "      <th>2</th>\n",
       "      <td>After Visit Summary</td>\n",
       "      <td>dv 5 - Copy.pdf</td>\n",
       "    </tr>\n",
       "    <tr>\n",
       "      <th>3</th>\n",
       "      <td>After Visit Summary</td>\n",
       "      <td>dv 5.pdf</td>\n",
       "    </tr>\n",
       "    <tr>\n",
       "      <th>4</th>\n",
       "      <td>After Visit Summary</td>\n",
       "      <td>dv 6 - Copy.pdf</td>\n",
       "    </tr>\n",
       "    <tr>\n",
       "      <th>...</th>\n",
       "      <td>...</td>\n",
       "      <td>...</td>\n",
       "    </tr>\n",
       "    <tr>\n",
       "      <th>130</th>\n",
       "      <td>Police Report</td>\n",
       "      <td>070000620892 Police Report.pdf</td>\n",
       "    </tr>\n",
       "    <tr>\n",
       "      <th>131</th>\n",
       "      <td>Police Report</td>\n",
       "      <td>070001258129 Police Report.pdf</td>\n",
       "    </tr>\n",
       "    <tr>\n",
       "      <th>132</th>\n",
       "      <td>Police Report</td>\n",
       "      <td>070001969072 Police Report.pdf</td>\n",
       "    </tr>\n",
       "    <tr>\n",
       "      <th>133</th>\n",
       "      <td>Police Report</td>\n",
       "      <td>078001339221 Police Report.pdf</td>\n",
       "    </tr>\n",
       "    <tr>\n",
       "      <th>134</th>\n",
       "      <td>Police Report</td>\n",
       "      <td>109000218116 Police Report.pdf</td>\n",
       "    </tr>\n",
       "  </tbody>\n",
       "</table>\n",
       "<p>135 rows × 2 columns</p>\n",
       "</div>"
      ],
      "text/plain": [
       "                   index                               0\n",
       "0    After Visit Summary                 dv 4 - Copy.pdf\n",
       "1    After Visit Summary                        dv 4.pdf\n",
       "2    After Visit Summary                 dv 5 - Copy.pdf\n",
       "3    After Visit Summary                        dv 5.pdf\n",
       "4    After Visit Summary                 dv 6 - Copy.pdf\n",
       "..                   ...                             ...\n",
       "130        Police Report  070000620892 Police Report.pdf\n",
       "131        Police Report  070001258129 Police Report.pdf\n",
       "132        Police Report  070001969072 Police Report.pdf\n",
       "133        Police Report  078001339221 Police Report.pdf\n",
       "134        Police Report  109000218116 Police Report.pdf\n",
       "\n",
       "[135 rows x 2 columns]"
      ]
     },
     "execution_count": 48,
     "metadata": {},
     "output_type": "execute_result"
    }
   ],
   "source": [
    "df_test"
   ]
  },
  {
   "cell_type": "code",
   "execution_count": 49,
   "id": "ada2ee7e",
   "metadata": {},
   "outputs": [
    {
     "data": {
      "text/plain": [
       "135"
      ]
     },
     "execution_count": 49,
     "metadata": {},
     "output_type": "execute_result"
    }
   ],
   "source": [
    "len(df_test[0].unique())"
   ]
  },
  {
   "cell_type": "code",
   "execution_count": 67,
   "id": "e4edbd69",
   "metadata": {},
   "outputs": [],
   "source": [
    "df_test.to_csv('metadata_test.csv')"
   ]
  },
  {
   "cell_type": "code",
   "execution_count": 65,
   "id": "f9356016",
   "metadata": {},
   "outputs": [
    {
     "data": {
      "text/plain": [
       "Series([], Name: 0, dtype: object)"
      ]
     },
     "execution_count": 65,
     "metadata": {},
     "output_type": "execute_result"
    }
   ],
   "source": [
    "df_test[df_test[0].duplicated()==True][0]"
   ]
  },
  {
   "cell_type": "code",
   "execution_count": 60,
   "id": "acee79e4",
   "metadata": {},
   "outputs": [],
   "source": [
    "df=pd.DataFrame(final_dir_list,final_final_list).reset_index()"
   ]
  },
  {
   "cell_type": "code",
   "execution_count": 61,
   "id": "de10ebd1",
   "metadata": {},
   "outputs": [
    {
     "data": {
      "text/html": [
       "<div>\n",
       "<style scoped>\n",
       "    .dataframe tbody tr th:only-of-type {\n",
       "        vertical-align: middle;\n",
       "    }\n",
       "\n",
       "    .dataframe tbody tr th {\n",
       "        vertical-align: top;\n",
       "    }\n",
       "\n",
       "    .dataframe thead th {\n",
       "        text-align: right;\n",
       "    }\n",
       "</style>\n",
       "<table border=\"1\" class=\"dataframe\">\n",
       "  <thead>\n",
       "    <tr style=\"text-align: right;\">\n",
       "      <th></th>\n",
       "      <th>index</th>\n",
       "      <th>0</th>\n",
       "    </tr>\n",
       "  </thead>\n",
       "  <tbody>\n",
       "    <tr>\n",
       "      <th>0</th>\n",
       "      <td>After Visit Summary</td>\n",
       "      <td>0097aftervisitsummary.pdf</td>\n",
       "    </tr>\n",
       "    <tr>\n",
       "      <th>1</th>\n",
       "      <td>After Visit Summary</td>\n",
       "      <td>0297aftervisitsummary.pdf</td>\n",
       "    </tr>\n",
       "    <tr>\n",
       "      <th>2</th>\n",
       "      <td>After Visit Summary</td>\n",
       "      <td>3227aftervisitsummary.pdf</td>\n",
       "    </tr>\n",
       "    <tr>\n",
       "      <th>3</th>\n",
       "      <td>After Visit Summary</td>\n",
       "      <td>3667aftervisitsummary.pdf</td>\n",
       "    </tr>\n",
       "    <tr>\n",
       "      <th>4</th>\n",
       "      <td>After Visit Summary</td>\n",
       "      <td>507aftervisitsummary.pdf</td>\n",
       "    </tr>\n",
       "    <tr>\n",
       "      <th>...</th>\n",
       "      <td>...</td>\n",
       "      <td>...</td>\n",
       "    </tr>\n",
       "    <tr>\n",
       "      <th>666</th>\n",
       "      <td>Police Report</td>\n",
       "      <td>Police Report Sample 2.pdf</td>\n",
       "    </tr>\n",
       "    <tr>\n",
       "      <th>667</th>\n",
       "      <td>Police Report</td>\n",
       "      <td>ST Pete PD (red) - Copy.pdf</td>\n",
       "    </tr>\n",
       "    <tr>\n",
       "      <th>668</th>\n",
       "      <td>Police Report</td>\n",
       "      <td>ST Pete PD (red).pdf</td>\n",
       "    </tr>\n",
       "    <tr>\n",
       "      <th>669</th>\n",
       "      <td>Police Report</td>\n",
       "      <td>ST Pete PD - Copy.pdf</td>\n",
       "    </tr>\n",
       "    <tr>\n",
       "      <th>670</th>\n",
       "      <td>Police Report</td>\n",
       "      <td>ST Pete PD.pdf</td>\n",
       "    </tr>\n",
       "  </tbody>\n",
       "</table>\n",
       "<p>671 rows × 2 columns</p>\n",
       "</div>"
      ],
      "text/plain": [
       "                   index                            0\n",
       "0    After Visit Summary    0097aftervisitsummary.pdf\n",
       "1    After Visit Summary    0297aftervisitsummary.pdf\n",
       "2    After Visit Summary    3227aftervisitsummary.pdf\n",
       "3    After Visit Summary    3667aftervisitsummary.pdf\n",
       "4    After Visit Summary     507aftervisitsummary.pdf\n",
       "..                   ...                          ...\n",
       "666        Police Report   Police Report Sample 2.pdf\n",
       "667        Police Report  ST Pete PD (red) - Copy.pdf\n",
       "668        Police Report         ST Pete PD (red).pdf\n",
       "669        Police Report        ST Pete PD - Copy.pdf\n",
       "670        Police Report               ST Pete PD.pdf\n",
       "\n",
       "[671 rows x 2 columns]"
      ]
     },
     "execution_count": 61,
     "metadata": {},
     "output_type": "execute_result"
    }
   ],
   "source": [
    "df"
   ]
  },
  {
   "cell_type": "code",
   "execution_count": 62,
   "id": "bcf0d124",
   "metadata": {},
   "outputs": [
    {
     "data": {
      "text/plain": [
       "671"
      ]
     },
     "execution_count": 62,
     "metadata": {},
     "output_type": "execute_result"
    }
   ],
   "source": [
    "len(df[0].unique())"
   ]
  },
  {
   "cell_type": "code",
   "execution_count": 63,
   "id": "fd7a139f",
   "metadata": {},
   "outputs": [
    {
     "data": {
      "text/plain": [
       "671"
      ]
     },
     "execution_count": 63,
     "metadata": {},
     "output_type": "execute_result"
    }
   ],
   "source": [
    "len(df[0].unique())"
   ]
  },
  {
   "cell_type": "code",
   "execution_count": 64,
   "id": "f8600237",
   "metadata": {},
   "outputs": [
    {
     "data": {
      "text/plain": [
       "Series([], Name: 0, dtype: object)"
      ]
     },
     "execution_count": 64,
     "metadata": {},
     "output_type": "execute_result"
    }
   ],
   "source": [
    "df[df[0].duplicated()==True][0]"
   ]
  },
  {
   "cell_type": "code",
   "execution_count": 66,
   "id": "d78bf969",
   "metadata": {},
   "outputs": [],
   "source": [
    "df.to_csv('metadata.csv')"
   ]
  },
  {
   "cell_type": "code",
   "execution_count": 39,
   "id": "7462f716",
   "metadata": {},
   "outputs": [],
   "source": [
    "df1 = pd.read_csv('metadata.csv')"
   ]
  },
  {
   "cell_type": "code",
   "execution_count": 40,
   "id": "5bb120f5",
   "metadata": {},
   "outputs": [
    {
     "data": {
      "text/html": [
       "<div>\n",
       "<style scoped>\n",
       "    .dataframe tbody tr th:only-of-type {\n",
       "        vertical-align: middle;\n",
       "    }\n",
       "\n",
       "    .dataframe tbody tr th {\n",
       "        vertical-align: top;\n",
       "    }\n",
       "\n",
       "    .dataframe thead th {\n",
       "        text-align: right;\n",
       "    }\n",
       "</style>\n",
       "<table border=\"1\" class=\"dataframe\">\n",
       "  <thead>\n",
       "    <tr style=\"text-align: right;\">\n",
       "      <th></th>\n",
       "      <th>After Visit Summary</th>\n",
       "      <th>0097aftervisitsummary.pdf</th>\n",
       "    </tr>\n",
       "  </thead>\n",
       "  <tbody>\n",
       "    <tr>\n",
       "      <th>0</th>\n",
       "      <td>After Visit Summary</td>\n",
       "      <td>0297aftervisitsummary.pdf</td>\n",
       "    </tr>\n",
       "    <tr>\n",
       "      <th>1</th>\n",
       "      <td>After Visit Summary</td>\n",
       "      <td>3227aftervisitsummary.pdf</td>\n",
       "    </tr>\n",
       "    <tr>\n",
       "      <th>2</th>\n",
       "      <td>After Visit Summary</td>\n",
       "      <td>3667aftervisitsummary.pdf</td>\n",
       "    </tr>\n",
       "    <tr>\n",
       "      <th>3</th>\n",
       "      <td>After Visit Summary</td>\n",
       "      <td>507aftervisitsummary.pdf</td>\n",
       "    </tr>\n",
       "    <tr>\n",
       "      <th>4</th>\n",
       "      <td>After Visit Summary</td>\n",
       "      <td>5117aftervisitsummary.pdf</td>\n",
       "    </tr>\n",
       "    <tr>\n",
       "      <th>...</th>\n",
       "      <td>...</td>\n",
       "      <td>...</td>\n",
       "    </tr>\n",
       "    <tr>\n",
       "      <th>655</th>\n",
       "      <td>Police Report</td>\n",
       "      <td>Police Report Sample 2.pdf</td>\n",
       "    </tr>\n",
       "    <tr>\n",
       "      <th>656</th>\n",
       "      <td>Police Report</td>\n",
       "      <td>ST Pete PD (red) - Copy.pdf</td>\n",
       "    </tr>\n",
       "    <tr>\n",
       "      <th>657</th>\n",
       "      <td>Police Report</td>\n",
       "      <td>ST Pete PD (red).pdf</td>\n",
       "    </tr>\n",
       "    <tr>\n",
       "      <th>658</th>\n",
       "      <td>Police Report</td>\n",
       "      <td>ST Pete PD - Copy.pdf</td>\n",
       "    </tr>\n",
       "    <tr>\n",
       "      <th>659</th>\n",
       "      <td>Police Report</td>\n",
       "      <td>ST Pete PD.pdf</td>\n",
       "    </tr>\n",
       "  </tbody>\n",
       "</table>\n",
       "<p>660 rows × 2 columns</p>\n",
       "</div>"
      ],
      "text/plain": [
       "     After Visit Summary    0097aftervisitsummary.pdf\n",
       "0    After Visit Summary    0297aftervisitsummary.pdf\n",
       "1    After Visit Summary    3227aftervisitsummary.pdf\n",
       "2    After Visit Summary    3667aftervisitsummary.pdf\n",
       "3    After Visit Summary     507aftervisitsummary.pdf\n",
       "4    After Visit Summary    5117aftervisitsummary.pdf\n",
       "..                   ...                          ...\n",
       "655        Police Report   Police Report Sample 2.pdf\n",
       "656        Police Report  ST Pete PD (red) - Copy.pdf\n",
       "657        Police Report         ST Pete PD (red).pdf\n",
       "658        Police Report        ST Pete PD - Copy.pdf\n",
       "659        Police Report               ST Pete PD.pdf\n",
       "\n",
       "[660 rows x 2 columns]"
      ]
     },
     "execution_count": 40,
     "metadata": {},
     "output_type": "execute_result"
    }
   ],
   "source": [
    "df1"
   ]
  },
  {
   "cell_type": "code",
   "execution_count": 68,
   "id": "a30b11e4",
   "metadata": {},
   "outputs": [],
   "source": [
    "df1.groupby('After Visit Summary').count().to_csv('Doc_count.csv')"
   ]
  },
  {
   "cell_type": "code",
   "execution_count": 14,
   "id": "957cb123",
   "metadata": {},
   "outputs": [
    {
     "data": {
      "text/plain": [
       "571"
      ]
     },
     "execution_count": 14,
     "metadata": {},
     "output_type": "execute_result"
    }
   ],
   "source": [
    "len(df[0].unique())"
   ]
  },
  {
   "cell_type": "code",
   "execution_count": 52,
   "id": "6866a4fc",
   "metadata": {},
   "outputs": [
    {
     "data": {
      "text/html": [
       "<div>\n",
       "<style scoped>\n",
       "    .dataframe tbody tr th:only-of-type {\n",
       "        vertical-align: middle;\n",
       "    }\n",
       "\n",
       "    .dataframe tbody tr th {\n",
       "        vertical-align: top;\n",
       "    }\n",
       "\n",
       "    .dataframe thead th {\n",
       "        text-align: right;\n",
       "    }\n",
       "</style>\n",
       "<table border=\"1\" class=\"dataframe\">\n",
       "  <thead>\n",
       "    <tr style=\"text-align: right;\">\n",
       "      <th></th>\n",
       "      <th>index</th>\n",
       "      <th>0</th>\n",
       "    </tr>\n",
       "  </thead>\n",
       "  <tbody>\n",
       "  </tbody>\n",
       "</table>\n",
       "</div>"
      ],
      "text/plain": [
       "Empty DataFrame\n",
       "Columns: [index, 0]\n",
       "Index: []"
      ]
     },
     "execution_count": 52,
     "metadata": {},
     "output_type": "execute_result"
    }
   ],
   "source": [
    "df_test[df_test[0].str.startswith('_')]"
   ]
  },
  {
   "cell_type": "code",
   "execution_count": 92,
   "id": "7a99a06c",
   "metadata": {},
   "outputs": [
    {
     "data": {
      "text/html": [
       "<div>\n",
       "<style scoped>\n",
       "    .dataframe tbody tr th:only-of-type {\n",
       "        vertical-align: middle;\n",
       "    }\n",
       "\n",
       "    .dataframe tbody tr th {\n",
       "        vertical-align: top;\n",
       "    }\n",
       "\n",
       "    .dataframe thead th {\n",
       "        text-align: right;\n",
       "    }\n",
       "</style>\n",
       "<table border=\"1\" class=\"dataframe\">\n",
       "  <thead>\n",
       "    <tr style=\"text-align: right;\">\n",
       "      <th></th>\n",
       "      <th>index</th>\n",
       "      <th>0</th>\n",
       "    </tr>\n",
       "  </thead>\n",
       "  <tbody>\n",
       "    <tr>\n",
       "      <th>0</th>\n",
       "      <td>After Visit Summary</td>\n",
       "      <td>After visit record_Cancer Package 8.pdf</td>\n",
       "    </tr>\n",
       "    <tr>\n",
       "      <th>1</th>\n",
       "      <td>After Visit Summary</td>\n",
       "      <td>after visit summary1.pdf</td>\n",
       "    </tr>\n",
       "    <tr>\n",
       "      <th>2</th>\n",
       "      <td>After Visit Summary</td>\n",
       "      <td>After visit summary_ai testing 13.pdf</td>\n",
       "    </tr>\n",
       "    <tr>\n",
       "      <th>3</th>\n",
       "      <td>After Visit Summary</td>\n",
       "      <td>After visit summary_AI testing 4.pdf</td>\n",
       "    </tr>\n",
       "    <tr>\n",
       "      <th>4</th>\n",
       "      <td>After Visit Summary</td>\n",
       "      <td>After visit summary_AI_ACCD claim sample 5.pdf</td>\n",
       "    </tr>\n",
       "    <tr>\n",
       "      <th>...</th>\n",
       "      <td>...</td>\n",
       "      <td>...</td>\n",
       "    </tr>\n",
       "    <tr>\n",
       "      <th>116</th>\n",
       "      <td>Police Report</td>\n",
       "      <td>070000620892 Police Report.pdf</td>\n",
       "    </tr>\n",
       "    <tr>\n",
       "      <th>117</th>\n",
       "      <td>Police Report</td>\n",
       "      <td>070001258129 Police Report.pdf</td>\n",
       "    </tr>\n",
       "    <tr>\n",
       "      <th>118</th>\n",
       "      <td>Police Report</td>\n",
       "      <td>070001969072 Police Report.pdf</td>\n",
       "    </tr>\n",
       "    <tr>\n",
       "      <th>119</th>\n",
       "      <td>Police Report</td>\n",
       "      <td>078001339221 Police Report.pdf</td>\n",
       "    </tr>\n",
       "    <tr>\n",
       "      <th>120</th>\n",
       "      <td>Police Report</td>\n",
       "      <td>109000218116 Police Report.pdf</td>\n",
       "    </tr>\n",
       "  </tbody>\n",
       "</table>\n",
       "<p>121 rows × 2 columns</p>\n",
       "</div>"
      ],
      "text/plain": [
       "                   index                                               0\n",
       "0    After Visit Summary         After visit record_Cancer Package 8.pdf\n",
       "1    After Visit Summary                        after visit summary1.pdf\n",
       "2    After Visit Summary           After visit summary_ai testing 13.pdf\n",
       "3    After Visit Summary            After visit summary_AI testing 4.pdf\n",
       "4    After Visit Summary  After visit summary_AI_ACCD claim sample 5.pdf\n",
       "..                   ...                                             ...\n",
       "116        Police Report                  070000620892 Police Report.pdf\n",
       "117        Police Report                  070001258129 Police Report.pdf\n",
       "118        Police Report                  070001969072 Police Report.pdf\n",
       "119        Police Report                  078001339221 Police Report.pdf\n",
       "120        Police Report                  109000218116 Police Report.pdf\n",
       "\n",
       "[121 rows x 2 columns]"
      ]
     },
     "execution_count": 92,
     "metadata": {},
     "output_type": "execute_result"
    }
   ],
   "source": [
    "df_test"
   ]
  },
  {
   "cell_type": "code",
   "execution_count": 69,
   "id": "dfaa8c88",
   "metadata": {},
   "outputs": [
    {
     "data": {
      "text/html": [
       "<div>\n",
       "<style scoped>\n",
       "    .dataframe tbody tr th:only-of-type {\n",
       "        vertical-align: middle;\n",
       "    }\n",
       "\n",
       "    .dataframe tbody tr th {\n",
       "        vertical-align: top;\n",
       "    }\n",
       "\n",
       "    .dataframe thead th {\n",
       "        text-align: right;\n",
       "    }\n",
       "</style>\n",
       "<table border=\"1\" class=\"dataframe\">\n",
       "  <thead>\n",
       "    <tr style=\"text-align: right;\">\n",
       "      <th></th>\n",
       "      <th>index</th>\n",
       "      <th>0</th>\n",
       "    </tr>\n",
       "  </thead>\n",
       "  <tbody>\n",
       "  </tbody>\n",
       "</table>\n",
       "</div>"
      ],
      "text/plain": [
       "Empty DataFrame\n",
       "Columns: [index, 0]\n",
       "Index: []"
      ]
     },
     "execution_count": 69,
     "metadata": {},
     "output_type": "execute_result"
    }
   ],
   "source": [
    "df[df[0].str.startswith('_')]"
   ]
  },
  {
   "cell_type": "code",
   "execution_count": 53,
   "id": "7f6c87bc",
   "metadata": {},
   "outputs": [
    {
     "data": {
      "text/html": [
       "<div>\n",
       "<style scoped>\n",
       "    .dataframe tbody tr th:only-of-type {\n",
       "        vertical-align: middle;\n",
       "    }\n",
       "\n",
       "    .dataframe tbody tr th {\n",
       "        vertical-align: top;\n",
       "    }\n",
       "\n",
       "    .dataframe thead th {\n",
       "        text-align: right;\n",
       "    }\n",
       "</style>\n",
       "<table border=\"1\" class=\"dataframe\">\n",
       "  <thead>\n",
       "    <tr style=\"text-align: right;\">\n",
       "      <th></th>\n",
       "      <th>index</th>\n",
       "      <th>0</th>\n",
       "    </tr>\n",
       "  </thead>\n",
       "  <tbody>\n",
       "  </tbody>\n",
       "</table>\n",
       "</div>"
      ],
      "text/plain": [
       "Empty DataFrame\n",
       "Columns: [index, 0]\n",
       "Index: []"
      ]
     },
     "execution_count": 53,
     "metadata": {},
     "output_type": "execute_result"
    }
   ],
   "source": [
    "df_test[df_test[0].str.startswith('_')]"
   ]
  },
  {
   "cell_type": "code",
   "execution_count": 120,
   "id": "0873e544",
   "metadata": {},
   "outputs": [
    {
     "data": {
      "text/plain": [
       "array(['After Visit Summary', 'Attending Physician Statement', 'Bills',\n",
       "       'Claim Forms', 'Death Certificate',\n",
       "       '087002189909_Death certificate.pdf',\n",
       "       \"Doctor's office visit Records\", 'Employer Form', 'EOB',\n",
       "       'Hospital Admission', 'Hospital Physician Records',\n",
       "       'Hospital records-Post surgical note', 'Imaging Report',\n",
       "       'Lab Report', 'Operative Report', 'Pathology Report',\n",
       "       'Police Report'], dtype=object)"
      ]
     },
     "execution_count": 120,
     "metadata": {},
     "output_type": "execute_result"
    }
   ],
   "source": [
    "df['index'].unique()"
   ]
  },
  {
   "cell_type": "code",
   "execution_count": 52,
   "id": "e46e07e7",
   "metadata": {},
   "outputs": [
    {
     "ename": "NotADirectoryError",
     "evalue": "[WinError 267] The directory name is invalid: 'C:\\\\Users\\\\abhishek.cw.gupta\\\\Documents/ABCD_Abhishek_Gupta_13563763.pptx'",
     "output_type": "error",
     "traceback": [
      "\u001b[1;31m---------------------------------------------------------------------------\u001b[0m",
      "\u001b[1;31mNotADirectoryError\u001b[0m                        Traceback (most recent call last)",
      "Cell \u001b[1;32mIn[52], line 9\u001b[0m\n\u001b[0;32m      7\u001b[0m \u001b[38;5;28;01mfor\u001b[39;00m direc \u001b[38;5;129;01min\u001b[39;00m dir_list_a:\n\u001b[0;32m      8\u001b[0m     path1 \u001b[38;5;241m=\u001b[39m path\u001b[38;5;241m+\u001b[39m\u001b[38;5;124m'\u001b[39m\u001b[38;5;124m/\u001b[39m\u001b[38;5;124m'\u001b[39m\u001b[38;5;241m+\u001b[39mdirec\n\u001b[1;32m----> 9\u001b[0m     dir_list \u001b[38;5;241m=\u001b[39m \u001b[43mos\u001b[49m\u001b[38;5;241;43m.\u001b[39;49m\u001b[43mlistdir\u001b[49m\u001b[43m(\u001b[49m\u001b[43mpath1\u001b[49m\u001b[43m)\u001b[49m\n\u001b[0;32m     10\u001b[0m \u001b[38;5;66;03m#     print('dir_l',dir_list)\u001b[39;00m\n\u001b[0;32m     11\u001b[0m     \u001b[38;5;28;01mfor\u001b[39;00m file \u001b[38;5;129;01min\u001b[39;00m dir_list:\n",
      "\u001b[1;31mNotADirectoryError\u001b[0m: [WinError 267] The directory name is invalid: 'C:\\\\Users\\\\abhishek.cw.gupta\\\\Documents/ABCD_Abhishek_Gupta_13563763.pptx'"
     ]
    }
   ],
   "source": [
    "path = r\"C:\\Users\\abhishek.cw.gupta\\Documents\"\n",
    "dir_list_a = os.listdir(path)\n",
    "dir_list_a.pop(0)\n",
    "# print('dir',dir_list_a)\n",
    "final_dir_list=[]\n",
    "final_final_list=[]\n",
    "for direc in dir_list_a:\n",
    "    path1 = path+'/'+direc\n",
    "    dir_list = os.listdir(path1)\n",
    "#     print('dir_l',dir_list)\n",
    "    for file in dir_list:\n",
    "        if \".\" not in file:\n",
    "            dir_list.remove(file)\n",
    "            path1 = path1+'/'+file\n",
    "#             print(path)\n",
    "            dir1=os.listdir(path1)\n",
    "#             print('dir1',dir1)\n",
    "            dir_list = dir_list+dir1\n",
    "#     print(len(dir_list))\n",
    "    final_list=[]\n",
    "    for i in range(len(dir_list)):\n",
    "        final_list.append(direc)\n",
    "    final_final_list = final_final_list+final_list\n",
    "\n",
    "        \n",
    "#     print(final_list)\n",
    "#     print(\"Files and directories in '\", path, \"' :\")\n",
    "    # prints all files\n",
    "#     i=0\n",
    "#     for a in dir_list:\n",
    "#         final_list=final_list.append(direc)\n",
    "\n",
    "    final_dir_list = final_dir_list+dir_list\n",
    "#     print(dir_list)\n",
    "print(final_dir_list)\n",
    "print(final_final_list)"
   ]
  },
  {
   "cell_type": "code",
   "execution_count": 112,
   "id": "f6eb6003",
   "metadata": {},
   "outputs": [],
   "source": [
    "df.to_csv('metadata.csv')"
   ]
  },
  {
   "cell_type": "code",
   "execution_count": 144,
   "id": "58bd2e15",
   "metadata": {},
   "outputs": [
    {
     "data": {
      "text/plain": [
       "375"
      ]
     },
     "execution_count": 144,
     "metadata": {},
     "output_type": "execute_result"
    }
   ],
   "source": [
    "dir_list_input"
   ]
  },
  {
   "cell_type": "code",
   "execution_count": 81,
   "id": "4cfe52cc",
   "metadata": {},
   "outputs": [
    {
     "data": {
      "text/plain": [
       "674"
      ]
     },
     "execution_count": 81,
     "metadata": {},
     "output_type": "execute_result"
    }
   ],
   "source": [
    "path_input = r\"C:\\Users\\abhishek.cw.gupta\\Documents\\input\"\n",
    "dir_list_input = os.listdir(path_input)\n",
    "len(dir_list_input)"
   ]
  },
  {
   "cell_type": "code",
   "execution_count": 82,
   "id": "b48caa80",
   "metadata": {},
   "outputs": [
    {
     "data": {
      "text/html": [
       "<div>\n",
       "<style scoped>\n",
       "    .dataframe tbody tr th:only-of-type {\n",
       "        vertical-align: middle;\n",
       "    }\n",
       "\n",
       "    .dataframe tbody tr th {\n",
       "        vertical-align: top;\n",
       "    }\n",
       "\n",
       "    .dataframe thead th {\n",
       "        text-align: right;\n",
       "    }\n",
       "</style>\n",
       "<table border=\"1\" class=\"dataframe\">\n",
       "  <thead>\n",
       "    <tr style=\"text-align: right;\">\n",
       "      <th></th>\n",
       "      <th>index</th>\n",
       "      <th>0</th>\n",
       "    </tr>\n",
       "  </thead>\n",
       "  <tbody>\n",
       "  </tbody>\n",
       "</table>\n",
       "</div>"
      ],
      "text/plain": [
       "Empty DataFrame\n",
       "Columns: [index, 0]\n",
       "Index: []"
      ]
     },
     "execution_count": 82,
     "metadata": {},
     "output_type": "execute_result"
    }
   ],
   "source": [
    "df[df[0].isin(dir_list_input)==False]"
   ]
  },
  {
   "cell_type": "code",
   "execution_count": 56,
   "id": "02884c18",
   "metadata": {},
   "outputs": [
    {
     "data": {
      "text/plain": [
       "135"
      ]
     },
     "execution_count": 56,
     "metadata": {},
     "output_type": "execute_result"
    }
   ],
   "source": [
    "path_test_data = r\"C:\\Users\\abhishek.cw.gupta\\Documents\\test_data\"\n",
    "dir_list_test_data = os.listdir(path_test_data)\n",
    "len(dir_list_test_data)"
   ]
  },
  {
   "cell_type": "code",
   "execution_count": 57,
   "id": "b36472c3",
   "metadata": {},
   "outputs": [
    {
     "data": {
      "text/html": [
       "<div>\n",
       "<style scoped>\n",
       "    .dataframe tbody tr th:only-of-type {\n",
       "        vertical-align: middle;\n",
       "    }\n",
       "\n",
       "    .dataframe tbody tr th {\n",
       "        vertical-align: top;\n",
       "    }\n",
       "\n",
       "    .dataframe thead th {\n",
       "        text-align: right;\n",
       "    }\n",
       "</style>\n",
       "<table border=\"1\" class=\"dataframe\">\n",
       "  <thead>\n",
       "    <tr style=\"text-align: right;\">\n",
       "      <th></th>\n",
       "      <th>index</th>\n",
       "      <th>0</th>\n",
       "    </tr>\n",
       "  </thead>\n",
       "  <tbody>\n",
       "  </tbody>\n",
       "</table>\n",
       "</div>"
      ],
      "text/plain": [
       "Empty DataFrame\n",
       "Columns: [index, 0]\n",
       "Index: []"
      ]
     },
     "execution_count": 57,
     "metadata": {},
     "output_type": "execute_result"
    }
   ],
   "source": [
    "df_test[df_test[0].isin(dir_list_test_data)==False]"
   ]
  },
  {
   "cell_type": "code",
   "execution_count": 11,
   "id": "86965f8e",
   "metadata": {},
   "outputs": [
    {
     "data": {
      "text/plain": [
       "663"
      ]
     },
     "execution_count": 11,
     "metadata": {},
     "output_type": "execute_result"
    }
   ],
   "source": [
    "path_input = r\"C:\\Users\\abhishek.cw.gupta\\Documents\\input\"\n",
    "dir_list_input = os.listdir(path_input)\n",
    "len(dir_list_input)"
   ]
  },
  {
   "cell_type": "code",
   "execution_count": 72,
   "id": "367ca3a4",
   "metadata": {},
   "outputs": [
    {
     "data": {
      "text/plain": [
       "674"
      ]
     },
     "execution_count": 72,
     "metadata": {},
     "output_type": "execute_result"
    }
   ],
   "source": [
    "len(set(dir_list_input))"
   ]
  },
  {
   "cell_type": "code",
   "execution_count": 27,
   "id": "1409b3f1",
   "metadata": {},
   "outputs": [
    {
     "data": {
      "text/plain": [
       "132"
      ]
     },
     "execution_count": 27,
     "metadata": {},
     "output_type": "execute_result"
    }
   ],
   "source": []
  },
  {
   "cell_type": "code",
   "execution_count": 58,
   "id": "605a807a",
   "metadata": {},
   "outputs": [
    {
     "data": {
      "text/plain": [
       "135"
      ]
     },
     "execution_count": 58,
     "metadata": {},
     "output_type": "execute_result"
    }
   ],
   "source": [
    "len(set(dir_list_test_data))"
   ]
  },
  {
   "cell_type": "code",
   "execution_count": 74,
   "id": "0874d947",
   "metadata": {},
   "outputs": [
    {
     "data": {
      "text/plain": [
       "809"
      ]
     },
     "execution_count": 74,
     "metadata": {},
     "output_type": "execute_result"
    }
   ],
   "source": [
    "dir_list_total = dir_list_input + dir_list_test_data\n",
    "len(dir_list_total)"
   ]
  },
  {
   "cell_type": "code",
   "execution_count": 75,
   "id": "53e06782",
   "metadata": {},
   "outputs": [],
   "source": [
    "dir_set_total = set(dir_list_total)"
   ]
  },
  {
   "cell_type": "code",
   "execution_count": 76,
   "id": "54638003",
   "metadata": {},
   "outputs": [
    {
     "data": {
      "text/plain": [
       "806"
      ]
     },
     "execution_count": 76,
     "metadata": {},
     "output_type": "execute_result"
    }
   ],
   "source": [
    "len(dir_set_total)"
   ]
  },
  {
   "cell_type": "code",
   "execution_count": 83,
   "id": "d82d36c6",
   "metadata": {},
   "outputs": [
    {
     "data": {
      "text/html": [
       "<div>\n",
       "<style scoped>\n",
       "    .dataframe tbody tr th:only-of-type {\n",
       "        vertical-align: middle;\n",
       "    }\n",
       "\n",
       "    .dataframe tbody tr th {\n",
       "        vertical-align: top;\n",
       "    }\n",
       "\n",
       "    .dataframe thead th {\n",
       "        text-align: right;\n",
       "    }\n",
       "</style>\n",
       "<table border=\"1\" class=\"dataframe\">\n",
       "  <thead>\n",
       "    <tr style=\"text-align: right;\">\n",
       "      <th></th>\n",
       "      <th>index</th>\n",
       "      <th>0</th>\n",
       "    </tr>\n",
       "  </thead>\n",
       "  <tbody>\n",
       "  </tbody>\n",
       "</table>\n",
       "</div>"
      ],
      "text/plain": [
       "Empty DataFrame\n",
       "Columns: [index, 0]\n",
       "Index: []"
      ]
     },
     "execution_count": 83,
     "metadata": {},
     "output_type": "execute_result"
    }
   ],
   "source": [
    "df[df[0].isin(dir_list_total)==False]"
   ]
  },
  {
   "cell_type": "code",
   "execution_count": 77,
   "id": "8ed23ba6",
   "metadata": {},
   "outputs": [
    {
     "data": {
      "text/html": [
       "<div>\n",
       "<style scoped>\n",
       "    .dataframe tbody tr th:only-of-type {\n",
       "        vertical-align: middle;\n",
       "    }\n",
       "\n",
       "    .dataframe tbody tr th {\n",
       "        vertical-align: top;\n",
       "    }\n",
       "\n",
       "    .dataframe thead th {\n",
       "        text-align: right;\n",
       "    }\n",
       "</style>\n",
       "<table border=\"1\" class=\"dataframe\">\n",
       "  <thead>\n",
       "    <tr style=\"text-align: right;\">\n",
       "      <th></th>\n",
       "      <th>index</th>\n",
       "      <th>0</th>\n",
       "    </tr>\n",
       "  </thead>\n",
       "  <tbody>\n",
       "    <tr>\n",
       "      <th>0</th>\n",
       "      <td>After Visit Summary</td>\n",
       "      <td>0097aftervisitsummary.pdf</td>\n",
       "    </tr>\n",
       "    <tr>\n",
       "      <th>1</th>\n",
       "      <td>After Visit Summary</td>\n",
       "      <td>0297aftervisitsummary.pdf</td>\n",
       "    </tr>\n",
       "    <tr>\n",
       "      <th>2</th>\n",
       "      <td>After Visit Summary</td>\n",
       "      <td>3227aftervisitsummary.pdf</td>\n",
       "    </tr>\n",
       "    <tr>\n",
       "      <th>3</th>\n",
       "      <td>After Visit Summary</td>\n",
       "      <td>3667aftervisitsummary.pdf</td>\n",
       "    </tr>\n",
       "    <tr>\n",
       "      <th>4</th>\n",
       "      <td>After Visit Summary</td>\n",
       "      <td>507aftervisitsummary.pdf</td>\n",
       "    </tr>\n",
       "    <tr>\n",
       "      <th>...</th>\n",
       "      <td>...</td>\n",
       "      <td>...</td>\n",
       "    </tr>\n",
       "    <tr>\n",
       "      <th>666</th>\n",
       "      <td>Police Report</td>\n",
       "      <td>Police Report Sample 2.pdf</td>\n",
       "    </tr>\n",
       "    <tr>\n",
       "      <th>667</th>\n",
       "      <td>Police Report</td>\n",
       "      <td>ST Pete PD (red) - Copy.pdf</td>\n",
       "    </tr>\n",
       "    <tr>\n",
       "      <th>668</th>\n",
       "      <td>Police Report</td>\n",
       "      <td>ST Pete PD (red).pdf</td>\n",
       "    </tr>\n",
       "    <tr>\n",
       "      <th>669</th>\n",
       "      <td>Police Report</td>\n",
       "      <td>ST Pete PD - Copy.pdf</td>\n",
       "    </tr>\n",
       "    <tr>\n",
       "      <th>670</th>\n",
       "      <td>Police Report</td>\n",
       "      <td>ST Pete PD.pdf</td>\n",
       "    </tr>\n",
       "  </tbody>\n",
       "</table>\n",
       "<p>671 rows × 2 columns</p>\n",
       "</div>"
      ],
      "text/plain": [
       "                   index                            0\n",
       "0    After Visit Summary    0097aftervisitsummary.pdf\n",
       "1    After Visit Summary    0297aftervisitsummary.pdf\n",
       "2    After Visit Summary    3227aftervisitsummary.pdf\n",
       "3    After Visit Summary    3667aftervisitsummary.pdf\n",
       "4    After Visit Summary     507aftervisitsummary.pdf\n",
       "..                   ...                          ...\n",
       "666        Police Report   Police Report Sample 2.pdf\n",
       "667        Police Report  ST Pete PD (red) - Copy.pdf\n",
       "668        Police Report         ST Pete PD (red).pdf\n",
       "669        Police Report        ST Pete PD - Copy.pdf\n",
       "670        Police Report               ST Pete PD.pdf\n",
       "\n",
       "[671 rows x 2 columns]"
      ]
     },
     "execution_count": 77,
     "metadata": {},
     "output_type": "execute_result"
    }
   ],
   "source": [
    "df[df[0].isin(dir_list_test_data)==False]"
   ]
  },
  {
   "cell_type": "code",
   "execution_count": 80,
   "id": "1388a8ac",
   "metadata": {},
   "outputs": [
    {
     "data": {
      "text/plain": [
       "0    dv 4 - Copy.pdf\n",
       "2    dv 5 - Copy.pdf\n",
       "4    dv 6 - Copy.pdf\n",
       "Name: 0, dtype: object"
      ]
     },
     "execution_count": 80,
     "metadata": {},
     "output_type": "execute_result"
    }
   ],
   "source": [
    "df_test[df_test[0].isin(dir_list_input)==True][0]"
   ]
  },
  {
   "cell_type": "code",
   "execution_count": 64,
   "id": "6ff9d174",
   "metadata": {},
   "outputs": [],
   "source": [
    "a=['a','b','c','d']"
   ]
  },
  {
   "cell_type": "code",
   "execution_count": 58,
   "id": "14a4fbc9",
   "metadata": {},
   "outputs": [],
   "source": [
    "a.append('v')"
   ]
  },
  {
   "cell_type": "code",
   "execution_count": 59,
   "id": "78dd6b64",
   "metadata": {},
   "outputs": [
    {
     "data": {
      "text/plain": [
       "['c', 'd', 'v']"
      ]
     },
     "execution_count": 59,
     "metadata": {},
     "output_type": "execute_result"
    }
   ],
   "source": [
    "a"
   ]
  },
  {
   "cell_type": "code",
   "execution_count": 20,
   "id": "8ea0ce97",
   "metadata": {},
   "outputs": [],
   "source": [
    "r=a.pop(0)"
   ]
  },
  {
   "cell_type": "code",
   "execution_count": 22,
   "id": "d1ec6365",
   "metadata": {},
   "outputs": [
    {
     "data": {
      "text/plain": [
       "'b'"
      ]
     },
     "execution_count": 22,
     "metadata": {},
     "output_type": "execute_result"
    }
   ],
   "source": [
    "r"
   ]
  },
  {
   "cell_type": "code",
   "execution_count": 23,
   "id": "c84e89de",
   "metadata": {},
   "outputs": [
    {
     "ename": "ValueError",
     "evalue": "list.remove(x): x not in list",
     "output_type": "error",
     "traceback": [
      "\u001b[1;31m---------------------------------------------------------------------------\u001b[0m",
      "\u001b[1;31mValueError\u001b[0m                                Traceback (most recent call last)",
      "Cell \u001b[1;32mIn[23], line 1\u001b[0m\n\u001b[1;32m----> 1\u001b[0m \u001b[43ma\u001b[49m\u001b[38;5;241;43m.\u001b[39;49m\u001b[43mremove\u001b[49m\u001b[43m(\u001b[49m\u001b[38;5;124;43m'\u001b[39;49m\u001b[38;5;124;43mb\u001b[39;49m\u001b[38;5;124;43m'\u001b[39;49m\u001b[43m)\u001b[49m\n",
      "\u001b[1;31mValueError\u001b[0m: list.remove(x): x not in list"
     ]
    }
   ],
   "source": [
    "a.remove('b')"
   ]
  },
  {
   "cell_type": "code",
   "execution_count": 67,
   "id": "b32b6587",
   "metadata": {},
   "outputs": [],
   "source": [
    "l=[]"
   ]
  },
  {
   "cell_type": "code",
   "execution_count": 68,
   "id": "66a342d9",
   "metadata": {},
   "outputs": [],
   "source": [
    "l.append('a')"
   ]
  },
  {
   "cell_type": "code",
   "execution_count": 69,
   "id": "b44793cf",
   "metadata": {},
   "outputs": [
    {
     "data": {
      "text/plain": [
       "['a']"
      ]
     },
     "execution_count": 69,
     "metadata": {},
     "output_type": "execute_result"
    }
   ],
   "source": [
    "l"
   ]
  },
  {
   "cell_type": "code",
   "execution_count": 83,
   "id": "9ef18698",
   "metadata": {},
   "outputs": [],
   "source": [
    "l=[]\n",
    "for i in range(29):\n",
    "    l.append('a')"
   ]
  },
  {
   "cell_type": "code",
   "execution_count": 84,
   "id": "9ac3a788",
   "metadata": {},
   "outputs": [
    {
     "data": {
      "text/plain": [
       "['a',\n",
       " 'a',\n",
       " 'a',\n",
       " 'a',\n",
       " 'a',\n",
       " 'a',\n",
       " 'a',\n",
       " 'a',\n",
       " 'a',\n",
       " 'a',\n",
       " 'a',\n",
       " 'a',\n",
       " 'a',\n",
       " 'a',\n",
       " 'a',\n",
       " 'a',\n",
       " 'a',\n",
       " 'a',\n",
       " 'a',\n",
       " 'a',\n",
       " 'a',\n",
       " 'a',\n",
       " 'a',\n",
       " 'a',\n",
       " 'a',\n",
       " 'a',\n",
       " 'a',\n",
       " 'a',\n",
       " 'a']"
      ]
     },
     "execution_count": 84,
     "metadata": {},
     "output_type": "execute_result"
    }
   ],
   "source": [
    "l"
   ]
  },
  {
   "cell_type": "code",
   "execution_count": 102,
   "id": "afae4c03",
   "metadata": {},
   "outputs": [
    {
     "name": "stdout",
     "output_type": "stream",
     "text": [
      "Received From Client - test/After Visit Summary\n",
      "['after visit summary1.pdf', 'dv 4.pdf', 'dv 5.pdf', 'dv 6.pdf', 'DV2.pdf', 'Visit Summary re.pdf']\n",
      "Received From Client - test/Attending Physician Statement\n",
      "['Sample APS 2 (1).pdf', 'Sample APS 6.pdf', 'sample aps 7.pdf', 'sample APS 8.pdf', 'Sample APS 9.pdf', 'Sample APS.pdf']\n",
      "Received From Client - test/Bills\n",
      "['089001564211 Bills_2.pdf', '089001564211 Bills_3.pdf', '089001564211 Bills_4.pdf', 'Sample - UB04']\n",
      "Received From Client - test/Claim form\n",
      "['ACCD Claim form 1.pdf', 'ACCD Claim form 10.pdf', 'ACCD Claim form 11.pdf', 'ACCD Claim form 12.pdf', 'ACCD Claim form 13.pdf', 'ACCD Claim form 14.pdf', 'ACCD Claim form 15.pdf', 'ACCD Claim Form 16.pdf', 'cancer claim form 1.pdf', 'cancer claim form 10.pdf', 'cancer claim form 11.pdf', 'cancer claim form 12.pdf', 'cancer claim form 13.pdf', 'cancer claim form 14.pdf', 'cancer claim form 16.pdf', 'cancer claim form 18.pdf', 'Claim form 10 CI.pdf', 'CR Illness Claim form 1 CI.pdf', 'CR Illness Claim form 1.pdf', 'CR Illness Claim form 2 CI.pdf', 'Cr Illness Claim form 3 CI.pdf', 'CR Illness Claim form 7.pdf', 'Cr Illness Claim form 8.pdf', 'Hospital Claim form 15.pdf', 'Hospital Claim form 16.pdf', 'Hospital Claim form 17.pdf', 'Hospital Claim form 18.pdf', 'Hospital Claim form 19.pdf', 'Hospital Claim form 2.pdf', 'Hospital Claim form 3.pdf', 'Hospital Claim form 8.pdf', 'Hospital Claim form.pdf']\n",
      "Received From Client - test/Death Certificate\n",
      "['077003221126 Death Cert.pdf', '082000151094 Death Cert.pdf', '087002180697 Death Cert.pdf', '087002189909_Death certificate.pdf', '087002210034 Death Cert.pdf', '089000790814 Death Cert.pdf', '089001583292 Death Cert.pdf', '089001943233 Death Cert.pdf', '092001459902 Death Cert.pdf', '092002382030 Death Cert.pdf', '110000523062 Death Cert.pdf', '16180 DC (red).pdf', '23062 DC (red).pdf', 'Death Cert Example (red).pdf', 'Death Certificate 1.pdf', 'Death Certificate 2.pdf', 'Downloaded Items']\n",
      "Received From Client - test/Doctor office visit record\n",
      "['089001563651 Notes.pdf', '089001568088 Office Notes.pdf', '092001828053.pdf', '121313265 Office Note.pdf', '2355656491 Office Notes.pdf', 'Dr Office Visit 1.pdf', 'Dr Office Visit 10.pdf', 'Dr Office Visit 11.pdf', 'Dr Office Visit 12.pdf', 'Dr Office Visit 13.pdf', 'Dr Office Visit 14.pdf', 'Dr Office Visit 15.pdf', 'Dr Office Visit 16.pdf', 'Dr Office Visit 17.pdf', 'Dr Office Visit 18.pdf', 'Dr Office Visit 19.pdf', 'Dr Office Visit 2.pdf', 'Dr Office Visit 20.pdf', 'Dr Office Visit 21.pdf', 'Dr Office Visit 22.pdf', 'Dr Office Visit 23.pdf', 'Dr Office Visit 24.pdf', 'Dr Office Visit 25.pdf', 'Dr Office Visit 26.pdf', 'Dr Office Visit 3.pdf', 'Dr Office Visit 4.pdf', 'Dr Office Visit 5.pdf', 'Dr Office Visit 6.pdf', 'Dr Office Visit 7.pdf', 'Dr Office Visit 8.pdf', 'Dr Office Visit 9.pdf', 'OV.pdf', 'visit records.pdf']\n",
      "Received From Client - test/Employer Form\n",
      "['030001943124- samp 7.pdf', '063000462730 Employer Statement.pdf', '064000377213 Employer Statement.pdf', '064000381507 Employer Statement.pdf', '077000453117 Employers Statement.pdf', '077001432009- Samp 3.pdf', '109000449816 Employer Statement.pdf', '109000989884- Samp 2.pdf', '109001071729- Samp 5.pdf', '109001091012- sample 6.pdf', 'EF 1.pdf', 'EF 2.pdf', 'EF 3.pdf', 'EF 4.pdf', 'EF 5.pdf', 'EF 6.pdf', 'EF 7.pdf', 'EFD 1.pdf', 'EFD 2.pdf', 'EFD 3.pdf', 'EFD 4.pdf', 'Employer Form 1.pdf', 'Employer Form 2.pdf', 'Employer Form 3.pdf', 'Employer Form 4.pdf', 'Employer Form 5.pdf', 'Employer Form 6.pdf', 'Emp_Form 1.pdf', 'Emp_Form 2.pdf', 'Sample 8.pdf']\n",
      "Received From Client - test/EOB\n",
      "['089001563322 Bill4.pdf', '089001563569 EOB1.pdf', '089001563569 EOB2.pdf', '089001579486 EOB.pdf', '092001323227 EOB.pdf', '092001597474 EOB.pdf', '092001609159 EOB.pdf', '092001742331 EOB.pdf', '092001978741 EOB.pdf', '240108218_EOB.pdf', '240197044_EOB.pdf', '240237673L.pdf', '240248401_EOB.pdf', '240326247.pdf', '240326338.pdf', '240327326.pdf', '240337818.pdf', 'dcn240317588.pdf', 'EOB 08900.pdf', 'EOB 089001130244.pdf', 'EOB 092001624009.pdf', 'EOB 1.pdf', 'EOB 2.pdf', 'EOB 3.pdf', 'EOB 4.pdf', 'EOB 5.pdf', 'EOB 6.pdf', 'EOB 7.pdf', 'EOB 8.pdf', 'EOB 9.pdf']\n",
      "Received From Client - test/Hospital Admission Records\n",
      "['077001723741 AD (red).pdf', '092002264187 ADS.pdf', '32351 ADMDSCHG (red).pdf', '48579 ADMDSCHG (red).pdf', '69018 ADMDSCHG (red).pdf', '73179 ADMDSCHG (red).pdf', '77391 ADMDSCHG (red).pdf', '98769 ADMDSCHG (red).pdf', 'AD 2.pdf', 'AD 3.pdf', 'AD 4.pdf', 'AD 6.pdf', 'Admission_Discharge Summary 10.pdf', 'Admission_Discharge Summary 11.pdf', 'Admission_Discharge Summary 2.pdf', 'Admission_Discharge Summary 3.pdf', 'Admission_Discharge Summary 4.pdf', 'Admission_Discharge Summary 5.pdf', 'Admission_Discharge Summary 6.pdf', 'Admission_Discharge Summary 7.pdf', 'Admission_Discharge Summary 8.pdf', 'Admission_Discharge Summary 9.pdf', 'Admission_Discharge Summary.pdf', 'HD 1.pdf', 'HD 2.pdf', 'HD 3.pdf', 'HD 4.pdf', 'HD 5.pdf', 'HD 6.pdf']\n",
      "Received From Client - test/Hospital RecordsPhysician Records\n",
      "['382224 HSPR (red).pdf', '74898 HSPR (red).pdf', '77770 HSPR (red).pdf', '808662 HSPR (red).pdf', 'Hospital Record 1.pdf', 'Hospital Record 2.pdf', 'Hospital Record 3.pdf', 'Hospital Record 4.pdf', 'Hospital Record 5.pdf', 'Hospital Record 6.pdf', 'Hospital Record 7.pdf', 'Hospital Record 8.pdf', 'Hos_Phy Rec 1 (red).pdf', 'Hos_Phy Rec 10pdf (red).pdf', 'Hos_Phy Rec 11pdf (red).pdf', 'Hos_Phy Rec 12pdf (red).pdf', 'Hos_Phy Rec 13pdf (red).pdf', 'Hos_Phy Rec 14pdf (red).pdf', 'Hos_Phy Rec 15pdf (red).pdf', 'Hos_Phy Rec 16pdf (red).pdf', 'Hos_Phy Rec 2pdf (red).pdf', 'Hos_Phy Rec 3pdf (red).pdf', 'Hos_Phy Rec 5pdf (red).pdf', 'Hos_Phy Rec 6pdf (red).pdf', 'Hos_Phy Rec 7pdf (red).pdf', 'Hos_Phy Rec 8pdf (red).pdf', 'Hos_Phy Rec 9pdf (red).pdf', 'HSPR Example.pdf']\n",
      "Received From Client - test/Imaging Report\n",
      "['0377medicalimagingreport.pdf', '089001958586 Imaging.pdf', '092001579608 Imaging.pdf', '092002280012 Imaging.pdf', '092002280013 Imaging.pdf', '5107medicalimagingreport.pdf', '5477imaging.pdf', '7617medicalimaging.pdf', 'Imaging 1.pdf', 'imaging 2.pdf', 'Imaging Report 1.pdf', 'Imaging Report 2.pdf', 'Imaging Report 3.pdf', 'Imaging Report 4.pdf', 'Imaging Report 5.pdf', 'Imaging Report 6.pdf', 'Imaging report 7.pdf', 'IMR.pdf', 'IR 1.pdf', 'IR 2.pdf', 'IR 3.pdf', 'IR 4.pdf', 'IR 5.pdf', 'IR.pdf', 'IRB 3.pdf', 'IRB 4.pdf', 'IRB.pdf']\n",
      "Received From Client - test/Lab Report\n",
      "['1887labreport.pdf', '2197labreport.pdf', '227labreport.pdf', '357labreport.pdf', '80372LABREPORT.pdf', '8037LABREPORT.pdf', '987labreport.pdf', 'Lab 20M.pdf', 'Lab 21M.pdf', 'Lab 22M.pdf', 'Lab 23M.pdf', 'Lab 24M.pdf', 'Lab report -12M.pdf', 'Lab Report 25M.pdf', 'Lab report-10M.pdf', 'Lab report-11M.pdf', 'Lab report-13M.pdf', 'Lab report-14M.pdf', 'Lab report-16M.pdf', 'Lab report-17M.pdf', 'Lab report-18M.pdf', 'Lab report-19M.pdf', 'Lab report-1M.pdf', 'Lab report-2M.pdf', 'Lab report-3M.pdf', 'Lab report-4M.pdf', 'Lab report-5M.pdf', 'Lab report-6M.pdf', 'Lab report-9M.pdf', 'Lap report-7M.pdf']\n",
      "Received From Client - test/Operative report\n",
      "['1167operative report.pdf', '1327operative report.pdf', 'After visit summary 2.pdf', 'After visit summary.pdf', 'Doc 1.pdf', 'Doc 2.pdf', 'doc 3.pdf', 'doc 4.pdf', 'doc 5.pdf', 'doc 6.pdf', 'doc 7.pdf', 'Doctor office visit 2.pdf', 'Doctor office visit 3.pdf', 'Doctor office visit.pdf', 'Downloaded docs', 'Operative note.pdf', 'Operative Report 1.pdf', 'Operative Report 2.pdf', 'Operative Report 3.pdf', 'Operative Report 4.pdf', 'Operative Report 5.pdf', 'Operative Report 6.pdf', 'Operative Report 7.pdf', 'Operative Report 8.pdf', 'Operative Report 9.pdf', 'operativereport.pdf', 'Post Sx 1.pdf', 'Post Sx 2.pdf', 'Post Sx 3.pdf', 'Post Sx 4.pdf', 'Post Sx 5.pdf', 'Post Sx 6.pdf', 'procedure note.pdf']\n",
      "Received From Client - test/Pathology Report\n",
      "['089001161060 Path.pdf', '089001441811 Path.pdf', '089001563379 Path.pdf', '089001563651 Path.pdf', '089001612868 Path.pdf', '092001518895 Path.pdf', '092001567663.pdf', '092001578353 Path-Bill.pdf', '092001579603 Path.pdf', '092001596417 Path.pdf', '092001596669 Path.pdf', '092001609304.pdf', '092001744894 Path.pdf', '092001744898 Path.pdf', '092001744904 Path.pdf', '092001828053 Path.pdf', '092001859640 Path.pdf', '092001859972 Path.pdf', '092001861317 Path.pdf', '092001861708 Path.pdf', '092001862022 Path.pdf', '092001970716 Path.pdf', '2024-09-10_08-52-45 Path.pdf', 'Path 1.pdf', 'path 2.pdf', 'path 3.pdf', 'Path 4.pdf', 'path 5.pdf', 'Path.pdf', 'pathology 7.pdf']\n",
      "Received From Client - test/Police Report\n",
      "['069000931039 Police Report.pdf', '070000620892 Police Report.pdf', '070001258129 Police Report.pdf', '070001969072 Police Report.pdf', '078001339221 Police Report.pdf', '078001931001 Police Report.pdf', '109000218116 Police Report.pdf', '110000137288 Police Report.pdf', 'Belmont Crash (red).pdf', 'Belmont Crash.pdf', 'Police Report 2.pdf', 'Police Report 3.pdf', 'Police Report 4.pdf', 'Police Report 5.pdf', 'police report 6.pdf', 'Police Report Example 1.pdf', 'Police Report Example 10.pdf', 'Police Report Example 11.pdf', 'Police Report Example 2.pdf', 'Police Report Example 3.pdf', 'Police Report Example 4.pdf', 'Police Report Example 5.pdf', 'Police Report Example 6.pdf', 'Police Report Example 7.pdf', 'Police Report Example 8.pdf', 'Police Report Example 9.pdf', 'Police Report Sample 1.pdf', 'Police Report Sample 2.pdf', 'ST Pete PD (red).pdf', 'ST Pete PD.pdf']\n"
     ]
    }
   ],
   "source": [
    "path = \"Received From Client - test\"\n",
    "dir_list_a = os.listdir(path)\n",
    "dir_list_a.pop(0)\n",
    "# print('dir',dir_list_a)\n",
    "final_dir_list=[]\n",
    "final_final_list=[]\n",
    "for direc in dir_list_a:\n",
    "    path1 = path+'/'+direc\n",
    "    print(path1)\n",
    "    dir_list = os.listdir(path1)\n",
    "    print(dir_list)\n",
    "    for rfile in dir_list:\n",
    "        if \".\" not in rfile:\n",
    "            dir_list.remove(rfile)\n",
    "            for rfilea in dir_list:\n",
    "                if rfilea not in dir_list_test_data:\n",
    "                    os.remove(path1+'/'+rfilea)\n",
    "#     print('dir_l',dir_list)\n",
    "    for file in dir_list:\n",
    "        if \".\" not in file:\n",
    "            dir_list.remove(file)\n",
    "            path1 = path1+'/'+file\n",
    "#             print(path1)\n",
    "            dir1=os.listdir(path1)\n",
    "            for rfilein in dir1:\n",
    "                if rfilein not in dir_list_test_data:\n",
    "                    os.remove(path1+'/'+rfilein)\n",
    "#             print('dir1',dir1)\n",
    "            dir_list = dir_list+dir1\n",
    "#     print(len(dir_list))\n",
    "    final_list=[]\n",
    "    for i in range(len(dir_list)):\n",
    "        final_list.append(direc)\n",
    "    final_final_list = final_final_list+final_list\n",
    "\n",
    "        \n",
    "#     print(final_list)\n",
    "#     print(\"Files and directories in '\", path, \"' :\")\n",
    "    # prints all files\n",
    "#     i=0\n",
    "#     for a in dir_list:\n",
    "#         final_list=final_list.append(direc)\n",
    "\n",
    "    final_dir_list = final_dir_list+dir_list\n",
    "#     print(dir_list)\n",
    "# print(final_dir_list)\n",
    "# print(final_final_list)"
   ]
  },
  {
   "cell_type": "code",
   "execution_count": 87,
   "id": "a607ed0c",
   "metadata": {},
   "outputs": [
    {
     "data": {
      "text/plain": [
       "['Police Report',\n",
       " 'Police Report',\n",
       " 'Police Report',\n",
       " 'Police Report',\n",
       " 'Police Report',\n",
       " 'Police Report',\n",
       " 'Police Report',\n",
       " 'Police Report',\n",
       " 'Police Report',\n",
       " 'Police Report',\n",
       " 'Police Report',\n",
       " 'Police Report',\n",
       " 'Police Report',\n",
       " 'Police Report',\n",
       " 'Police Report',\n",
       " 'Police Report',\n",
       " 'Police Report',\n",
       " 'Police Report',\n",
       " 'Police Report',\n",
       " 'Police Report',\n",
       " 'Police Report',\n",
       " 'Police Report',\n",
       " 'Police Report',\n",
       " 'Police Report',\n",
       " 'Police Report',\n",
       " 'Police Report',\n",
       " 'Police Report',\n",
       " 'Police Report',\n",
       " 'Police Report',\n",
       " 'Police Report']"
      ]
     },
     "execution_count": 87,
     "metadata": {},
     "output_type": "execute_result"
    }
   ],
   "source": []
  },
  {
   "cell_type": "code",
   "execution_count": 91,
   "id": "645282a5",
   "metadata": {},
   "outputs": [
    {
     "data": {
      "text/plain": [
       "['005837280_1-dcb12be6c23ef1371ebbca1cd6a1eade.png',\n",
       " '063000462730 Employer Statement.pdf',\n",
       " '064000377213 Employer Statement.pdf',\n",
       " '064000381507 Employer Statement.pdf',\n",
       " '069000931039 Police Report.pdf',\n",
       " '070000620892 Police Report.pdf',\n",
       " '070001258129 Police Report.pdf',\n",
       " '070001969072 Police Report.pdf',\n",
       " '077000453117 Employers Statement.pdf',\n",
       " '077003221126 Death Cert.pdf',\n",
       " '078001339221 Police Report.pdf',\n",
       " '087002180697 Death Cert.pdf',\n",
       " '089001563651 Notes.pdf',\n",
       " '089001564211 Bills_2.pdf',\n",
       " '089001564211 Bills_3.pdf',\n",
       " '089001564211 Bills_4.pdf',\n",
       " '089001568088 Office Notes.pdf',\n",
       " '089001579486 EOB.pdf',\n",
       " '089001583292 Death Cert.pdf',\n",
       " '092001323227 EOB.pdf',\n",
       " '092001463423 UB04.pdf',\n",
       " '092001579603 Path.pdf',\n",
       " '092001579608 Imaging.pdf',\n",
       " '092001596417 Path.pdf',\n",
       " '092001596669 Path.pdf',\n",
       " '092001597474 EOB.pdf',\n",
       " '092001609159 EOB.pdf',\n",
       " '092001742331 EOB.pdf',\n",
       " '092001744894 Path.pdf',\n",
       " '092001744898 Path.pdf',\n",
       " '092001828053.pdf',\n",
       " '092001978741 EOB.pdf',\n",
       " '092002264187 ADS.pdf',\n",
       " '092002280012 Imaging.pdf',\n",
       " '092002280013 Imaging.pdf',\n",
       " '109000218116 Police Report.pdf',\n",
       " '109000449816 Employer Statement.pdf',\n",
       " '109001091012- sample 6.pdf',\n",
       " '121313265 Office Note.pdf',\n",
       " '2024-09-10_08-52-45 Path.pdf',\n",
       " '2024-09-16_14-24-39 UB04.pdf',\n",
       " '2355656491 Office Notes.pdf',\n",
       " '382224 HSPR (red).pdf',\n",
       " 'after visit summary1.pdf',\n",
       " 'AI UBO4 HOSPITAL BILL PROJECT.jpg',\n",
       " 'Doc 1.pdf',\n",
       " 'Dr Office Visit 9.pdf',\n",
       " 'dv 4.pdf',\n",
       " 'dv 5.pdf',\n",
       " 'dv 6.pdf',\n",
       " 'DV2.pdf',\n",
       " 'HD 1.pdf',\n",
       " 'HD 2.pdf',\n",
       " 'HD 4.pdf',\n",
       " 'HD 5.pdf',\n",
       " 'HD 6.pdf',\n",
       " 'Hospital Claim form 16.pdf',\n",
       " 'Hospital Claim form 17.pdf',\n",
       " 'Hospital Claim form 2.pdf',\n",
       " 'Hospital Claim form 3.pdf',\n",
       " 'Hospital Claim form 8.pdf',\n",
       " 'Hospital Claim form.pdf',\n",
       " 'Hos_Phy Rec 10pdf (red).pdf',\n",
       " 'Hos_Phy Rec 16pdf (red).pdf',\n",
       " 'Hos_Phy Rec 6pdf (red).pdf',\n",
       " 'Hos_Phy Rec 9pdf (red).pdf',\n",
       " 'IRB 3.pdf',\n",
       " 'IRB 4.pdf',\n",
       " 'Lab report-1M.pdf',\n",
       " 'Lab report-2M.pdf',\n",
       " 'Lab report-3M.pdf',\n",
       " 'Lab report-6M.pdf',\n",
       " 'Lab report-9M.pdf',\n",
       " 'Lap report-7M.pdf',\n",
       " 'OIP.jpg',\n",
       " 'Operative report 4.png',\n",
       " 'Operative Report Example.pdf',\n",
       " 'Proof of Death.pdf',\n",
       " 'redacted-death-certificate.PDF',\n",
       " 'Sample APS 2 (1).pdf',\n",
       " 'Sample APS 6.pdf',\n",
       " 'sample aps 7.pdf',\n",
       " 'sample APS 8.pdf',\n",
       " 'Sample APS 9.pdf',\n",
       " 'Sample APS.pdf',\n",
       " 'sample-operative-note-with-operative-report-template.png',\n",
       " 'Virginia Death Certificate.pdf',\n",
       " 'Visit Summary re.pdf']"
      ]
     },
     "execution_count": 91,
     "metadata": {},
     "output_type": "execute_result"
    }
   ],
   "source": [
    "dir_list_test_data"
   ]
  },
  {
   "cell_type": "code",
   "execution_count": 132,
   "id": "0aeda922",
   "metadata": {},
   "outputs": [],
   "source": [
    "path = \"Received From Client - test/Claim form\"\n",
    "dir_list_a = os.listdir(path)\n",
    "for file in dir_list_a:\n",
    "    if file not in dir_list_test_data:\n",
    "        os.remove(path+\"/\"+file)"
   ]
  },
  {
   "cell_type": "code",
   "execution_count": 133,
   "id": "ca34b24f",
   "metadata": {},
   "outputs": [],
   "source": [
    "path = \"Received From Client/Claim form\"\n",
    "dir_list_a = os.listdir(path)\n",
    "for file in dir_list_a:\n",
    "    if file in dir_list_test_data:\n",
    "        os.remove(path+\"/\"+file)"
   ]
  },
  {
   "cell_type": "code",
   "execution_count": 165,
   "id": "81bc18e6",
   "metadata": {},
   "outputs": [
    {
     "name": "stdout",
     "output_type": "stream",
     "text": [
      "0 * Received From Client * ['.ipynb_checkpoints', 'After Visit Summary', 'Attending Physician Statement', 'Bills', 'Claim form', 'Death Certificate', 'Doctor office visit record', 'Employer Form', 'EOB', 'Hospital Admission Records', 'Hospital RecordsPhysician Records', 'Imaging Report', 'Lab Report', 'Operative report', 'Pathology Report', 'Police Report'] * []\n",
      "1 * Received From Client\\.ipynb_checkpoints * [] * []\n",
      "2 * Received From Client\\After Visit Summary * [] * ['0097aftervisitsummary.pdf', '0297aftervisitsummary.pdf', '3227aftervisitsummary.pdf', '3667aftervisitsummary.pdf', '507aftervisitsummary.pdf', '5117aftervisitsummary.pdf', '5327aftervisitsummary.pdf', '5647aftervisitsummary.pdf', '5867medical imaging.pdf', 'afv.pdf', 'AVS 1.pdf', 'AVS 2.pdf', 'AVS 3.pdf', 'AVS 4.pdf', 'AVS 5.pdf', 'AVS 6.pdf', 'AVS 7.pdf', 'AVS 8.pdf', 'AVS 9.pdf', 'Doctor Visit 1.pdf', 'Doctor Visit 2.pdf', 'DV 1.pdf', 'DV 3.pdf']\n",
      "co 1\n",
      "co 2\n",
      "co 3\n",
      "co 4\n",
      "co 5\n",
      "co 6\n",
      "co 7\n",
      "co 8\n",
      "co 9\n",
      "co 10\n",
      "co 11\n",
      "co 12\n",
      "co 13\n",
      "co 14\n",
      "co 15\n",
      "co 16\n",
      "co 17\n",
      "co 18\n",
      "co 19\n",
      "co 20\n",
      "co 21\n",
      "co 22\n",
      "co 23\n",
      "3 * Received From Client\\Attending Physician Statement * [] * ['089001564979 APS.pdf', '089001575133 APS.pdf', '089001612266 APS.pdf', '092001504440 APS.pdf', '092001601229 APS.pdf', '092001850464 APS.pdf', '092001862025 APS.pdf', '3947APS_Redacted.pdf', 'AI_ACCD_Attending Physician Statement 2.pdf', 'APS 2.pdf', 'APS 3.pdf', 'APS 4.pdf', 'APS 5.pdf', 'APS 6.pdf', 'APS 7.pdf', 'APS 8.pdf', 'APS 9.pdf', 'APS AI.pdf', 'aps.pdf', 'Sample APS 10.pdf', 'Sample APS 2.pdf', 'sample APS 3.pdf', 'sample APS 4.pdf', 'Sample APS 5.pdf']\n",
      "co 1\n",
      "co 2\n",
      "co 3\n",
      "co 4\n",
      "co 5\n",
      "co 6\n",
      "co 7\n",
      "co 8\n",
      "co 9\n",
      "co 10\n",
      "co 11\n",
      "co 12\n",
      "co 13\n",
      "co 14\n",
      "co 15\n",
      "co 16\n",
      "co 17\n",
      "co 18\n",
      "co 19\n",
      "co 20\n",
      "co 21\n",
      "co 22\n",
      "co 23\n",
      "co 24\n",
      "4 * Received From Client\\Bills * ['Sample - UB04'] * ['089001282579 (s)Bill.pdf', '089001282579 Bill.pdf', '089001562710 Bill.pdf', '089001563322 Bill1.pdf', '089001563322 Bill2.pdf', '089001563322 Bill3.pdf', '089001563387 Bill1.pdf', '089001563387 Bill2.pdf', '089001563387 Bill3.pdf', '089001563586 Bill.pdf', '089001563662.pdf', '089001563672 (s)bill.pdf', '089001563672 bill.pdf', '089001564211 Bills_1.pdf', '089001564211 Bills_5.pdf', '089001564211 Bills_6.pdf', '089001564211 Bills_7.pdf', '089001564211 Bills_8.pdf', '2024-09-10_08-53-33 Bill.pdf', 'AI ITEMIZED HOSP BILL PROJECT.pdf', 'claim form9.pdf', 'IB 1.pdf', 'IB 2.pdf', 'IB 3.pdf', 'ib 4.pdf', 'IB 5.pdf', 'ib 6.pdf', 'IRB 2.pdf']\n",
      "co 1\n",
      "co 2\n",
      "co 3\n",
      "co 4\n",
      "co 5\n",
      "co 6\n",
      "co 7\n",
      "co 8\n",
      "co 9\n",
      "co 10\n",
      "co 11\n",
      "co 12\n",
      "co 13\n",
      "co 14\n",
      "co 15\n",
      "co 16\n",
      "co 17\n",
      "co 18\n",
      "co 19\n",
      "co 20\n",
      "co 21\n",
      "co 22\n",
      "co 23\n",
      "co 24\n",
      "co 25\n",
      "co 26\n",
      "co 27\n",
      "co 28\n",
      "5 * Received From Client\\Bills\\Sample - UB04 * [] * []\n",
      "6 * Received From Client\\Claim form * [] * ['ACCD Claim form 1.pdf', 'ACCD Claim form 10.pdf', 'ACCD Claim form 11.pdf', 'ACCD Claim form 12.pdf', 'ACCD Claim form 13.pdf', 'ACCD Claim form 14.pdf', 'ACCD Claim form 15.pdf', 'ACCD Claim Form 16.pdf', 'cancer claim form 1.pdf', 'cancer claim form 10.pdf', 'cancer claim form 11.pdf', 'cancer claim form 12.pdf', 'cancer claim form 13.pdf', 'cancer claim form 14.pdf', 'cancer claim form 16.pdf', 'cancer claim form 18.pdf', 'Claim form 10 CI.pdf', 'CR Illness Claim form 1 CI.pdf', 'CR Illness Claim form 1.pdf', 'CR Illness Claim form 2 CI.pdf', 'Cr Illness Claim form 3 CI.pdf', 'CR Illness Claim form 7.pdf', 'Cr Illness Claim form 8.pdf', 'Hospital Claim form 15.pdf', 'Hospital Claim form 18.pdf', 'Hospital Claim form 19.pdf']\n",
      "co 1\n",
      "co 2\n",
      "co 3\n",
      "co 4\n",
      "co 5\n",
      "co 6\n",
      "co 7\n",
      "co 8\n",
      "co 9\n",
      "co 10\n",
      "co 11\n",
      "co 12\n",
      "co 13\n",
      "co 14\n",
      "co 15\n",
      "co 16\n",
      "co 17\n",
      "co 18\n",
      "co 19\n",
      "co 20\n",
      "co 21\n",
      "co 22\n",
      "co 23\n",
      "co 24\n",
      "co 25\n",
      "co 26\n",
      "7 * Received From Client\\Death Certificate * ['Downloaded Items'] * ['082000151094 Death Cert.pdf', '087002189909_Death certificate.pdf', '087002210034 Death Cert.pdf', '089000790814 Death Cert.pdf', '089001943233 Death Cert.pdf', '092001459902 Death Cert.pdf', '092002382030 Death Cert.pdf', '110000523062 Death Cert.pdf', '16180 DC (red).pdf', '23062 DC (red).pdf', 'Death Cert Example (red).pdf', 'Death Certificate 1.pdf', 'Death Certificate 2.pdf']\n",
      "co 1\n",
      "co 2\n",
      "co 3\n",
      "co 4\n",
      "co 5\n",
      "co 6\n",
      "co 7\n",
      "co 8\n",
      "co 9\n",
      "co 10\n",
      "co 11\n",
      "co 12\n",
      "co 13\n",
      "8 * Received From Client\\Death Certificate\\Downloaded Items * [] * ['Apostille-Death-Certificate.pdf', 'DC-1024x791.PDF', 'Death Cert of a Dude.pdf', 'Death Cert Temp.pdf', 'death-certificate.PDF', 'FL Death Cert.pdf', 'florida-death-certification-without-cause-of-death_2023.PDF', 'Illinois Death Cert.pdf', 'Indiana Death Cert.pdf', 'Iowa Death Cert.pdf', 'Mass Death Cert.PDF', 'NY Death Cert.pdf', 'OIP 1.pdf', 'OIP Redacted.PDF', 'Rudolph_Death Cer.pdf']\n",
      "co 1\n",
      "co 2\n",
      "co 3\n",
      "co 4\n",
      "co 5\n",
      "co 6\n",
      "co 7\n",
      "co 8\n",
      "co 9\n",
      "co 10\n",
      "co 11\n",
      "co 12\n",
      "co 13\n",
      "co 14\n",
      "co 15\n",
      "9 * Received From Client\\Doctor office visit record * [] * ['Dr Office Visit 1.pdf', 'Dr Office Visit 10.pdf', 'Dr Office Visit 11.pdf', 'Dr Office Visit 12.pdf', 'Dr Office Visit 13.pdf', 'Dr Office Visit 14.pdf', 'Dr Office Visit 15.pdf', 'Dr Office Visit 16.pdf', 'Dr Office Visit 17.pdf', 'Dr Office Visit 18.pdf', 'Dr Office Visit 19.pdf', 'Dr Office Visit 2.pdf', 'Dr Office Visit 20.pdf', 'Dr Office Visit 21.pdf', 'Dr Office Visit 22.pdf', 'Dr Office Visit 23.pdf', 'Dr Office Visit 24.pdf', 'Dr Office Visit 25.pdf', 'Dr Office Visit 26.pdf', 'Dr Office Visit 3.pdf', 'Dr Office Visit 4.pdf', 'Dr Office Visit 5.pdf', 'Dr Office Visit 6.pdf', 'Dr Office Visit 7.pdf', 'Dr Office Visit 8.pdf', 'OV.pdf', 'visit records.pdf']\n",
      "co 1\n",
      "co 2\n",
      "co 3\n",
      "co 4\n",
      "co 5\n",
      "co 6\n",
      "co 7\n",
      "co 8\n",
      "co 9\n",
      "co 10\n",
      "co 11\n",
      "co 12\n",
      "co 13\n",
      "co 14\n",
      "co 15\n",
      "co 16\n",
      "co 17\n",
      "co 18\n",
      "co 19\n",
      "co 20\n",
      "co 21\n",
      "co 22\n",
      "co 23\n",
      "co 24\n",
      "co 25\n",
      "co 26\n",
      "co 27\n",
      "10 * Received From Client\\Employer Form * [] * ['030001943124- samp 7.pdf', '077001432009- Samp 3.pdf', '109000989884- Samp 2.pdf', '109001071729- Samp 5.pdf', 'EF 1.pdf', 'EF 2.pdf', 'EF 3.pdf', 'EF 4.pdf', 'EF 5.pdf', 'EF 6.pdf', 'EF 7.pdf', 'EFD 1.pdf', 'EFD 2.pdf', 'EFD 3.pdf', 'EFD 4.pdf', 'Employer Form 1.pdf', 'Employer Form 2.pdf', 'Employer Form 3.pdf', 'Employer Form 4.pdf', 'Employer Form 5.pdf', 'Employer Form 6.pdf', 'Emp_Form 1.pdf', 'Emp_Form 2.pdf', 'Sample 8.pdf']\n",
      "co 1\n",
      "co 2\n",
      "co 3\n",
      "co 4\n",
      "co 5\n",
      "co 6\n",
      "co 7\n",
      "co 8\n",
      "co 9\n",
      "co 10\n",
      "co 11\n",
      "co 12\n",
      "co 13\n",
      "co 14\n",
      "co 15\n",
      "co 16\n",
      "co 17\n",
      "co 18\n",
      "co 19\n",
      "co 20\n",
      "co 21\n",
      "co 22\n",
      "co 23\n",
      "co 24\n",
      "11 * Received From Client\\EOB * [] * ['089001563322 Bill4.pdf', '089001563569 EOB1.pdf', '089001563569 EOB2.pdf', '240108218_EOB.pdf', '240197044_EOB.pdf', '240237673L.pdf', '240248401_EOB.pdf', '240326247.pdf', '240326338.pdf', '240327326.pdf', '240337818.pdf', 'dcn240317588.pdf', 'EOB 08900.pdf', 'EOB 089001130244.pdf', 'EOB 092001624009.pdf', 'EOB 1.pdf', 'EOB 2.pdf', 'EOB 3.pdf', 'EOB 4.pdf', 'EOB 5.pdf', 'EOB 6.pdf', 'EOB 7.pdf', 'EOB 8.pdf', 'EOB 9.pdf']\n",
      "co 1\n",
      "co 2\n",
      "co 3\n",
      "co 4\n",
      "co 5\n",
      "co 6\n",
      "co 7\n",
      "co 8\n",
      "co 9\n",
      "co 10\n",
      "co 11\n",
      "co 12\n",
      "co 13\n",
      "co 14\n",
      "co 15\n",
      "co 16\n",
      "co 17\n",
      "co 18\n",
      "co 19\n",
      "co 20\n",
      "co 21\n",
      "co 22\n",
      "co 23\n",
      "co 24\n",
      "12 * Received From Client\\Hospital Admission Records * [] * ['077001723741 AD (red).pdf', '32351 ADMDSCHG (red).pdf', '48579 ADMDSCHG (red).pdf', '69018 ADMDSCHG (red).pdf', '73179 ADMDSCHG (red).pdf', '77391 ADMDSCHG (red).pdf', '98769 ADMDSCHG (red).pdf', 'AD 2.pdf', 'AD 3.pdf', 'AD 4.pdf', 'AD 6.pdf', 'Admission_Discharge Summary 10.pdf', 'Admission_Discharge Summary 11.pdf', 'Admission_Discharge Summary 2.pdf', 'Admission_Discharge Summary 3.pdf', 'Admission_Discharge Summary 4.pdf', 'Admission_Discharge Summary 5.pdf', 'Admission_Discharge Summary 6.pdf', 'Admission_Discharge Summary 7.pdf', 'Admission_Discharge Summary 8.pdf', 'Admission_Discharge Summary 9.pdf', 'Admission_Discharge Summary.pdf', 'HD 3.pdf']\n",
      "co 1\n",
      "co 2\n",
      "co 3\n",
      "co 4\n",
      "co 5\n",
      "co 6\n",
      "co 7\n",
      "co 8\n",
      "co 9\n",
      "co 10\n",
      "co 11\n",
      "co 12\n",
      "co 13\n",
      "co 14\n",
      "co 15\n",
      "co 16\n",
      "co 17\n",
      "co 18\n",
      "co 19\n",
      "co 20\n",
      "co 21\n",
      "co 22\n",
      "co 23\n",
      "13 * Received From Client\\Hospital RecordsPhysician Records * [] * ['74898 HSPR (red).pdf', '77770 HSPR (red).pdf', '808662 HSPR (red).pdf', 'Hospital Record 1.pdf', 'Hospital Record 2.pdf', 'Hospital Record 3.pdf', 'Hospital Record 4.pdf', 'Hospital Record 5.pdf', 'Hospital Record 6.pdf', 'Hospital Record 7.pdf', 'Hospital Record 8.pdf', 'Hos_Phy Rec 1 (red).pdf', 'Hos_Phy Rec 11pdf (red).pdf', 'Hos_Phy Rec 12pdf (red).pdf', 'Hos_Phy Rec 13pdf (red).pdf', 'Hos_Phy Rec 14pdf (red).pdf', 'Hos_Phy Rec 15pdf (red).pdf', 'Hos_Phy Rec 2pdf (red).pdf', 'Hos_Phy Rec 3pdf (red).pdf', 'Hos_Phy Rec 5pdf (red).pdf', 'Hos_Phy Rec 7pdf (red).pdf', 'Hos_Phy Rec 8pdf (red).pdf', 'HSPR Example.pdf']\n",
      "co 1\n",
      "co 2\n",
      "co 3\n",
      "co 4\n",
      "co 5\n",
      "co 6\n",
      "co 7\n",
      "co 8\n",
      "co 9\n",
      "co 10\n",
      "co 11\n",
      "co 12\n",
      "co 13\n",
      "co 14\n",
      "co 15\n",
      "co 16\n",
      "co 17\n",
      "co 18\n",
      "co 19\n",
      "co 20\n",
      "co 21\n",
      "co 22\n",
      "co 23\n",
      "14 * Received From Client\\Imaging Report * [] * ['0377medicalimagingreport.pdf', '089001958586 Imaging.pdf', '5107medicalimagingreport.pdf', '5477imaging.pdf', '7617medicalimaging.pdf', 'Imaging 1.pdf', 'imaging 2.pdf', 'Imaging Report 1.pdf', 'Imaging Report 2.pdf', 'Imaging Report 3.pdf', 'Imaging Report 4.pdf', 'Imaging Report 5.pdf', 'Imaging Report 6.pdf', 'Imaging report 7.pdf', 'IMR.pdf', 'IR 1.pdf', 'IR 2.pdf', 'IR 3.pdf', 'IR 4.pdf', 'IR 5.pdf', 'IR.pdf', 'IRB.pdf']\n",
      "co 1\n",
      "co 2\n",
      "co 3\n",
      "co 4\n",
      "co 5\n",
      "co 6\n",
      "co 7\n",
      "co 8\n",
      "co 9\n",
      "co 10\n",
      "co 11\n",
      "co 12\n",
      "co 13\n",
      "co 14\n",
      "co 15\n",
      "co 16\n",
      "co 17\n",
      "co 18\n",
      "co 19\n",
      "co 20\n",
      "co 21\n",
      "co 22\n",
      "15 * Received From Client\\Lab Report * [] * ['1887labreport.pdf', '2197labreport.pdf', '227labreport.pdf', '357labreport.pdf', '80372LABREPORT.pdf', '8037LABREPORT.pdf', '987labreport.pdf', 'Lab 20M.pdf', 'Lab 21M.pdf', 'Lab 22M.pdf', 'Lab 23M.pdf', 'Lab 24M.pdf', 'Lab report -12M.pdf', 'Lab Report 25M.pdf', 'Lab report-10M.pdf', 'Lab report-11M.pdf', 'Lab report-13M.pdf', 'Lab report-14M.pdf', 'Lab report-16M.pdf', 'Lab report-17M.pdf', 'Lab report-18M.pdf', 'Lab report-19M.pdf', 'Lab report-4M.pdf', 'Lab report-5M.pdf']\n",
      "co 1\n",
      "co 2\n",
      "co 3\n",
      "co 4\n",
      "co 5\n",
      "co 6\n",
      "co 7\n",
      "co 8\n",
      "co 9\n",
      "co 10\n",
      "co 11\n",
      "co 12\n",
      "co 13\n",
      "co 14\n",
      "co 15\n",
      "co 16\n",
      "co 17\n",
      "co 18\n",
      "co 19\n",
      "co 20\n",
      "co 21\n",
      "co 22\n",
      "co 23\n",
      "co 24\n",
      "16 * Received From Client\\Operative report * ['Downloaded docs'] * ['1167operative report.pdf', '1327operative report.pdf', 'After visit summary 2.pdf', 'After visit summary.pdf', 'Doc 2.pdf', 'doc 3.pdf', 'doc 4.pdf', 'doc 5.pdf', 'doc 6.pdf', 'doc 7.pdf', 'Doctor office visit 2.pdf', 'Doctor office visit 3.pdf', 'Doctor office visit.pdf', 'Operative note.pdf', 'Operative Report 1.pdf', 'Operative Report 2.pdf', 'Operative Report 3.pdf', 'Operative Report 4.pdf', 'Operative Report 5.pdf', 'Operative Report 6.pdf', 'Operative Report 7.pdf', 'Operative Report 8.pdf', 'Operative Report 9.pdf', 'operativereport.pdf', 'Post Sx 1.pdf', 'Post Sx 2.pdf', 'Post Sx 3.pdf', 'Post Sx 4.pdf', 'Post Sx 5.pdf', 'Post Sx 6.pdf', 'procedure note.pdf']\n",
      "co 1\n",
      "co 2\n",
      "co 3\n",
      "co 4\n",
      "co 5\n",
      "co 6\n",
      "co 7\n",
      "co 8\n",
      "co 9\n",
      "co 10\n",
      "co 11\n",
      "co 12\n",
      "co 13\n",
      "co 14\n",
      "co 15\n",
      "co 16\n",
      "co 17\n",
      "co 18\n",
      "co 19\n",
      "co 20\n",
      "co 21\n",
      "co 22\n",
      "co 23\n",
      "co 24\n",
      "co 25\n",
      "co 26\n",
      "co 27\n",
      "co 28\n",
      "co 29\n",
      "co 30\n",
      "co 31\n",
      "17 * Received From Client\\Operative report\\Downloaded docs * [] * []\n",
      "18 * Received From Client\\Pathology Report * [] * ['089001161060 Path.pdf', '089001441811 Path.pdf', '089001563379 Path.pdf', '089001563651 Path.pdf', '089001612868 Path.pdf', '092001518895 Path.pdf', '092001567663.pdf', '092001578353 Path-Bill.pdf', '092001609304.pdf', '092001744904 Path.pdf', '092001828053 Path.pdf', '092001859640 Path.pdf', '092001859972 Path.pdf', '092001861317 Path.pdf', '092001861708 Path.pdf', '092001862022 Path.pdf', '092001970716 Path.pdf', 'Path 1.pdf', 'path 2.pdf', 'path 3.pdf', 'Path 4.pdf', 'path 5.pdf', 'Path.pdf', 'pathology 7.pdf']\n",
      "co 1\n",
      "co 2\n",
      "co 3\n",
      "co 4\n",
      "co 5\n",
      "co 6\n",
      "co 7\n",
      "co 8\n",
      "co 9\n",
      "co 10\n",
      "co 11\n",
      "co 12\n",
      "co 13\n",
      "co 14\n",
      "co 15\n",
      "co 16\n",
      "co 17\n",
      "co 18\n",
      "co 19\n",
      "co 20\n",
      "co 21\n",
      "co 22\n",
      "co 23\n",
      "co 24\n",
      "19 * Received From Client\\Police Report * [] * ['078001931001 Police Report.pdf', '110000137288 Police Report.pdf', 'Belmont Crash (red).pdf', 'Belmont Crash.pdf', 'Police Report 2.pdf', 'Police Report 3.pdf', 'Police Report 4.pdf', 'Police Report 5.pdf', 'police report 6.pdf', 'Police Report Example 1.pdf', 'Police Report Example 10.pdf', 'Police Report Example 11.pdf', 'Police Report Example 2.pdf', 'Police Report Example 3.pdf', 'Police Report Example 4.pdf', 'Police Report Example 5.pdf', 'Police Report Example 6.pdf', 'Police Report Example 7.pdf', 'Police Report Example 8.pdf', 'Police Report Example 9.pdf', 'Police Report Sample 1.pdf', 'Police Report Sample 2.pdf', 'ST Pete PD (red).pdf', 'ST Pete PD.pdf']\n",
      "co 1\n",
      "co 2\n",
      "co 3\n",
      "co 4\n",
      "co 5\n",
      "co 6\n",
      "co 7\n",
      "co 8\n",
      "co 9\n",
      "co 10\n",
      "co 11\n",
      "co 12\n",
      "co 13\n",
      "co 14\n",
      "co 15\n",
      "co 16\n",
      "co 17\n",
      "co 18\n",
      "co 19\n",
      "co 20\n",
      "co 21\n",
      "co 22\n",
      "co 23\n",
      "co 24\n"
     ]
    }
   ],
   "source": [
    "count=0\n",
    "# co=0\n",
    "for root, dirs, files in os.walk(path):\n",
    "    print(count,\"*\",root,\"*\",dirs,\"*\",files)\n",
    "    count=count+1\n",
    "    co=0\n",
    "    for file in files:\n",
    "        co=co+1\n",
    "        print(\"co\",co)\n",
    "#     print(\"root\",root)\n",
    "#     print(\"dirs\",dirs)\n",
    "#     print(\"files\",files)"
   ]
  },
  {
   "cell_type": "code",
   "execution_count": 30,
   "id": "4d4ce705",
   "metadata": {},
   "outputs": [],
   "source": [
    "la=[1,2,3,4,5,6,7,8,9]\n",
    "lb=[7,8,9,10,11,12,13]"
   ]
  },
  {
   "cell_type": "code",
   "execution_count": 34,
   "id": "2bb5aba0",
   "metadata": {},
   "outputs": [
    {
     "name": "stdout",
     "output_type": "stream",
     "text": [
      "Common elements using sets: {8, 9, 7} [8, 9, 7]\n"
     ]
    }
   ],
   "source": [
    "set1 = set(la)\n",
    "set2 = set(lb)\n",
    "\n",
    "common_elements = set1.intersection(set2)\n",
    "lt = list(common_elements)\n",
    "\n",
    "\n",
    "print(\"Common elements using sets:\", common_elements,lt)"
   ]
  },
  {
   "cell_type": "code",
   "execution_count": null,
   "id": "57004c2a",
   "metadata": {},
   "outputs": [],
   "source": []
  },
  {
   "cell_type": "code",
   "execution_count": null,
   "id": "7da4bb13",
   "metadata": {},
   "outputs": [],
   "source": []
  },
  {
   "cell_type": "code",
   "execution_count": null,
   "id": "bf6fc0de",
   "metadata": {},
   "outputs": [],
   "source": []
  }
 ],
 "metadata": {
  "kernelspec": {
   "display_name": "Python 3 (ipykernel)",
   "language": "python",
   "name": "python3"
  },
  "language_info": {
   "codemirror_mode": {
    "name": "ipython",
    "version": 3
   },
   "file_extension": ".py",
   "mimetype": "text/x-python",
   "name": "python",
   "nbconvert_exporter": "python",
   "pygments_lexer": "ipython3",
   "version": "3.10.9"
  }
 },
 "nbformat": 4,
 "nbformat_minor": 5
}
