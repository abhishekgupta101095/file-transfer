{
 "cells": [
  {
   "cell_type": "code",
   "execution_count": 1,
   "id": "9a5c21f4",
   "metadata": {},
   "outputs": [
    {
     "ename": "ModuleNotFoundError",
     "evalue": "No module named 'pandasai'",
     "output_type": "error",
     "traceback": [
      "\u001b[1;31m---------------------------------------------------------------------------\u001b[0m",
      "\u001b[1;31mModuleNotFoundError\u001b[0m                       Traceback (most recent call last)",
      "Cell \u001b[1;32mIn[1], line 1\u001b[0m\n\u001b[1;32m----> 1\u001b[0m \u001b[38;5;28;01mfrom\u001b[39;00m \u001b[38;5;21;01mpandasai\u001b[39;00m\u001b[38;5;21;01m.\u001b[39;00m\u001b[38;5;21;01mllm\u001b[39;00m\u001b[38;5;21;01m.\u001b[39;00m\u001b[38;5;21;01mazure_openai\u001b[39;00m \u001b[38;5;28;01mimport\u001b[39;00m AzureOpenAI\n\u001b[0;32m      2\u001b[0m \u001b[38;5;28;01mfrom\u001b[39;00m \u001b[38;5;21;01mpandasai\u001b[39;00m \u001b[38;5;28;01mimport\u001b[39;00m PandasAI\n",
      "\u001b[1;31mModuleNotFoundError\u001b[0m: No module named 'pandasai'"
     ]
    }
   ],
   "source": [
    "from pandasai.llm.azure_openai import AzureOpenAI\n",
    "from pandasai import PandasAI"
   ]
  },
  {
   "cell_type": "code",
   "execution_count": 2,
   "id": "2ccb1c56",
   "metadata": {},
   "outputs": [],
   "source": [
    "import openai\n",
    "openai.api_type = \n",
    "openai.api_base = \n",
    "openai.api_version = \n",
    "openai.api_key = "
   ]
  },
  {
   "cell_type": "code",
   "execution_count": 3,
   "id": "f376c4e4",
   "metadata": {},
   "outputs": [],
   "source": [
    "llm = AzureOpenAI(api_token = openai.api_key, \n",
    "                  api_base = openai.api_base,\n",
    "                 api_version = openai.api_version,\n",
    "                 api_type = openai.api_type,\n",
    "                 deployment_name = \"gpt-35-turbo\")"
   ]
  },
  {
   "cell_type": "code",
   "execution_count": 4,
   "id": "6f77b60e",
   "metadata": {},
   "outputs": [],
   "source": [
    "import json\n",
    "import pandas as pd\n",
    "\n",
    "# Open the json file\n",
    "with open('../Agent1/raw_data/raw_data.json') as f:\n",
    "    # Load the json object as a dictionary\n",
    "    data = json.load(f)"
   ]
  },
  {
   "cell_type": "code",
   "execution_count": 5,
   "id": "db3f7363",
   "metadata": {},
   "outputs": [],
   "source": [
    "df = pd.DataFrame(data[\"value\"])\n",
    "df = df.dropna()"
   ]
  },
  {
   "cell_type": "code",
   "execution_count": 6,
   "id": "6b0bb3fc",
   "metadata": {},
   "outputs": [],
   "source": [
    "columns = ['Version___Description', 'Date___FISCAL_CALPERIOD', 'FLOW_TYPE___Description', \\\n",
    "         'SAP_ALL_COMPANY_CODE___Description', 'SAP_FI_IFP_GLACCOUNT___Description', \\\n",
    "         'SAP_ALL_PROFITCENTER___Description', 'SAP_ALL_FUNCTIONALAREA___Description',\\\n",
    "         'SAP_ALL_TRADINGPARTNER___Description', 'AMOUNT']\n",
    "\n",
    "df = df[columns]"
   ]
  },
  {
   "cell_type": "code",
   "execution_count": 7,
   "id": "0c488e3e",
   "metadata": {},
   "outputs": [
    {
     "data": {
      "text/html": [
       "<div>\n",
       "<style scoped>\n",
       "    .dataframe tbody tr th:only-of-type {\n",
       "        vertical-align: middle;\n",
       "    }\n",
       "\n",
       "    .dataframe tbody tr th {\n",
       "        vertical-align: top;\n",
       "    }\n",
       "\n",
       "    .dataframe thead th {\n",
       "        text-align: right;\n",
       "    }\n",
       "</style>\n",
       "<table border=\"1\" class=\"dataframe\">\n",
       "  <thead>\n",
       "    <tr style=\"text-align: right;\">\n",
       "      <th></th>\n",
       "      <th>Version___Description</th>\n",
       "      <th>Date___FISCAL_CALPERIOD</th>\n",
       "      <th>FLOW_TYPE___Description</th>\n",
       "      <th>SAP_ALL_COMPANY_CODE___Description</th>\n",
       "      <th>SAP_FI_IFP_GLACCOUNT___Description</th>\n",
       "      <th>SAP_ALL_PROFITCENTER___Description</th>\n",
       "      <th>SAP_ALL_FUNCTIONALAREA___Description</th>\n",
       "      <th>SAP_ALL_TRADINGPARTNER___Description</th>\n",
       "      <th>AMOUNT</th>\n",
       "    </tr>\n",
       "  </thead>\n",
       "  <tbody>\n",
       "    <tr>\n",
       "      <th>0</th>\n",
       "      <td>Actual</td>\n",
       "      <td>202201</td>\n",
       "      <td>Changing Amount</td>\n",
       "      <td>Company Code 1710</td>\n",
       "      <td>Bank 1 - Bank (Main) Account</td>\n",
       "      <td>Consulting Unit A</td>\n",
       "      <td>Unassigned</td>\n",
       "      <td>Unassigned</td>\n",
       "      <td>-11000.0</td>\n",
       "    </tr>\n",
       "    <tr>\n",
       "      <th>1</th>\n",
       "      <td>Actual</td>\n",
       "      <td>202201</td>\n",
       "      <td>Changing Amount</td>\n",
       "      <td>Company Code 1710</td>\n",
       "      <td>Bank 1 - Bank (Main) Account</td>\n",
       "      <td>Bike Parts</td>\n",
       "      <td>Unassigned</td>\n",
       "      <td>Unassigned</td>\n",
       "      <td>181400.0</td>\n",
       "    </tr>\n",
       "    <tr>\n",
       "      <th>2</th>\n",
       "      <td>Actual</td>\n",
       "      <td>202201</td>\n",
       "      <td>Changing Amount</td>\n",
       "      <td>Company Code 1710</td>\n",
       "      <td>Bank 1 - Bank (Main) Account</td>\n",
       "      <td>Bicycles</td>\n",
       "      <td>Unassigned</td>\n",
       "      <td>Unassigned</td>\n",
       "      <td>14150.0</td>\n",
       "    </tr>\n",
       "    <tr>\n",
       "      <th>3</th>\n",
       "      <td>Actual</td>\n",
       "      <td>202201</td>\n",
       "      <td>Changing Amount</td>\n",
       "      <td>Company Code 1710</td>\n",
       "      <td>Bank 1 - Bank (Main) Account</td>\n",
       "      <td>Shared Services</td>\n",
       "      <td>Unassigned</td>\n",
       "      <td>Unassigned</td>\n",
       "      <td>-33000.0</td>\n",
       "    </tr>\n",
       "    <tr>\n",
       "      <th>4</th>\n",
       "      <td>Actual</td>\n",
       "      <td>202201</td>\n",
       "      <td>Changing Amount</td>\n",
       "      <td>Company Code 1710</td>\n",
       "      <td>Bank 1 - Bank (Main) Account</td>\n",
       "      <td>Trading Goods</td>\n",
       "      <td>Unassigned</td>\n",
       "      <td>Unassigned</td>\n",
       "      <td>-50000.0</td>\n",
       "    </tr>\n",
       "    <tr>\n",
       "      <th>...</th>\n",
       "      <td>...</td>\n",
       "      <td>...</td>\n",
       "      <td>...</td>\n",
       "      <td>...</td>\n",
       "      <td>...</td>\n",
       "      <td>...</td>\n",
       "      <td>...</td>\n",
       "      <td>...</td>\n",
       "      <td>...</td>\n",
       "    </tr>\n",
       "    <tr>\n",
       "      <th>3945</th>\n",
       "      <td>Plan</td>\n",
       "      <td>202310</td>\n",
       "      <td>Control Parameter</td>\n",
       "      <td>Company Code 1710</td>\n",
       "      <td>Payroll Expense - Salaries</td>\n",
       "      <td>Unassigned</td>\n",
       "      <td>Unassigned</td>\n",
       "      <td>Unassigned</td>\n",
       "      <td>3.0</td>\n",
       "    </tr>\n",
       "    <tr>\n",
       "      <th>3946</th>\n",
       "      <td>Plan</td>\n",
       "      <td>202311</td>\n",
       "      <td>Control Parameter</td>\n",
       "      <td>Company Code 1710</td>\n",
       "      <td>Travel Expenses - Miscellaneous</td>\n",
       "      <td>Unassigned</td>\n",
       "      <td>Unassigned</td>\n",
       "      <td>Unassigned</td>\n",
       "      <td>3.0</td>\n",
       "    </tr>\n",
       "    <tr>\n",
       "      <th>3947</th>\n",
       "      <td>Plan</td>\n",
       "      <td>202311</td>\n",
       "      <td>Control Parameter</td>\n",
       "      <td>Company Code 1710</td>\n",
       "      <td>Payroll Expense - Salaries</td>\n",
       "      <td>Unassigned</td>\n",
       "      <td>Unassigned</td>\n",
       "      <td>Unassigned</td>\n",
       "      <td>3.0</td>\n",
       "    </tr>\n",
       "    <tr>\n",
       "      <th>3948</th>\n",
       "      <td>Plan</td>\n",
       "      <td>202312</td>\n",
       "      <td>Control Parameter</td>\n",
       "      <td>Company Code 1710</td>\n",
       "      <td>Travel Expenses - Miscellaneous</td>\n",
       "      <td>Unassigned</td>\n",
       "      <td>Unassigned</td>\n",
       "      <td>Unassigned</td>\n",
       "      <td>3.0</td>\n",
       "    </tr>\n",
       "    <tr>\n",
       "      <th>3949</th>\n",
       "      <td>Plan</td>\n",
       "      <td>202312</td>\n",
       "      <td>Control Parameter</td>\n",
       "      <td>Company Code 1710</td>\n",
       "      <td>Payroll Expense - Salaries</td>\n",
       "      <td>Unassigned</td>\n",
       "      <td>Unassigned</td>\n",
       "      <td>Unassigned</td>\n",
       "      <td>3.0</td>\n",
       "    </tr>\n",
       "  </tbody>\n",
       "</table>\n",
       "<p>3949 rows × 9 columns</p>\n",
       "</div>"
      ],
      "text/plain": [
       "     Version___Description Date___FISCAL_CALPERIOD FLOW_TYPE___Description  \\\n",
       "0                   Actual                  202201         Changing Amount   \n",
       "1                   Actual                  202201         Changing Amount   \n",
       "2                   Actual                  202201         Changing Amount   \n",
       "3                   Actual                  202201         Changing Amount   \n",
       "4                   Actual                  202201         Changing Amount   \n",
       "...                    ...                     ...                     ...   \n",
       "3945                  Plan                  202310       Control Parameter   \n",
       "3946                  Plan                  202311       Control Parameter   \n",
       "3947                  Plan                  202311       Control Parameter   \n",
       "3948                  Plan                  202312       Control Parameter   \n",
       "3949                  Plan                  202312       Control Parameter   \n",
       "\n",
       "     SAP_ALL_COMPANY_CODE___Description SAP_FI_IFP_GLACCOUNT___Description  \\\n",
       "0                     Company Code 1710       Bank 1 - Bank (Main) Account   \n",
       "1                     Company Code 1710       Bank 1 - Bank (Main) Account   \n",
       "2                     Company Code 1710       Bank 1 - Bank (Main) Account   \n",
       "3                     Company Code 1710       Bank 1 - Bank (Main) Account   \n",
       "4                     Company Code 1710       Bank 1 - Bank (Main) Account   \n",
       "...                                 ...                                ...   \n",
       "3945                  Company Code 1710         Payroll Expense - Salaries   \n",
       "3946                  Company Code 1710    Travel Expenses - Miscellaneous   \n",
       "3947                  Company Code 1710         Payroll Expense - Salaries   \n",
       "3948                  Company Code 1710    Travel Expenses - Miscellaneous   \n",
       "3949                  Company Code 1710         Payroll Expense - Salaries   \n",
       "\n",
       "     SAP_ALL_PROFITCENTER___Description SAP_ALL_FUNCTIONALAREA___Description  \\\n",
       "0                     Consulting Unit A                           Unassigned   \n",
       "1                            Bike Parts                           Unassigned   \n",
       "2                              Bicycles                           Unassigned   \n",
       "3                       Shared Services                           Unassigned   \n",
       "4                         Trading Goods                           Unassigned   \n",
       "...                                 ...                                  ...   \n",
       "3945                         Unassigned                           Unassigned   \n",
       "3946                         Unassigned                           Unassigned   \n",
       "3947                         Unassigned                           Unassigned   \n",
       "3948                         Unassigned                           Unassigned   \n",
       "3949                         Unassigned                           Unassigned   \n",
       "\n",
       "     SAP_ALL_TRADINGPARTNER___Description    AMOUNT  \n",
       "0                              Unassigned  -11000.0  \n",
       "1                              Unassigned  181400.0  \n",
       "2                              Unassigned   14150.0  \n",
       "3                              Unassigned  -33000.0  \n",
       "4                              Unassigned  -50000.0  \n",
       "...                                   ...       ...  \n",
       "3945                           Unassigned       3.0  \n",
       "3946                           Unassigned       3.0  \n",
       "3947                           Unassigned       3.0  \n",
       "3948                           Unassigned       3.0  \n",
       "3949                           Unassigned       3.0  \n",
       "\n",
       "[3949 rows x 9 columns]"
      ]
     },
     "execution_count": 7,
     "metadata": {},
     "output_type": "execute_result"
    }
   ],
   "source": [
    "df"
   ]
  },
  {
   "cell_type": "code",
   "execution_count": null,
   "id": "7bea35c2",
   "metadata": {},
   "outputs": [],
   "source": [
    "# Abhishek will apply his filtering logic!!!"
   ]
  },
  {
   "cell_type": "code",
   "execution_count": null,
   "id": "3513fe1e",
   "metadata": {},
   "outputs": [],
   "source": []
  },
  {
   "cell_type": "code",
   "execution_count": null,
   "id": "b1732f51",
   "metadata": {},
   "outputs": [],
   "source": [
    "# we get the filtered_df"
   ]
  },
  {
   "cell_type": "code",
   "execution_count": 8,
   "id": "e8ca8106",
   "metadata": {},
   "outputs": [
    {
     "data": {
      "text/plain": [
       "<pandasai.llm.azure_openai.AzureOpenAI at 0x1359874a410>"
      ]
     },
     "execution_count": 8,
     "metadata": {},
     "output_type": "execute_result"
    }
   ],
   "source": [
    "# Not Important\n",
    "#llm"
   ]
  },
  {
   "cell_type": "code",
   "execution_count": 9,
   "id": "039c8523",
   "metadata": {},
   "outputs": [
    {
     "data": {
      "text/plain": [
       "<pandasai.PandasAI at 0x1359874b790>"
      ]
     },
     "execution_count": 9,
     "metadata": {},
     "output_type": "execute_result"
    }
   ],
   "source": [
    "# Initialize the LLM Agent\n",
    "pandas_ai = PandasAI(llm)\n",
    "#pandas_ai"
   ]
  },
  {
   "cell_type": "code",
   "execution_count": 10,
   "id": "85a8a9dc",
   "metadata": {},
   "outputs": [
    {
     "data": {
      "text/html": [
       "<div>\n",
       "<style scoped>\n",
       "    .dataframe tbody tr th:only-of-type {\n",
       "        vertical-align: middle;\n",
       "    }\n",
       "\n",
       "    .dataframe tbody tr th {\n",
       "        vertical-align: top;\n",
       "    }\n",
       "\n",
       "    .dataframe thead th {\n",
       "        text-align: right;\n",
       "    }\n",
       "</style>\n",
       "<table border=\"1\" class=\"dataframe\">\n",
       "  <thead>\n",
       "    <tr style=\"text-align: right;\">\n",
       "      <th></th>\n",
       "      <th>Version___Description</th>\n",
       "      <th>Date___FISCAL_CALPERIOD</th>\n",
       "      <th>FLOW_TYPE___Description</th>\n",
       "      <th>SAP_ALL_COMPANY_CODE___Description</th>\n",
       "      <th>SAP_FI_IFP_GLACCOUNT___Description</th>\n",
       "      <th>SAP_ALL_PROFITCENTER___Description</th>\n",
       "      <th>SAP_ALL_FUNCTIONALAREA___Description</th>\n",
       "      <th>SAP_ALL_TRADINGPARTNER___Description</th>\n",
       "      <th>AMOUNT</th>\n",
       "    </tr>\n",
       "  </thead>\n",
       "  <tbody>\n",
       "    <tr>\n",
       "      <th>0</th>\n",
       "      <td>Actual</td>\n",
       "      <td>202201</td>\n",
       "      <td>Changing Amount</td>\n",
       "      <td>Company Code 1710</td>\n",
       "      <td>Bank 1 - Bank (Main) Account</td>\n",
       "      <td>Consulting Unit A</td>\n",
       "      <td>Unassigned</td>\n",
       "      <td>Unassigned</td>\n",
       "      <td>-11000.0</td>\n",
       "    </tr>\n",
       "    <tr>\n",
       "      <th>1</th>\n",
       "      <td>Actual</td>\n",
       "      <td>202201</td>\n",
       "      <td>Changing Amount</td>\n",
       "      <td>Company Code 1710</td>\n",
       "      <td>Bank 1 - Bank (Main) Account</td>\n",
       "      <td>Bike Parts</td>\n",
       "      <td>Unassigned</td>\n",
       "      <td>Unassigned</td>\n",
       "      <td>181400.0</td>\n",
       "    </tr>\n",
       "    <tr>\n",
       "      <th>2</th>\n",
       "      <td>Actual</td>\n",
       "      <td>202201</td>\n",
       "      <td>Changing Amount</td>\n",
       "      <td>Company Code 1710</td>\n",
       "      <td>Bank 1 - Bank (Main) Account</td>\n",
       "      <td>Bicycles</td>\n",
       "      <td>Unassigned</td>\n",
       "      <td>Unassigned</td>\n",
       "      <td>14150.0</td>\n",
       "    </tr>\n",
       "    <tr>\n",
       "      <th>3</th>\n",
       "      <td>Actual</td>\n",
       "      <td>202201</td>\n",
       "      <td>Changing Amount</td>\n",
       "      <td>Company Code 1710</td>\n",
       "      <td>Bank 1 - Bank (Main) Account</td>\n",
       "      <td>Shared Services</td>\n",
       "      <td>Unassigned</td>\n",
       "      <td>Unassigned</td>\n",
       "      <td>-33000.0</td>\n",
       "    </tr>\n",
       "    <tr>\n",
       "      <th>4</th>\n",
       "      <td>Actual</td>\n",
       "      <td>202201</td>\n",
       "      <td>Changing Amount</td>\n",
       "      <td>Company Code 1710</td>\n",
       "      <td>Bank 1 - Bank (Main) Account</td>\n",
       "      <td>Trading Goods</td>\n",
       "      <td>Unassigned</td>\n",
       "      <td>Unassigned</td>\n",
       "      <td>-50000.0</td>\n",
       "    </tr>\n",
       "  </tbody>\n",
       "</table>\n",
       "</div>"
      ],
      "text/plain": [
       "  Version___Description Date___FISCAL_CALPERIOD FLOW_TYPE___Description  \\\n",
       "0                Actual                  202201         Changing Amount   \n",
       "1                Actual                  202201         Changing Amount   \n",
       "2                Actual                  202201         Changing Amount   \n",
       "3                Actual                  202201         Changing Amount   \n",
       "4                Actual                  202201         Changing Amount   \n",
       "\n",
       "  SAP_ALL_COMPANY_CODE___Description SAP_FI_IFP_GLACCOUNT___Description  \\\n",
       "0                  Company Code 1710       Bank 1 - Bank (Main) Account   \n",
       "1                  Company Code 1710       Bank 1 - Bank (Main) Account   \n",
       "2                  Company Code 1710       Bank 1 - Bank (Main) Account   \n",
       "3                  Company Code 1710       Bank 1 - Bank (Main) Account   \n",
       "4                  Company Code 1710       Bank 1 - Bank (Main) Account   \n",
       "\n",
       "  SAP_ALL_PROFITCENTER___Description SAP_ALL_FUNCTIONALAREA___Description  \\\n",
       "0                  Consulting Unit A                           Unassigned   \n",
       "1                         Bike Parts                           Unassigned   \n",
       "2                           Bicycles                           Unassigned   \n",
       "3                    Shared Services                           Unassigned   \n",
       "4                      Trading Goods                           Unassigned   \n",
       "\n",
       "  SAP_ALL_TRADINGPARTNER___Description    AMOUNT  \n",
       "0                           Unassigned  -11000.0  \n",
       "1                           Unassigned  181400.0  \n",
       "2                           Unassigned   14150.0  \n",
       "3                           Unassigned  -33000.0  \n",
       "4                           Unassigned  -50000.0  "
      ]
     },
     "execution_count": 10,
     "metadata": {},
     "output_type": "execute_result"
    }
   ],
   "source": [
    "# Ask your queries!!!\n",
    "\n",
    "pandas_ai(filtered_df, prompt=\"What were the main drivers of cost increases in 2022\")"
   ]
  },
  {
   "cell_type": "code",
   "execution_count": 12,
   "id": "d40261ca",
   "metadata": {},
   "outputs": [
    {
     "name": "stdout",
     "output_type": "stream",
     "text": [
      "'question'\n"
     ]
    },
    {
     "data": {
      "text/plain": [
       "\"Unfortunately, I was not able to answer your question, because of the following error:\\n\\n'question'\\n\""
      ]
     },
     "execution_count": 12,
     "metadata": {},
     "output_type": "execute_result"
    }
   ],
   "source": [
    "pandas_ai(df, prompt=\"Calculate the variance percentage between actual and plan for column Version___Description for the year 2022 and 2023?\")"
   ]
  },
  {
   "cell_type": "code",
   "execution_count": null,
   "id": "f9c3938e",
   "metadata": {},
   "outputs": [],
   "source": []
  }
 ],
 "metadata": {
  "kernelspec": {
   "display_name": "Python 3 (ipykernel)",
   "language": "python",
   "name": "python3"
  },
  "language_info": {
   "codemirror_mode": {
    "name": "ipython",
    "version": 3
   },
   "file_extension": ".py",
   "mimetype": "text/x-python",
   "name": "python",
   "nbconvert_exporter": "python",
   "pygments_lexer": "ipython3",
   "version": "3.10.9"
  }
 },
 "nbformat": 4,
 "nbformat_minor": 5
}
