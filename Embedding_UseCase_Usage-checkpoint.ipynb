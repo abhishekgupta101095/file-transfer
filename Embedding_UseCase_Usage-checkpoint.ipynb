{
 "cells": [
  {
   "cell_type": "code",
   "execution_count": null,
   "id": "0d76f6bb",
   "metadata": {},
   "outputs": [],
   "source": [
    "# Import the required libraries\n",
    "from sentence_transformers import SentenceTransformer, util\n",
    "import torch\n",
    "\n",
    "import pandas as pd"
   ]
  },
  {
   "cell_type": "code",
   "execution_count": 2,
   "id": "90351d75",
   "metadata": {},
   "outputs": [],
   "source": [
    "#!pip install fastparquet==2023.4.0"
   ]
  },
  {
   "cell_type": "code",
   "execution_count": 3,
   "id": "b1a29cde",
   "metadata": {},
   "outputs": [],
   "source": [
    "# Load the MPNet model\n",
    "model = SentenceTransformer('sentence-transformers/all-mpnet-base-v2')"
   ]
  },
  {
   "cell_type": "code",
   "execution_count": 4,
   "id": "2c26fe9b",
   "metadata": {},
   "outputs": [],
   "source": [
    "df = pd.read_parquet(\"UserQueryExample.parquet\")"
   ]
  },
  {
   "cell_type": "code",
   "execution_count": 5,
   "id": "3d80d759",
   "metadata": {},
   "outputs": [
    {
     "data": {
      "text/plain": [
       "Index(['User Query', 'Solution', 'Embeddings'], dtype='object')"
      ]
     },
     "execution_count": 5,
     "metadata": {},
     "output_type": "execute_result"
    }
   ],
   "source": [
    "df.columns"
   ]
  },
  {
   "cell_type": "code",
   "execution_count": 6,
   "id": "c4eecfaa",
   "metadata": {
    "scrolled": true
   },
   "outputs": [
    {
     "data": {
      "text/html": [
       "<div>\n",
       "<style scoped>\n",
       "    .dataframe tbody tr th:only-of-type {\n",
       "        vertical-align: middle;\n",
       "    }\n",
       "\n",
       "    .dataframe tbody tr th {\n",
       "        vertical-align: top;\n",
       "    }\n",
       "\n",
       "    .dataframe thead th {\n",
       "        text-align: right;\n",
       "    }\n",
       "</style>\n",
       "<table border=\"1\" class=\"dataframe\">\n",
       "  <thead>\n",
       "    <tr style=\"text-align: right;\">\n",
       "      <th></th>\n",
       "      <th>User Query</th>\n",
       "      <th>Solution</th>\n",
       "      <th>Embeddings</th>\n",
       "    </tr>\n",
       "  </thead>\n",
       "  <tbody>\n",
       "    <tr>\n",
       "      <th>0</th>\n",
       "      <td>What were the main drivers of cost increases i...</td>\n",
       "      <td># Example:\\n    Question: What were the main d...</td>\n",
       "      <td>[0.0023261122, 0.057993285, -0.0031277756, -0....</td>\n",
       "    </tr>\n",
       "    <tr>\n",
       "      <th>1</th>\n",
       "      <td>What is the profit margin for the Bicycles pro...</td>\n",
       "      <td># Example:\\n    Question: What is the profit m...</td>\n",
       "      <td>[0.002458087, 0.032595247, -0.022691194, 0.003...</td>\n",
       "    </tr>\n",
       "    <tr>\n",
       "      <th>2</th>\n",
       "      <td>What is the total amount of money spent on inv...</td>\n",
       "      <td># Example:\\n    Question: What is the total am...</td>\n",
       "      <td>[0.02081414, 0.066750795, -0.006846997, 0.0454...</td>\n",
       "    </tr>\n",
       "    <tr>\n",
       "      <th>3</th>\n",
       "      <td>What are the top 3 profit centers with the hig...</td>\n",
       "      <td># Example:\\n    Question: What are the top 3 p...</td>\n",
       "      <td>[-0.010312796, 0.050181206, -0.043017767, -0.0...</td>\n",
       "    </tr>\n",
       "    <tr>\n",
       "      <th>4</th>\n",
       "      <td>What is the trend of travel expenses incurred ...</td>\n",
       "      <td># Example:\\n    Question: What is the trend of...</td>\n",
       "      <td>[0.010403174, -0.006870905, -0.017223742, 0.03...</td>\n",
       "    </tr>\n",
       "    <tr>\n",
       "      <th>5</th>\n",
       "      <td>Give me total amount for Administration for ex...</td>\n",
       "      <td># Example:\\n    Question: Give me total amount...</td>\n",
       "      <td>[-0.00747587, 0.073454954, -0.015147685, 0.016...</td>\n",
       "    </tr>\n",
       "    <tr>\n",
       "      <th>6</th>\n",
       "      <td>Name all the products in profit centre.</td>\n",
       "      <td># Example:\\n    Question: Name all the product...</td>\n",
       "      <td>[0.029267749, -0.06256141, -0.022538858, 0.039...</td>\n",
       "    </tr>\n",
       "    <tr>\n",
       "      <th>7</th>\n",
       "      <td>What were the total revenues for the company i...</td>\n",
       "      <td># Example:\\n    Question: What were the total ...</td>\n",
       "      <td>[-0.016530912, 0.07801372, -0.017950134, -0.01...</td>\n",
       "    </tr>\n",
       "    <tr>\n",
       "      <th>8</th>\n",
       "      <td>What were the major profit centres of revenue ...</td>\n",
       "      <td># Example:\\n    Question:What were the major p...</td>\n",
       "      <td>[0.0269524, 0.036785044, -0.031263202, -0.0075...</td>\n",
       "    </tr>\n",
       "    <tr>\n",
       "      <th>9</th>\n",
       "      <td>What was the net profit margin for the company...</td>\n",
       "      <td># Example:\\n    Question:What was the net prof...</td>\n",
       "      <td>[-0.019929428, 0.011237364, -0.013510849, -0.0...</td>\n",
       "    </tr>\n",
       "    <tr>\n",
       "      <th>10</th>\n",
       "      <td>Did the company experience any significant flu...</td>\n",
       "      <td># Example:\\n    Question:Did the company exper...</td>\n",
       "      <td>[0.0076795826, 0.059461165, -0.0077620083, 0.0...</td>\n",
       "    </tr>\n",
       "    <tr>\n",
       "      <th>11</th>\n",
       "      <td>What is the actual revenue for the company in ...</td>\n",
       "      <td># Example:_x000D_\\n    Question:What is the ac...</td>\n",
       "      <td>[-0.012376777, 0.046672564, -0.0347857, 0.0170...</td>\n",
       "    </tr>\n",
       "    <tr>\n",
       "      <th>12</th>\n",
       "      <td>How does the planned cost of goods sold (COGS)...</td>\n",
       "      <td># Example:_x000D_\\n    Question:How does the p...</td>\n",
       "      <td>[-0.0066612205, -0.011639982, -0.0029736485, -...</td>\n",
       "    </tr>\n",
       "    <tr>\n",
       "      <th>13</th>\n",
       "      <td>Give me the total expenses for the year 2023</td>\n",
       "      <td># Example:\\n    Question:Give me the total exp...</td>\n",
       "      <td>[0.012128511, 0.07431729, 0.0011419541, 0.0249...</td>\n",
       "    </tr>\n",
       "    <tr>\n",
       "      <th>14</th>\n",
       "      <td>Do a quarter wise comparison between 'Bicycles...</td>\n",
       "      <td># Example:\\n    Question:Do a quarter wise com...</td>\n",
       "      <td>[-0.0066312165, 0.035236098, -0.046428006, 0.0...</td>\n",
       "    </tr>\n",
       "  </tbody>\n",
       "</table>\n",
       "</div>"
      ],
      "text/plain": [
       "                                           User Query  \\\n",
       "0   What were the main drivers of cost increases i...   \n",
       "1   What is the profit margin for the Bicycles pro...   \n",
       "2   What is the total amount of money spent on inv...   \n",
       "3   What are the top 3 profit centers with the hig...   \n",
       "4   What is the trend of travel expenses incurred ...   \n",
       "5   Give me total amount for Administration for ex...   \n",
       "6             Name all the products in profit centre.   \n",
       "7   What were the total revenues for the company i...   \n",
       "8   What were the major profit centres of revenue ...   \n",
       "9   What was the net profit margin for the company...   \n",
       "10  Did the company experience any significant flu...   \n",
       "11  What is the actual revenue for the company in ...   \n",
       "12  How does the planned cost of goods sold (COGS)...   \n",
       "13       Give me the total expenses for the year 2023   \n",
       "14  Do a quarter wise comparison between 'Bicycles...   \n",
       "\n",
       "                                             Solution  \\\n",
       "0   # Example:\\n    Question: What were the main d...   \n",
       "1   # Example:\\n    Question: What is the profit m...   \n",
       "2   # Example:\\n    Question: What is the total am...   \n",
       "3   # Example:\\n    Question: What are the top 3 p...   \n",
       "4   # Example:\\n    Question: What is the trend of...   \n",
       "5   # Example:\\n    Question: Give me total amount...   \n",
       "6   # Example:\\n    Question: Name all the product...   \n",
       "7   # Example:\\n    Question: What were the total ...   \n",
       "8   # Example:\\n    Question:What were the major p...   \n",
       "9   # Example:\\n    Question:What was the net prof...   \n",
       "10  # Example:\\n    Question:Did the company exper...   \n",
       "11  # Example:_x000D_\\n    Question:What is the ac...   \n",
       "12  # Example:_x000D_\\n    Question:How does the p...   \n",
       "13  # Example:\\n    Question:Give me the total exp...   \n",
       "14  # Example:\\n    Question:Do a quarter wise com...   \n",
       "\n",
       "                                           Embeddings  \n",
       "0   [0.0023261122, 0.057993285, -0.0031277756, -0....  \n",
       "1   [0.002458087, 0.032595247, -0.022691194, 0.003...  \n",
       "2   [0.02081414, 0.066750795, -0.006846997, 0.0454...  \n",
       "3   [-0.010312796, 0.050181206, -0.043017767, -0.0...  \n",
       "4   [0.010403174, -0.006870905, -0.017223742, 0.03...  \n",
       "5   [-0.00747587, 0.073454954, -0.015147685, 0.016...  \n",
       "6   [0.029267749, -0.06256141, -0.022538858, 0.039...  \n",
       "7   [-0.016530912, 0.07801372, -0.017950134, -0.01...  \n",
       "8   [0.0269524, 0.036785044, -0.031263202, -0.0075...  \n",
       "9   [-0.019929428, 0.011237364, -0.013510849, -0.0...  \n",
       "10  [0.0076795826, 0.059461165, -0.0077620083, 0.0...  \n",
       "11  [-0.012376777, 0.046672564, -0.0347857, 0.0170...  \n",
       "12  [-0.0066612205, -0.011639982, -0.0029736485, -...  \n",
       "13  [0.012128511, 0.07431729, 0.0011419541, 0.0249...  \n",
       "14  [-0.0066312165, 0.035236098, -0.046428006, 0.0...  "
      ]
     },
     "execution_count": 6,
     "metadata": {},
     "output_type": "execute_result"
    }
   ],
   "source": [
    "df"
   ]
  },
  {
   "cell_type": "code",
   "execution_count": 9,
   "id": "34ae66b5",
   "metadata": {},
   "outputs": [],
   "source": [
    "corpus = df['User Query'].tolist()\n",
    "embeddings = df['Embeddings'].tolist()\n",
    "solution = df['Solution'].tolist()"
   ]
  },
  {
   "cell_type": "code",
   "execution_count": 11,
   "id": "4415bc79",
   "metadata": {},
   "outputs": [],
   "source": [
    "query = 'What caused an increase in costs in 2022?'\n",
    "\n",
    "# Encode the query with the model\n",
    "query_embedding = model.encode(query, convert_to_tensor=True)"
   ]
  },
  {
   "cell_type": "code",
   "execution_count": 12,
   "id": "247d35ae",
   "metadata": {},
   "outputs": [
    {
     "name": "stderr",
     "output_type": "stream",
     "text": [
      "C:\\Users\\anubhav.d.roy\\AppData\\Local\\anaconda3\\lib\\site-packages\\sentence_transformers\\util.py:39: UserWarning: Creating a tensor from a list of numpy.ndarrays is extremely slow. Please consider converting the list to a single numpy.ndarray with numpy.array() before converting to a tensor. (Triggered internally at ..\\torch\\csrc\\utils\\tensor_new.cpp:248.)\n",
      "  b = torch.tensor(b)\n"
     ]
    }
   ],
   "source": [
    "# Compute the cosine similarity between the query and the corpus\n",
    "cosine_scores = util.pytorch_cos_sim(query_embedding, embeddings)[0]\n",
    "\n",
    "# Sort the scores in descending order\n",
    "cosine_scores = cosine_scores.cpu()\n",
    "\n",
    "# Set value of k for number of examples you want\n",
    "top_results = torch.topk(cosine_scores, k=3)"
   ]
  },
  {
   "cell_type": "code",
   "execution_count": 13,
   "id": "e943aace",
   "metadata": {},
   "outputs": [
    {
     "name": "stdout",
     "output_type": "stream",
     "text": [
      "Query: What caused an increase in costs in 2022?\n",
      "Top 3 most similar sentences in corpus:\n",
      "What were the main drivers of cost increases in 2022 ? (Score: 0.9210)\n",
      "Did the company experience any significant fluctuations in expenses throughout the year 2022 ? (Score: 0.6176)\n",
      "Give me the total expenses for the year 2023 (Score: 0.6084)\n"
     ]
    }
   ],
   "source": [
    "# Print the top 3 most similar sentences in the corpus\n",
    "print(\"Query:\", query)\n",
    "print(\"Top 3 most similar sentences in corpus:\")\n",
    "for score, idx in zip(top_results[0], top_results[1]):\n",
    "    print(corpus[idx], \"(Score: {:.4f})\".format(score))"
   ]
  },
  {
   "cell_type": "code",
   "execution_count": 14,
   "id": "385dd0cd",
   "metadata": {},
   "outputs": [
    {
     "data": {
      "text/plain": [
       "tensor([ 0, 10, 13])"
      ]
     },
     "execution_count": 14,
     "metadata": {},
     "output_type": "execute_result"
    }
   ],
   "source": [
    "# You get the indices of the top 3 as\n",
    "top_results[1]"
   ]
  },
  {
   "cell_type": "code",
   "execution_count": 18,
   "id": "190c6b2e",
   "metadata": {},
   "outputs": [
    {
     "name": "stdout",
     "output_type": "stream",
     "text": [
      "\n",
      "################## Example 1 ##################\n",
      "\n",
      "# Example:\n",
      "    Question: What were the main drivers of cost increases in 2022\n",
      "\n",
      "Output:\n",
      "    To identify the main drivers of cost increases in 2022, we need to analyze the data further. However, based on the given column details, we can filter and group the data to get a preliminary understanding of the cost increases. Here's the code to do that:\n",
      "\n",
      "    ```python\n",
      "    # Filter the necessary columns\n",
      "    df = df[['Version___Description', 'Date___FISCAL_CALPERIOD', 'FLOW_TYPE___Description', 'SAP_ALL_COMPANY_CODE___Description',                  'SAP_FI_IFP_GLACCOUNT___Description', 'SAP_ALL_PROFITCENTER___Description', 'SAP_ALL_FUNCTIONALAREA___Description', 'AMOUNT']]\n",
      "\n",
      "    # Filter the data for the year 2022 only\n",
      "    df_filtered = df[(df['Date___FISCAL_CALPERIOD'] >= '202201') & (df['Date___FISCAL_CALPERIOD'] <= '202212')]\n",
      "\n",
      "    # Group the data by the necessary columns and get the total amount for each group\n",
      "    grouped_data = df_filtered.groupby(['SAP_ALL_COMPANY_CODE___Description', 'SAP_FI_IFP_GLACCOUNT___Description',                     'SAP_ALL_PROFITCENTER___Description', 'SAP_ALL_FUNCTIONALAREA___Description']).sum().reset_index()\n",
      "\n",
      "    # Sort the data by the amount in descending order\n",
      "    sorted_data = grouped_data.sort_values(by='AMOUNT', ascending=False)\n",
      "\n",
      "    # Print the top 10 rows to see the main drivers of cost increases\n",
      "    print(sorted_data.head(10))\n",
      "    sorted_data.head(10).to_csv('output.csv', index=False)\n",
      "    ```\n",
      "\n",
      "    This code will give us a grouped and sorted view of the data, which can help us identify the main drivers of cost increases in 2022. However, further analysis may be required to get a more accurate understanding of the cost increases.\n",
      "\n",
      "################## Example 2 ##################\n",
      "\n",
      "# Example:\n",
      "    Question:Did the company experience any significant fluctuations in expenses throughout the year 2022 ?\n",
      "\n",
      "Output:\n",
      "    To calculate any significant fluctuations in expenses throughout the year 2022, we need to analyze the data further. However, based on the given column details, we can filter and group the data to get a preliminary understanding of the cost increases. Here's the code to do that:\n",
      "    \n",
      "    ```python\n",
      "    # Filter the necessary columns\n",
      "    df = df[['Date___FISCAL_CALPERIOD', 'AMOUNT']]\n",
      "\n",
      "    # Filter the necessary columns\n",
      "    df = df[['Date___FISCAL_CALPERIOD', 'AMOUNT']]\n",
      "\n",
      "    # Filter the data for the year 2022 only\n",
      "    df_filtered = df[(df['Date___FISCAL_CALPERIOD'] >= '202201') & (df['Date___FISCAL_CALPERIOD'] <= '202212')]\n",
      "\n",
      "    # Group the data by month and get the total amount for each month\n",
      "    grouped_data = df_filtered.groupby('Date___FISCAL_CALPERIOD').sum().reset_index()\n",
      "\n",
      "    # Calculate the standard deviation of the expenses\n",
      "    std_dev = grouped_data['AMOUNT'].std()\n",
      "\n",
      "    # Calculate the mean of the expenses\n",
      "    mean = grouped_data['AMOUNT'].mean()\n",
      "\n",
      "    # Calculate the upper and lower limits for significant fluctuations\n",
      "    upper_limit = mean + (2 * std_dev)\n",
      "    lower_limit = mean - (2 * std_dev)\n",
      "\n",
      "    # Check if there were any significant fluctuations in expenses\n",
      "    if (grouped_data['AMOUNT'] > upper_limit).any() or (grouped_data['AMOUNT'] < lower_limit).any():\n",
      "        print(\"\"Yes, the company experienced significant fluctuations in expenses throughout the year 2022.\"\")\n",
      "        with open('output.txt', 'w') as f:\n",
      "        f.write(\"\"Yes, the company experienced significant fluctuations in expenses throughout the year 2022.\"\")\n",
      "    else:\n",
      "        print(\"\"No, the company did not experience significant fluctuations in expenses throughout the year 2022.\"\")\n",
      "        with open('output.txt', 'w') as f:\n",
      "        f.write(\"\"No, the company did not experience significant fluctuations in expenses throughout the year 2022.\"\")\n",
      "    ```\n",
      "    This code will give us a grouped and sorted view of the data, which can help us identify the any significant fluctuations in expenses throughout the year 2022. However, further analysis may be required to get a more accurate understanding the significant fluctuations in expenses throughout the year 2022.\n",
      "\n",
      "################## Example 3 ##################\n",
      "\n",
      "# Example:\n",
      "    Question:Give me the total expenses for the year 2023.\n",
      "\n",
      "Output:\n",
      "    To calculate the total expenses for the year 2023, we need to analyze the data further. However, based on the given column details, we can filter and group the data to get a preliminary understanding of the cost increases. Here's the code to do that:\n",
      "    \n",
      "    ```python\n",
      "    # Filter the necessary columns\n",
      "    df = df[['Date___FISCAL_CALPERIOD', 'SAP_FI_IFP_GLACCOUNT___Description', 'AMOUNT']]\n",
      "\n",
      "    # Filter the data for the year 2023 and for the necessary accounts\n",
      "    df_filtered = df[(df['Date___FISCAL_CALPERIOD'] >= '202301') & (df['Date___FISCAL_CALPERIOD'] <= '202312') & (df['SAP_FI_IFP_GLACCOUNT___Description'].str.contains('Expense'))]\n",
      "\n",
      "    # Get the total expenses for the year 2023\n",
      "    total_expenses = df_filtered['AMOUNT'].sum()\n",
      "\n",
      "    # Print the total expenses for the year 2023\n",
      "    print(f\"The total expenses for the year 2023 is {'%.2f' % total_expenses}\")\n",
      "\n",
      "    with open('output.txt', 'w') as f:\n",
      "        f.write(f\"The total expenses for the year 2023 is {'%.2f' % total_expenses}\")\n",
      "    ```\n",
      "    This code will give us a grouped and sorted view of the data, which can help us identify the total expenses for the year 2023. However, further analysis may be required to get a more accurate understanding the total expenses for the year 2023.\n"
     ]
    }
   ],
   "source": [
    "# Print the solution as follows:\n",
    "i=0\n",
    "for indic in top_results[1]:\n",
    "    print(f\"\\n################## Example {str(i+1)} ##################\\n\")\n",
    "    print(solution[int(indic)])\n",
    "    i=i+1"
   ]
  },
  {
   "cell_type": "code",
   "execution_count": null,
   "id": "36cb187a",
   "metadata": {},
   "outputs": [],
   "source": []
  },
  {
   "cell_type": "code",
   "execution_count": null,
   "id": "d32aee9b",
   "metadata": {},
   "outputs": [],
   "source": []
  }
 ],
 "metadata": {
  "kernelspec": {
   "display_name": "Python 3 (ipykernel)",
   "language": "python",
   "name": "python3"
  },
  "language_info": {
   "codemirror_mode": {
    "name": "ipython",
    "version": 3
   },
   "file_extension": ".py",
   "mimetype": "text/x-python",
   "name": "python",
   "nbconvert_exporter": "python",
   "pygments_lexer": "ipython3",
   "version": "3.10.9"
  }
 },
 "nbformat": 4,
 "nbformat_minor": 5
}
