{
 "cells": [
  {
   "cell_type": "markdown",
   "id": "84e0e939",
   "metadata": {},
   "source": [
    "# Project - Intelligent Collection Management"
   ]
  },
  {
   "cell_type": "code",
   "execution_count": 1,
   "id": "06a4bc15",
   "metadata": {},
   "outputs": [],
   "source": [
    "# Importing the required libraries"
   ]
  },
  {
   "cell_type": "code",
   "execution_count": 24,
   "id": "e700ca7a",
   "metadata": {},
   "outputs": [],
   "source": [
    "import pandas as pd\n",
    "import numpy as np\n",
    "import seaborn as sns"
   ]
  },
  {
   "cell_type": "code",
   "execution_count": 25,
   "id": "054035cc",
   "metadata": {},
   "outputs": [],
   "source": [
    "# Reading the data "
   ]
  },
  {
   "cell_type": "code",
   "execution_count": 26,
   "id": "82eb4c91",
   "metadata": {},
   "outputs": [],
   "source": [
    "data = pd.ExcelFile(\"C:/Users/a.a.madhu.karanath/SAP Finance2/Intelligent_coll_test1.xlsx\")"
   ]
  },
  {
   "cell_type": "code",
   "execution_count": 27,
   "id": "52ac8c41",
   "metadata": {},
   "outputs": [
    {
     "data": {
      "text/plain": [
       "['KNC1 Table', 'FBL5N', 'Business Rules', 'Metrics']"
      ]
     },
     "execution_count": 27,
     "metadata": {},
     "output_type": "execute_result"
    }
   ],
   "source": [
    "data.sheet_names"
   ]
  },
  {
   "cell_type": "code",
   "execution_count": 28,
   "id": "7853a26b",
   "metadata": {},
   "outputs": [],
   "source": [
    "data_knc = data.parse('KNC1 Table')"
   ]
  },
  {
   "cell_type": "code",
   "execution_count": 29,
   "id": "9f265315",
   "metadata": {},
   "outputs": [
    {
     "data": {
      "text/plain": [
       "Index(['Customer', 'Company Code', 'Fiscal Year', 'Created on', 'User Name',\n",
       "       'Balance Carryforward', 'Debit', 'Credit', 'Sales', 'Debit.1',\n",
       "       'Credit.1', 'Sales.1', 'Debit.2', 'Credit.2', 'Sales.2', 'Debit.3',\n",
       "       'Credit.3', 'Sales.3', 'Total O/S for the period', 'Debit.4',\n",
       "       'Credit.4', 'Sales.4', 'Debit.5', 'Credit.5', 'Sales.5', 'Debit.6',\n",
       "       'Credit.6', 'Sales.6', 'Debit.7', 'Credit.7', 'Sales.7', 'Debit.8',\n",
       "       'Credit.8', 'Sales.8', 'Debit.9', 'Credit.9', 'Sales.9', 'Debit.10',\n",
       "       'Credit.10', 'Sales.10', 'Debit.11', 'Credit.11', 'Sales.11',\n",
       "       'Debit.12', 'Credit.12', 'Sales.12', 'Debit.13', 'Credit.13',\n",
       "       'Sales.13', 'Debit.14', 'Credit.14', 'Sales.14', 'Debit.15',\n",
       "       'Credit.15', 'Sales.15', 'Author.Deductions', 'Unauthor.Deductions',\n",
       "       'Acc.int.calc.numertr', 'Clearing Amount'],\n",
       "      dtype='object')"
      ]
     },
     "execution_count": 29,
     "metadata": {},
     "output_type": "execute_result"
    }
   ],
   "source": [
    "data_knc.columns"
   ]
  },
  {
   "cell_type": "code",
   "execution_count": 30,
   "id": "cadd319d",
   "metadata": {},
   "outputs": [],
   "source": [
    "data_knc = data_knc[['Customer', 'Company Code', 'Fiscal Year', \n",
    "       'Balance Carryforward', 'Debit', 'Credit', 'Sales', 'Clearing Amount']]"
   ]
  },
  {
   "cell_type": "code",
   "execution_count": 69,
   "id": "a9b33275",
   "metadata": {},
   "outputs": [],
   "source": [
    "customer_counts = data_fbln5['Account'].value_counts()"
   ]
  },
  {
   "cell_type": "code",
   "execution_count": 31,
   "id": "79025a7f",
   "metadata": {},
   "outputs": [
    {
     "data": {
      "text/plain": [
       "float"
      ]
     },
     "execution_count": 31,
     "metadata": {},
     "output_type": "execute_result"
    }
   ],
   "source": [
    "type(data_knc['Balance Carryforward'][0])"
   ]
  },
  {
   "cell_type": "code",
   "execution_count": 32,
   "id": "ddab754b",
   "metadata": {},
   "outputs": [],
   "source": [
    "data_knc['Balance Carryforward'] = data_knc['Balance Carryforward'].astype('str')\n",
    "data_knc['Balance Carryforward'] = data_knc['Balance Carryforward'].str.replace(',','')\n",
    "data_knc['Balance Carryforward'] = data_knc['Balance Carryforward'].astype('float')\n",
    "data_knc['Sales'] = data_knc['Sales'].astype('str')\n",
    "data_knc['Sales'] = data_knc['Sales'].str.replace(',','')\n",
    "data_knc['Sales'] = data_knc['Sales'].astype('float')"
   ]
  },
  {
   "cell_type": "code",
   "execution_count": 33,
   "id": "d2ae5414",
   "metadata": {},
   "outputs": [],
   "source": [
    "data_knc['DSO'] = (data_knc['Balance Carryforward']/data_knc['Sales'])*30"
   ]
  },
  {
   "cell_type": "code",
   "execution_count": 34,
   "id": "9ea22da6",
   "metadata": {},
   "outputs": [],
   "source": [
    "data_knc['DSO'] = round(data_knc['DSO'], 0)"
   ]
  },
  {
   "cell_type": "code",
   "execution_count": 35,
   "id": "1e79fae5",
   "metadata": {},
   "outputs": [
    {
     "data": {
      "text/plain": [
       "0         86.0\n",
       "1          inf\n",
       "2         55.0\n",
       "3          inf\n",
       "4          0.0\n",
       "5         38.0\n",
       "6          0.0\n",
       "7         18.0\n",
       "8          0.0\n",
       "9         22.0\n",
       "10    597243.0\n",
       "11         inf\n",
       "12         inf\n",
       "13         inf\n",
       "14        54.0\n",
       "15         0.0\n",
       "Name: DSO, dtype: float64"
      ]
     },
     "execution_count": 35,
     "metadata": {},
     "output_type": "execute_result"
    }
   ],
   "source": [
    "data_knc['DSO']"
   ]
  },
  {
   "cell_type": "code",
   "execution_count": 36,
   "id": "a1a80b40",
   "metadata": {},
   "outputs": [
    {
     "name": "stdout",
     "output_type": "stream",
     "text": [
      "<class 'pandas.core.frame.DataFrame'>\n",
      "RangeIndex: 16 entries, 0 to 15\n",
      "Data columns (total 9 columns):\n",
      " #   Column                Non-Null Count  Dtype  \n",
      "---  ------                --------------  -----  \n",
      " 0   Customer              16 non-null     int64  \n",
      " 1   Company Code          16 non-null     int64  \n",
      " 2   Fiscal Year           16 non-null     int64  \n",
      " 3   Balance Carryforward  16 non-null     float64\n",
      " 4   Debit                 16 non-null     object \n",
      " 5   Credit                16 non-null     object \n",
      " 6   Sales                 16 non-null     float64\n",
      " 7   Clearing Amount       16 non-null     object \n",
      " 8   DSO                   16 non-null     float64\n",
      "dtypes: float64(3), int64(3), object(3)\n",
      "memory usage: 1.2+ KB\n"
     ]
    }
   ],
   "source": [
    "data_knc.info()"
   ]
  },
  {
   "cell_type": "code",
   "execution_count": 37,
   "id": "5134abef",
   "metadata": {},
   "outputs": [
    {
     "data": {
      "text/plain": [
       "pandas.core.frame.DataFrame"
      ]
     },
     "execution_count": 37,
     "metadata": {},
     "output_type": "execute_result"
    }
   ],
   "source": [
    "type(data_knc)"
   ]
  },
  {
   "cell_type": "code",
   "execution_count": 38,
   "id": "6d5a7873",
   "metadata": {},
   "outputs": [
    {
     "name": "stderr",
     "output_type": "stream",
     "text": [
      "C:\\Users\\a.a.madhu.karanath\\AppData\\Roaming\\Python\\Python39\\site-packages\\numpy\\lib\\function_base.py:4486: RuntimeWarning: invalid value encountered in subtract\n",
      "  diff_b_a = subtract(b, a)\n"
     ]
    },
    {
     "data": {
      "text/html": [
       "<div>\n",
       "<style scoped>\n",
       "    .dataframe tbody tr th:only-of-type {\n",
       "        vertical-align: middle;\n",
       "    }\n",
       "\n",
       "    .dataframe tbody tr th {\n",
       "        vertical-align: top;\n",
       "    }\n",
       "\n",
       "    .dataframe thead th {\n",
       "        text-align: right;\n",
       "    }\n",
       "</style>\n",
       "<table border=\"1\" class=\"dataframe\">\n",
       "  <thead>\n",
       "    <tr style=\"text-align: right;\">\n",
       "      <th></th>\n",
       "      <th>Customer</th>\n",
       "      <th>Company Code</th>\n",
       "      <th>Fiscal Year</th>\n",
       "      <th>Balance Carryforward</th>\n",
       "      <th>Sales</th>\n",
       "      <th>DSO</th>\n",
       "    </tr>\n",
       "  </thead>\n",
       "  <tbody>\n",
       "    <tr>\n",
       "      <th>count</th>\n",
       "      <td>16.000000</td>\n",
       "      <td>16.0</td>\n",
       "      <td>16.0</td>\n",
       "      <td>16.000000</td>\n",
       "      <td>16.000000</td>\n",
       "      <td>16.0</td>\n",
       "    </tr>\n",
       "    <tr>\n",
       "      <th>mean</th>\n",
       "      <td>381906.250000</td>\n",
       "      <td>9001.0</td>\n",
       "      <td>2023.0</td>\n",
       "      <td>21669.292412</td>\n",
       "      <td>16926.320422</td>\n",
       "      <td>inf</td>\n",
       "    </tr>\n",
       "    <tr>\n",
       "      <th>std</th>\n",
       "      <td>277631.502665</td>\n",
       "      <td>0.0</td>\n",
       "      <td>0.0</td>\n",
       "      <td>34990.692807</td>\n",
       "      <td>35205.273768</td>\n",
       "      <td>NaN</td>\n",
       "    </tr>\n",
       "    <tr>\n",
       "      <th>min</th>\n",
       "      <td>104617.000000</td>\n",
       "      <td>9001.0</td>\n",
       "      <td>2023.0</td>\n",
       "      <td>0.000000</td>\n",
       "      <td>0.000000</td>\n",
       "      <td>0.0</td>\n",
       "    </tr>\n",
       "    <tr>\n",
       "      <th>25%</th>\n",
       "      <td>106227.500000</td>\n",
       "      <td>9001.0</td>\n",
       "      <td>2023.0</td>\n",
       "      <td>2.176785</td>\n",
       "      <td>0.000000</td>\n",
       "      <td>13.5</td>\n",
       "    </tr>\n",
       "    <tr>\n",
       "      <th>50%</th>\n",
       "      <td>384949.000000</td>\n",
       "      <td>9001.0</td>\n",
       "      <td>2023.0</td>\n",
       "      <td>25.590845</td>\n",
       "      <td>2.760000</td>\n",
       "      <td>54.5</td>\n",
       "    </tr>\n",
       "    <tr>\n",
       "      <th>75%</th>\n",
       "      <td>651234.000000</td>\n",
       "      <td>9001.0</td>\n",
       "      <td>2023.0</td>\n",
       "      <td>37323.500000</td>\n",
       "      <td>3122.277500</td>\n",
       "      <td>NaN</td>\n",
       "    </tr>\n",
       "    <tr>\n",
       "      <th>max</th>\n",
       "      <td>658721.000000</td>\n",
       "      <td>9001.0</td>\n",
       "      <td>2023.0</td>\n",
       "      <td>99082.000000</td>\n",
       "      <td>93526.000000</td>\n",
       "      <td>inf</td>\n",
       "    </tr>\n",
       "  </tbody>\n",
       "</table>\n",
       "</div>"
      ],
      "text/plain": [
       "            Customer  Company Code  Fiscal Year  Balance Carryforward  \\\n",
       "count      16.000000          16.0         16.0             16.000000   \n",
       "mean   381906.250000        9001.0       2023.0          21669.292412   \n",
       "std    277631.502665           0.0          0.0          34990.692807   \n",
       "min    104617.000000        9001.0       2023.0              0.000000   \n",
       "25%    106227.500000        9001.0       2023.0              2.176785   \n",
       "50%    384949.000000        9001.0       2023.0             25.590845   \n",
       "75%    651234.000000        9001.0       2023.0          37323.500000   \n",
       "max    658721.000000        9001.0       2023.0          99082.000000   \n",
       "\n",
       "              Sales   DSO  \n",
       "count     16.000000  16.0  \n",
       "mean   16926.320422   inf  \n",
       "std    35205.273768   NaN  \n",
       "min        0.000000   0.0  \n",
       "25%        0.000000  13.5  \n",
       "50%        2.760000  54.5  \n",
       "75%     3122.277500   NaN  \n",
       "max    93526.000000   inf  "
      ]
     },
     "execution_count": 38,
     "metadata": {},
     "output_type": "execute_result"
    }
   ],
   "source": [
    "data_knc.describe()"
   ]
  },
  {
   "cell_type": "code",
   "execution_count": 39,
   "id": "fcace4fc",
   "metadata": {},
   "outputs": [],
   "source": [
    "data_knc['Balance Carryforward'] = data_knc['Balance Carryforward'].astype('str')"
   ]
  },
  {
   "cell_type": "code",
   "execution_count": 40,
   "id": "0644e500",
   "metadata": {},
   "outputs": [
    {
     "data": {
      "text/plain": [
       "'6234.62'"
      ]
     },
     "execution_count": 40,
     "metadata": {},
     "output_type": "execute_result"
    }
   ],
   "source": [
    "data_knc['Balance Carryforward'][0]"
   ]
  },
  {
   "cell_type": "code",
   "execution_count": 41,
   "id": "5bb12d90",
   "metadata": {},
   "outputs": [],
   "source": [
    "data_fbln5= data.parse('FBL5N')"
   ]
  },
  {
   "cell_type": "code",
   "execution_count": 42,
   "id": "8eeff326",
   "metadata": {},
   "outputs": [
    {
     "data": {
      "text/plain": [
       "Index(['Account', 'Customer', 'Cleared/Open Items Symbol', 'Due Net',\n",
       "       'Assignment', 'Document Date', 'Document Type', 'Document Number',\n",
       "       'Baseline Payment Dte', 'Net Due Date', 'Clearing Document',\n",
       "       'Payment Date', 'Clearing Date', 'Arrears by Net Due Date',\n",
       "       'Arrears for Discount 1', 'Special G/L Ind.', 'Net Due Date Symbol',\n",
       "       'Amount in Local Currency', 'Local Currency', 'Text', 'Dunning Level',\n",
       "       'Dunning Area', 'Date of Promise to Pay', 'Disputed Item'],\n",
       "      dtype='object')"
      ]
     },
     "execution_count": 42,
     "metadata": {},
     "output_type": "execute_result"
    }
   ],
   "source": [
    "data_fbln5.columns"
   ]
  },
  {
   "cell_type": "code",
   "execution_count": 43,
   "id": "823ab2f9",
   "metadata": {},
   "outputs": [],
   "source": [
    "data_fbln5 = data_fbln5[['Account', 'Document Date', 'Document Type','Document Number', 'Baseline Payment Dte', 'Clearing Document', 'Payment Date', 'Clearing Date','Arrears by Net Due Date', 'Amount in Local Currency']]"
   ]
  },
  {
   "cell_type": "code",
   "execution_count": 44,
   "id": "02b17d64",
   "metadata": {},
   "outputs": [
    {
     "name": "stdout",
     "output_type": "stream",
     "text": [
      "<class 'pandas.core.frame.DataFrame'>\n",
      "RangeIndex: 617 entries, 0 to 616\n",
      "Data columns (total 10 columns):\n",
      " #   Column                    Non-Null Count  Dtype         \n",
      "---  ------                    --------------  -----         \n",
      " 0   Account                   616 non-null    float64       \n",
      " 1   Document Date             569 non-null    datetime64[ns]\n",
      " 2   Document Type             569 non-null    object        \n",
      " 3   Document Number           569 non-null    float64       \n",
      " 4   Baseline Payment Dte      569 non-null    datetime64[ns]\n",
      " 5   Clearing Document         461 non-null    float64       \n",
      " 6   Payment Date              569 non-null    datetime64[ns]\n",
      " 7   Clearing Date             461 non-null    datetime64[ns]\n",
      " 8   Arrears by Net Due Date   569 non-null    float64       \n",
      " 9   Amount in Local Currency  617 non-null    float64       \n",
      "dtypes: datetime64[ns](4), float64(5), object(1)\n",
      "memory usage: 48.3+ KB\n"
     ]
    }
   ],
   "source": [
    "data_fbln5.info()"
   ]
  },
  {
   "cell_type": "code",
   "execution_count": 45,
   "id": "7a78f6e3",
   "metadata": {},
   "outputs": [],
   "source": [
    "data_fbln5['Document_Exists'] = (~(data_fbln5['Clearing Document'].isna()))"
   ]
  },
  {
   "cell_type": "code",
   "execution_count": 115,
   "id": "2f80e88a",
   "metadata": {},
   "outputs": [
    {
     "data": {
      "text/plain": [
       "0       True\n",
       "1       True\n",
       "2       True\n",
       "3       True\n",
       "4       True\n",
       "       ...  \n",
       "612    False\n",
       "613    False\n",
       "614     True\n",
       "615     True\n",
       "616     True\n",
       "Name: Clearing Document, Length: 617, dtype: bool"
      ]
     },
     "execution_count": 115,
     "metadata": {},
     "output_type": "execute_result"
    }
   ],
   "source": [
    "data_fbln5['No_Document'] = data_fbln5['Clearing Document'].isna()"
   ]
  },
  {
   "cell_type": "code",
   "execution_count": 46,
   "id": "79f96b55",
   "metadata": {},
   "outputs": [
    {
     "data": {
      "text/plain": [
       "0      False\n",
       "1      False\n",
       "2      False\n",
       "3      False\n",
       "4      False\n",
       "       ...  \n",
       "612     True\n",
       "613     True\n",
       "614    False\n",
       "615    False\n",
       "616    False\n",
       "Name: Document_Exists, Length: 617, dtype: bool"
      ]
     },
     "execution_count": 46,
     "metadata": {},
     "output_type": "execute_result"
    }
   ],
   "source": [
    "data_fbln5['Document_Exists']"
   ]
  },
  {
   "cell_type": "code",
   "execution_count": 56,
   "id": "610be089",
   "metadata": {},
   "outputs": [],
   "source": [
    "data_fbln5['Ontime_pay'] = data_fbln5['Arrears by Net Due Date']<=0"
   ]
  },
  {
   "cell_type": "code",
   "execution_count": 100,
   "id": "29323934",
   "metadata": {},
   "outputs": [],
   "source": [
    "cnt_doc_Acc = data_fbln5.groupby('Account')['Document_Exists'].sum().reset_index()"
   ]
  },
  {
   "cell_type": "code",
   "execution_count": 113,
   "id": "0dd3c256",
   "metadata": {},
   "outputs": [],
   "source": [
    "cnt_clear_doc = data_fbln5.groupby('Account')"
   ]
  },
  {
   "cell_type": "code",
   "execution_count": 114,
   "id": "9646c7f8",
   "metadata": {},
   "outputs": [
    {
     "data": {
      "text/html": [
       "<div>\n",
       "<style scoped>\n",
       "    .dataframe tbody tr th:only-of-type {\n",
       "        vertical-align: middle;\n",
       "    }\n",
       "\n",
       "    .dataframe tbody tr th {\n",
       "        vertical-align: top;\n",
       "    }\n",
       "\n",
       "    .dataframe thead th {\n",
       "        text-align: right;\n",
       "    }\n",
       "</style>\n",
       "<table border=\"1\" class=\"dataframe\">\n",
       "  <thead>\n",
       "    <tr style=\"text-align: right;\">\n",
       "      <th></th>\n",
       "      <th>Account</th>\n",
       "      <th>Clearing Document</th>\n",
       "    </tr>\n",
       "  </thead>\n",
       "  <tbody>\n",
       "    <tr>\n",
       "      <th>0</th>\n",
       "      <td>104617.0</td>\n",
       "      <td>26</td>\n",
       "    </tr>\n",
       "    <tr>\n",
       "      <th>1</th>\n",
       "      <td>104988.0</td>\n",
       "      <td>14</td>\n",
       "    </tr>\n",
       "    <tr>\n",
       "      <th>2</th>\n",
       "      <td>105059.0</td>\n",
       "      <td>10</td>\n",
       "    </tr>\n",
       "    <tr>\n",
       "      <th>3</th>\n",
       "      <td>106226.0</td>\n",
       "      <td>17</td>\n",
       "    </tr>\n",
       "    <tr>\n",
       "      <th>4</th>\n",
       "      <td>106228.0</td>\n",
       "      <td>48</td>\n",
       "    </tr>\n",
       "    <tr>\n",
       "      <th>5</th>\n",
       "      <td>117582.0</td>\n",
       "      <td>30</td>\n",
       "    </tr>\n",
       "    <tr>\n",
       "      <th>6</th>\n",
       "      <td>130542.0</td>\n",
       "      <td>68</td>\n",
       "    </tr>\n",
       "    <tr>\n",
       "      <th>7</th>\n",
       "      <td>130761.0</td>\n",
       "      <td>14</td>\n",
       "    </tr>\n",
       "    <tr>\n",
       "      <th>8</th>\n",
       "      <td>639137.0</td>\n",
       "      <td>4</td>\n",
       "    </tr>\n",
       "    <tr>\n",
       "      <th>9</th>\n",
       "      <td>640649.0</td>\n",
       "      <td>14</td>\n",
       "    </tr>\n",
       "    <tr>\n",
       "      <th>10</th>\n",
       "      <td>645925.0</td>\n",
       "      <td>35</td>\n",
       "    </tr>\n",
       "    <tr>\n",
       "      <th>11</th>\n",
       "      <td>650657.0</td>\n",
       "      <td>0</td>\n",
       "    </tr>\n",
       "    <tr>\n",
       "      <th>12</th>\n",
       "      <td>652965.0</td>\n",
       "      <td>4</td>\n",
       "    </tr>\n",
       "    <tr>\n",
       "      <th>13</th>\n",
       "      <td>657928.0</td>\n",
       "      <td>4</td>\n",
       "    </tr>\n",
       "    <tr>\n",
       "      <th>14</th>\n",
       "      <td>658515.0</td>\n",
       "      <td>150</td>\n",
       "    </tr>\n",
       "    <tr>\n",
       "      <th>15</th>\n",
       "      <td>658721.0</td>\n",
       "      <td>23</td>\n",
       "    </tr>\n",
       "  </tbody>\n",
       "</table>\n",
       "</div>"
      ],
      "text/plain": [
       "     Account  Clearing Document\n",
       "0   104617.0                 26\n",
       "1   104988.0                 14\n",
       "2   105059.0                 10\n",
       "3   106226.0                 17\n",
       "4   106228.0                 48\n",
       "5   117582.0                 30\n",
       "6   130542.0                 68\n",
       "7   130761.0                 14\n",
       "8   639137.0                  4\n",
       "9   640649.0                 14\n",
       "10  645925.0                 35\n",
       "11  650657.0                  0\n",
       "12  652965.0                  4\n",
       "13  657928.0                  4\n",
       "14  658515.0                150\n",
       "15  658721.0                 23"
      ]
     },
     "execution_count": 114,
     "metadata": {},
     "output_type": "execute_result"
    }
   ],
   "source": [
    "cnt_clear_doc"
   ]
  },
  {
   "cell_type": "code",
   "execution_count": 95,
   "id": "42abdaf2",
   "metadata": {},
   "outputs": [],
   "source": [
    "data_fbln5['Ontime_pay_cnt'] = (data_fbln5['Ontime_pay'] & data_fbln5['Document_Exists'])"
   ]
  },
  {
   "cell_type": "code",
   "execution_count": 96,
   "id": "d57a7bd6",
   "metadata": {},
   "outputs": [],
   "source": [
    "Ontime_pay_cnt = data_fbln5.groupby('Account')['Ontime_pay_cnt'].sum().reset_index()"
   ]
  },
  {
   "cell_type": "code",
   "execution_count": 99,
   "id": "9a5ab24e",
   "metadata": {},
   "outputs": [
    {
     "data": {
      "text/html": [
       "<div>\n",
       "<style scoped>\n",
       "    .dataframe tbody tr th:only-of-type {\n",
       "        vertical-align: middle;\n",
       "    }\n",
       "\n",
       "    .dataframe tbody tr th {\n",
       "        vertical-align: top;\n",
       "    }\n",
       "\n",
       "    .dataframe thead th {\n",
       "        text-align: right;\n",
       "    }\n",
       "</style>\n",
       "<table border=\"1\" class=\"dataframe\">\n",
       "  <thead>\n",
       "    <tr style=\"text-align: right;\">\n",
       "      <th></th>\n",
       "      <th>Account</th>\n",
       "      <th>Ontime_pay_cnt</th>\n",
       "    </tr>\n",
       "  </thead>\n",
       "  <tbody>\n",
       "    <tr>\n",
       "      <th>0</th>\n",
       "      <td>104617.0</td>\n",
       "      <td>16</td>\n",
       "    </tr>\n",
       "    <tr>\n",
       "      <th>1</th>\n",
       "      <td>104988.0</td>\n",
       "      <td>6</td>\n",
       "    </tr>\n",
       "    <tr>\n",
       "      <th>2</th>\n",
       "      <td>105059.0</td>\n",
       "      <td>5</td>\n",
       "    </tr>\n",
       "    <tr>\n",
       "      <th>3</th>\n",
       "      <td>106226.0</td>\n",
       "      <td>7</td>\n",
       "    </tr>\n",
       "    <tr>\n",
       "      <th>4</th>\n",
       "      <td>106228.0</td>\n",
       "      <td>24</td>\n",
       "    </tr>\n",
       "    <tr>\n",
       "      <th>5</th>\n",
       "      <td>117582.0</td>\n",
       "      <td>11</td>\n",
       "    </tr>\n",
       "    <tr>\n",
       "      <th>6</th>\n",
       "      <td>130542.0</td>\n",
       "      <td>21</td>\n",
       "    </tr>\n",
       "    <tr>\n",
       "      <th>7</th>\n",
       "      <td>130761.0</td>\n",
       "      <td>10</td>\n",
       "    </tr>\n",
       "    <tr>\n",
       "      <th>8</th>\n",
       "      <td>639137.0</td>\n",
       "      <td>3</td>\n",
       "    </tr>\n",
       "    <tr>\n",
       "      <th>9</th>\n",
       "      <td>640649.0</td>\n",
       "      <td>10</td>\n",
       "    </tr>\n",
       "    <tr>\n",
       "      <th>10</th>\n",
       "      <td>645925.0</td>\n",
       "      <td>17</td>\n",
       "    </tr>\n",
       "    <tr>\n",
       "      <th>11</th>\n",
       "      <td>650657.0</td>\n",
       "      <td>0</td>\n",
       "    </tr>\n",
       "    <tr>\n",
       "      <th>12</th>\n",
       "      <td>652965.0</td>\n",
       "      <td>3</td>\n",
       "    </tr>\n",
       "    <tr>\n",
       "      <th>13</th>\n",
       "      <td>657928.0</td>\n",
       "      <td>3</td>\n",
       "    </tr>\n",
       "    <tr>\n",
       "      <th>14</th>\n",
       "      <td>658515.0</td>\n",
       "      <td>88</td>\n",
       "    </tr>\n",
       "    <tr>\n",
       "      <th>15</th>\n",
       "      <td>658721.0</td>\n",
       "      <td>19</td>\n",
       "    </tr>\n",
       "  </tbody>\n",
       "</table>\n",
       "</div>"
      ],
      "text/plain": [
       "     Account  Ontime_pay_cnt\n",
       "0   104617.0              16\n",
       "1   104988.0               6\n",
       "2   105059.0               5\n",
       "3   106226.0               7\n",
       "4   106228.0              24\n",
       "5   117582.0              11\n",
       "6   130542.0              21\n",
       "7   130761.0              10\n",
       "8   639137.0               3\n",
       "9   640649.0              10\n",
       "10  645925.0              17\n",
       "11  650657.0               0\n",
       "12  652965.0               3\n",
       "13  657928.0               3\n",
       "14  658515.0              88\n",
       "15  658721.0              19"
      ]
     },
     "execution_count": 99,
     "metadata": {},
     "output_type": "execute_result"
    }
   ],
   "source": [
    "Ontime_pay_cnt"
   ]
  },
  {
   "cell_type": "code",
   "execution_count": 103,
   "id": "ce6fc504",
   "metadata": {},
   "outputs": [],
   "source": [
    "Ontime_pay_per = (Ontime_pay_cnt['Ontime_pay_cnt']/cnt_doc_Acc['Document_Exists'])*100"
   ]
  },
  {
   "cell_type": "code",
   "execution_count": 104,
   "id": "dbdd4dec",
   "metadata": {},
   "outputs": [
    {
     "data": {
      "text/plain": [
       "0     61.538462\n",
       "1     42.857143\n",
       "2     50.000000\n",
       "3     41.176471\n",
       "4     50.000000\n",
       "5     36.666667\n",
       "6     30.882353\n",
       "7     71.428571\n",
       "8     75.000000\n",
       "9     71.428571\n",
       "10    48.571429\n",
       "11          NaN\n",
       "12    75.000000\n",
       "13    75.000000\n",
       "14    58.666667\n",
       "15    82.608696\n",
       "dtype: float64"
      ]
     },
     "execution_count": 104,
     "metadata": {},
     "output_type": "execute_result"
    }
   ],
   "source": [
    "Ontime_pay_per"
   ]
  },
  {
   "cell_type": "code",
   "execution_count": 105,
   "id": "ba81f518",
   "metadata": {},
   "outputs": [],
   "source": [
    "delay_pay_per = ((cnt_doc_Acc['Document_Exists']-Ontime_pay_cnt['Ontime_pay_cnt'])/cnt_doc_Acc['Document_Exists'])*100"
   ]
  },
  {
   "cell_type": "code",
   "execution_count": 106,
   "id": "e874e9f2",
   "metadata": {},
   "outputs": [
    {
     "data": {
      "text/plain": [
       "0     38.461538\n",
       "1     57.142857\n",
       "2     50.000000\n",
       "3     58.823529\n",
       "4     50.000000\n",
       "5     63.333333\n",
       "6     69.117647\n",
       "7     28.571429\n",
       "8     25.000000\n",
       "9     28.571429\n",
       "10    51.428571\n",
       "11          NaN\n",
       "12    25.000000\n",
       "13    25.000000\n",
       "14    41.333333\n",
       "15    17.391304\n",
       "dtype: float64"
      ]
     },
     "execution_count": 106,
     "metadata": {},
     "output_type": "execute_result"
    }
   ],
   "source": [
    "delay_pay_per"
   ]
  },
  {
   "cell_type": "code",
   "execution_count": 107,
   "id": "83b30757",
   "metadata": {},
   "outputs": [],
   "source": [
    "data_knc['Delay %'] = delay_pay_per"
   ]
  },
  {
   "cell_type": "code",
   "execution_count": 109,
   "id": "5816afb8",
   "metadata": {},
   "outputs": [],
   "source": [
    "data_knc['Ontimepay %'] = Ontime_pay_per"
   ]
  },
  {
   "cell_type": "code",
   "execution_count": 110,
   "id": "fe5a1a2d",
   "metadata": {},
   "outputs": [
    {
     "data": {
      "text/html": [
       "<div>\n",
       "<style scoped>\n",
       "    .dataframe tbody tr th:only-of-type {\n",
       "        vertical-align: middle;\n",
       "    }\n",
       "\n",
       "    .dataframe tbody tr th {\n",
       "        vertical-align: top;\n",
       "    }\n",
       "\n",
       "    .dataframe thead th {\n",
       "        text-align: right;\n",
       "    }\n",
       "</style>\n",
       "<table border=\"1\" class=\"dataframe\">\n",
       "  <thead>\n",
       "    <tr style=\"text-align: right;\">\n",
       "      <th></th>\n",
       "      <th>Customer</th>\n",
       "      <th>Company Code</th>\n",
       "      <th>Fiscal Year</th>\n",
       "      <th>Balance Carryforward</th>\n",
       "      <th>Debit</th>\n",
       "      <th>Credit</th>\n",
       "      <th>Sales</th>\n",
       "      <th>Clearing Amount</th>\n",
       "      <th>DSO</th>\n",
       "      <th>Delay %</th>\n",
       "      <th>Ontimepay %</th>\n",
       "    </tr>\n",
       "  </thead>\n",
       "  <tbody>\n",
       "    <tr>\n",
       "      <th>0</th>\n",
       "      <td>104617</td>\n",
       "      <td>9001</td>\n",
       "      <td>2023</td>\n",
       "      <td>6234.62</td>\n",
       "      <td>2169.37</td>\n",
       "      <td>0,00</td>\n",
       "      <td>2169.37000</td>\n",
       "      <td>15.113,95</td>\n",
       "      <td>86.0</td>\n",
       "      <td>38.461538</td>\n",
       "      <td>61.538462</td>\n",
       "    </tr>\n",
       "    <tr>\n",
       "      <th>1</th>\n",
       "      <td>104988</td>\n",
       "      <td>9001</td>\n",
       "      <td>2023</td>\n",
       "      <td>18.18327</td>\n",
       "      <td>0,00</td>\n",
       "      <td>0,00</td>\n",
       "      <td>0.00000</td>\n",
       "      <td>15.111,89</td>\n",
       "      <td>inf</td>\n",
       "      <td>57.142857</td>\n",
       "      <td>42.857143</td>\n",
       "    </tr>\n",
       "    <tr>\n",
       "      <th>2</th>\n",
       "      <td>105059</td>\n",
       "      <td>9001</td>\n",
       "      <td>2023</td>\n",
       "      <td>15.33266</td>\n",
       "      <td>8.360,04</td>\n",
       "      <td>0,00</td>\n",
       "      <td>8.36004</td>\n",
       "      <td>0,00</td>\n",
       "      <td>55.0</td>\n",
       "      <td>50.000000</td>\n",
       "      <td>50.000000</td>\n",
       "    </tr>\n",
       "    <tr>\n",
       "      <th>3</th>\n",
       "      <td>106226</td>\n",
       "      <td>9001</td>\n",
       "      <td>2023</td>\n",
       "      <td>2.20718</td>\n",
       "      <td>0,00</td>\n",
       "      <td>0,00</td>\n",
       "      <td>0.00000</td>\n",
       "      <td>94.458,89</td>\n",
       "      <td>inf</td>\n",
       "      <td>58.823529</td>\n",
       "      <td>41.176471</td>\n",
       "    </tr>\n",
       "    <tr>\n",
       "      <th>4</th>\n",
       "      <td>106228</td>\n",
       "      <td>9001</td>\n",
       "      <td>2023</td>\n",
       "      <td>98.36302</td>\n",
       "      <td>935,26</td>\n",
       "      <td>0,00</td>\n",
       "      <td>93526.00000</td>\n",
       "      <td>152.011,26</td>\n",
       "      <td>0.0</td>\n",
       "      <td>50.000000</td>\n",
       "      <td>50.000000</td>\n",
       "    </tr>\n",
       "    <tr>\n",
       "      <th>5</th>\n",
       "      <td>117582</td>\n",
       "      <td>9001</td>\n",
       "      <td>2023</td>\n",
       "      <td>99082.0</td>\n",
       "      <td>4.032,61</td>\n",
       "      <td>275,27</td>\n",
       "      <td>78000.00000</td>\n",
       "      <td>7.883,97</td>\n",
       "      <td>38.0</td>\n",
       "      <td>63.333333</td>\n",
       "      <td>36.666667</td>\n",
       "    </tr>\n",
       "    <tr>\n",
       "      <th>6</th>\n",
       "      <td>130542</td>\n",
       "      <td>9001</td>\n",
       "      <td>2023</td>\n",
       "      <td>32.99842</td>\n",
       "      <td>59,81</td>\n",
       "      <td>13.648,31</td>\n",
       "      <td>5981.00000</td>\n",
       "      <td>89.812,32</td>\n",
       "      <td>0.0</td>\n",
       "      <td>69.117647</td>\n",
       "      <td>30.882353</td>\n",
       "    </tr>\n",
       "    <tr>\n",
       "      <th>7</th>\n",
       "      <td>130761</td>\n",
       "      <td>9001</td>\n",
       "      <td>2023</td>\n",
       "      <td>53174.0</td>\n",
       "      <td>911,24</td>\n",
       "      <td>0,00</td>\n",
       "      <td>91124.00000</td>\n",
       "      <td>903,47</td>\n",
       "      <td>18.0</td>\n",
       "      <td>28.571429</td>\n",
       "      <td>71.428571</td>\n",
       "    </tr>\n",
       "    <tr>\n",
       "      <th>8</th>\n",
       "      <td>639137</td>\n",
       "      <td>9001</td>\n",
       "      <td>2023</td>\n",
       "      <td>0.0</td>\n",
       "      <td>2.628,00</td>\n",
       "      <td>0,00</td>\n",
       "      <td>2.62800</td>\n",
       "      <td>2.628,00</td>\n",
       "      <td>0.0</td>\n",
       "      <td>25.000000</td>\n",
       "      <td>75.000000</td>\n",
       "    </tr>\n",
       "    <tr>\n",
       "      <th>9</th>\n",
       "      <td>640649</td>\n",
       "      <td>9001</td>\n",
       "      <td>2023</td>\n",
       "      <td>1.29659</td>\n",
       "      <td>1.789,91</td>\n",
       "      <td>0,00</td>\n",
       "      <td>1.78991</td>\n",
       "      <td>3.136,33</td>\n",
       "      <td>22.0</td>\n",
       "      <td>28.571429</td>\n",
       "      <td>71.428571</td>\n",
       "    </tr>\n",
       "    <tr>\n",
       "      <th>10</th>\n",
       "      <td>645925</td>\n",
       "      <td>9001</td>\n",
       "      <td>2023</td>\n",
       "      <td>78000.0</td>\n",
       "      <td>3.918,00</td>\n",
       "      <td>0,00</td>\n",
       "      <td>3.91800</td>\n",
       "      <td>46.217,24</td>\n",
       "      <td>597243.0</td>\n",
       "      <td>51.428571</td>\n",
       "      <td>48.571429</td>\n",
       "    </tr>\n",
       "    <tr>\n",
       "      <th>11</th>\n",
       "      <td>650657</td>\n",
       "      <td>9001</td>\n",
       "      <td>2023</td>\n",
       "      <td>32040.0</td>\n",
       "      <td>0,00</td>\n",
       "      <td>0,00</td>\n",
       "      <td>0.00000</td>\n",
       "      <td>0,00</td>\n",
       "      <td>inf</td>\n",
       "      <td>NaN</td>\n",
       "      <td>NaN</td>\n",
       "    </tr>\n",
       "    <tr>\n",
       "      <th>12</th>\n",
       "      <td>652965</td>\n",
       "      <td>9001</td>\n",
       "      <td>2023</td>\n",
       "      <td>78000.0</td>\n",
       "      <td>0,00</td>\n",
       "      <td>0,00</td>\n",
       "      <td>0.00000</td>\n",
       "      <td>780,00</td>\n",
       "      <td>inf</td>\n",
       "      <td>25.000000</td>\n",
       "      <td>75.000000</td>\n",
       "    </tr>\n",
       "    <tr>\n",
       "      <th>13</th>\n",
       "      <td>657928</td>\n",
       "      <td>9001</td>\n",
       "      <td>2023</td>\n",
       "      <td>7.59185</td>\n",
       "      <td>0,00</td>\n",
       "      <td>0,00</td>\n",
       "      <td>0.00000</td>\n",
       "      <td>7.591,85</td>\n",
       "      <td>inf</td>\n",
       "      <td>25.000000</td>\n",
       "      <td>75.000000</td>\n",
       "    </tr>\n",
       "    <tr>\n",
       "      <th>14</th>\n",
       "      <td>658515</td>\n",
       "      <td>9001</td>\n",
       "      <td>2023</td>\n",
       "      <td>2.0856</td>\n",
       "      <td>5.059,20</td>\n",
       "      <td>6.228,00</td>\n",
       "      <td>1.16880</td>\n",
       "      <td>157,20</td>\n",
       "      <td>54.0</td>\n",
       "      <td>41.333333</td>\n",
       "      <td>58.666667</td>\n",
       "    </tr>\n",
       "    <tr>\n",
       "      <th>15</th>\n",
       "      <td>658721</td>\n",
       "      <td>9001</td>\n",
       "      <td>2023</td>\n",
       "      <td>0.0</td>\n",
       "      <td>2.892,00</td>\n",
       "      <td>0,00</td>\n",
       "      <td>2.89200</td>\n",
       "      <td>12.622,03</td>\n",
       "      <td>0.0</td>\n",
       "      <td>17.391304</td>\n",
       "      <td>82.608696</td>\n",
       "    </tr>\n",
       "  </tbody>\n",
       "</table>\n",
       "</div>"
      ],
      "text/plain": [
       "    Customer  Company Code  Fiscal Year Balance Carryforward     Debit  \\\n",
       "0     104617          9001         2023              6234.62   2169.37   \n",
       "1     104988          9001         2023             18.18327      0,00   \n",
       "2     105059          9001         2023             15.33266  8.360,04   \n",
       "3     106226          9001         2023              2.20718      0,00   \n",
       "4     106228          9001         2023             98.36302    935,26   \n",
       "5     117582          9001         2023              99082.0  4.032,61   \n",
       "6     130542          9001         2023             32.99842     59,81   \n",
       "7     130761          9001         2023              53174.0    911,24   \n",
       "8     639137          9001         2023                  0.0  2.628,00   \n",
       "9     640649          9001         2023              1.29659  1.789,91   \n",
       "10    645925          9001         2023              78000.0  3.918,00   \n",
       "11    650657          9001         2023              32040.0      0,00   \n",
       "12    652965          9001         2023              78000.0      0,00   \n",
       "13    657928          9001         2023              7.59185      0,00   \n",
       "14    658515          9001         2023               2.0856  5.059,20   \n",
       "15    658721          9001         2023                  0.0  2.892,00   \n",
       "\n",
       "       Credit        Sales Clearing Amount       DSO    Delay %  Ontimepay %  \n",
       "0        0,00   2169.37000       15.113,95      86.0  38.461538    61.538462  \n",
       "1        0,00      0.00000       15.111,89       inf  57.142857    42.857143  \n",
       "2        0,00      8.36004            0,00      55.0  50.000000    50.000000  \n",
       "3        0,00      0.00000       94.458,89       inf  58.823529    41.176471  \n",
       "4        0,00  93526.00000      152.011,26       0.0  50.000000    50.000000  \n",
       "5      275,27  78000.00000        7.883,97      38.0  63.333333    36.666667  \n",
       "6   13.648,31   5981.00000       89.812,32       0.0  69.117647    30.882353  \n",
       "7        0,00  91124.00000          903,47      18.0  28.571429    71.428571  \n",
       "8        0,00      2.62800        2.628,00       0.0  25.000000    75.000000  \n",
       "9        0,00      1.78991        3.136,33      22.0  28.571429    71.428571  \n",
       "10       0,00      3.91800       46.217,24  597243.0  51.428571    48.571429  \n",
       "11       0,00      0.00000            0,00       inf        NaN          NaN  \n",
       "12       0,00      0.00000          780,00       inf  25.000000    75.000000  \n",
       "13       0,00      0.00000        7.591,85       inf  25.000000    75.000000  \n",
       "14   6.228,00      1.16880          157,20      54.0  41.333333    58.666667  \n",
       "15       0,00      2.89200       12.622,03       0.0  17.391304    82.608696  "
      ]
     },
     "execution_count": 110,
     "metadata": {},
     "output_type": "execute_result"
    }
   ],
   "source": [
    "data_knc"
   ]
  },
  {
   "cell_type": "code",
   "execution_count": 116,
   "id": "0c9676d7",
   "metadata": {},
   "outputs": [
    {
     "data": {
      "text/plain": [
       "658515.0    159\n",
       "130542.0     88\n",
       "106228.0     61\n",
       "645925.0     45\n",
       "105059.0     43\n",
       "104617.0     42\n",
       "117582.0     39\n",
       "658721.0     27\n",
       "106226.0     26\n",
       "640649.0     20\n",
       "130761.0     19\n",
       "104988.0     18\n",
       "657928.0     10\n",
       "639137.0      8\n",
       "652965.0      8\n",
       "650657.0      3\n",
       "Name: Account, dtype: int64"
      ]
     },
     "execution_count": 116,
     "metadata": {},
     "output_type": "execute_result"
    }
   ],
   "source": [
    "customer_counts"
   ]
  },
  {
   "cell_type": "code",
   "execution_count": 130,
   "id": "f7e35377",
   "metadata": {},
   "outputs": [],
   "source": [
    "customer_counts = data_fbln5['Account'].value_counts().reset_index()"
   ]
  },
  {
   "cell_type": "code",
   "execution_count": 136,
   "id": "a090bbd2",
   "metadata": {},
   "outputs": [
    {
     "data": {
      "text/plain": [
       "0      26\n",
       "1      14\n",
       "2      10\n",
       "3      17\n",
       "4      48\n",
       "5      30\n",
       "6      68\n",
       "7      14\n",
       "8       4\n",
       "9      14\n",
       "10     35\n",
       "11      0\n",
       "12      4\n",
       "13      4\n",
       "14    150\n",
       "15     23\n",
       "Name: Document_Exists, dtype: int64"
      ]
     },
     "execution_count": 136,
     "metadata": {},
     "output_type": "execute_result"
    }
   ],
   "source": [
    "cnt_doc_Acc['Document_Exists']"
   ]
  },
  {
   "cell_type": "code",
   "execution_count": 138,
   "id": "d8cc9ff4",
   "metadata": {},
   "outputs": [],
   "source": [
    "data_knc['No Docs']  = customer_counts['Account'] - cnt_doc_Acc['Document_Exists']"
   ]
  },
  {
   "cell_type": "code",
   "execution_count": 141,
   "id": "a37f90be",
   "metadata": {},
   "outputs": [],
   "source": [
    "data_knc['OverdueInvoice%'] = (data_knc['No Docs']/customer_counts['Account'])*100"
   ]
  },
  {
   "cell_type": "code",
   "execution_count": 126,
   "id": "a463451c",
   "metadata": {},
   "outputs": [
    {
     "data": {
      "text/plain": [
       "0      26\n",
       "1      14\n",
       "2      10\n",
       "3      17\n",
       "4      48\n",
       "5      30\n",
       "6      68\n",
       "7      14\n",
       "8       4\n",
       "9      14\n",
       "10     35\n",
       "11      0\n",
       "12      4\n",
       "13      4\n",
       "14    150\n",
       "15     23\n",
       "Name: Document_Exists, dtype: int64"
      ]
     },
     "execution_count": 126,
     "metadata": {},
     "output_type": "execute_result"
    }
   ],
   "source": [
    "cnt_doc_Acc['Document_Exists']"
   ]
  },
  {
   "cell_type": "code",
   "execution_count": 128,
   "id": "09274d05",
   "metadata": {},
   "outputs": [
    {
     "data": {
      "text/plain": [
       "0      25\n",
       "1      13\n",
       "2       9\n",
       "3      16\n",
       "4      47\n",
       "5      29\n",
       "6      67\n",
       "7      13\n",
       "8       3\n",
       "9      13\n",
       "10     34\n",
       "11     -1\n",
       "12      3\n",
       "13      3\n",
       "14    149\n",
       "15     22\n",
       "Name: Document_Exists, dtype: int64"
      ]
     },
     "execution_count": 128,
     "metadata": {},
     "output_type": "execute_result"
    }
   ],
   "source": [
    "cnt_doc_Acc['Document_Exists']"
   ]
  },
  {
   "cell_type": "code",
   "execution_count": 142,
   "id": "1a8df975",
   "metadata": {},
   "outputs": [
    {
     "data": {
      "text/html": [
       "<div>\n",
       "<style scoped>\n",
       "    .dataframe tbody tr th:only-of-type {\n",
       "        vertical-align: middle;\n",
       "    }\n",
       "\n",
       "    .dataframe tbody tr th {\n",
       "        vertical-align: top;\n",
       "    }\n",
       "\n",
       "    .dataframe thead th {\n",
       "        text-align: right;\n",
       "    }\n",
       "</style>\n",
       "<table border=\"1\" class=\"dataframe\">\n",
       "  <thead>\n",
       "    <tr style=\"text-align: right;\">\n",
       "      <th></th>\n",
       "      <th>Customer</th>\n",
       "      <th>Company Code</th>\n",
       "      <th>Fiscal Year</th>\n",
       "      <th>Balance Carryforward</th>\n",
       "      <th>Debit</th>\n",
       "      <th>Credit</th>\n",
       "      <th>Sales</th>\n",
       "      <th>Clearing Amount</th>\n",
       "      <th>DSO</th>\n",
       "      <th>Delay %</th>\n",
       "      <th>Ontimepay %</th>\n",
       "      <th>No Docs</th>\n",
       "      <th>OverdueInvoice%</th>\n",
       "    </tr>\n",
       "  </thead>\n",
       "  <tbody>\n",
       "    <tr>\n",
       "      <th>0</th>\n",
       "      <td>104617</td>\n",
       "      <td>9001</td>\n",
       "      <td>2023</td>\n",
       "      <td>6234.62</td>\n",
       "      <td>2169.37</td>\n",
       "      <td>0,00</td>\n",
       "      <td>2169.37000</td>\n",
       "      <td>15.113,95</td>\n",
       "      <td>86.0</td>\n",
       "      <td>38.461538</td>\n",
       "      <td>61.538462</td>\n",
       "      <td>133</td>\n",
       "      <td>83.647799</td>\n",
       "    </tr>\n",
       "    <tr>\n",
       "      <th>1</th>\n",
       "      <td>104988</td>\n",
       "      <td>9001</td>\n",
       "      <td>2023</td>\n",
       "      <td>18.18327</td>\n",
       "      <td>0,00</td>\n",
       "      <td>0,00</td>\n",
       "      <td>0.00000</td>\n",
       "      <td>15.111,89</td>\n",
       "      <td>inf</td>\n",
       "      <td>57.142857</td>\n",
       "      <td>42.857143</td>\n",
       "      <td>74</td>\n",
       "      <td>84.090909</td>\n",
       "    </tr>\n",
       "    <tr>\n",
       "      <th>2</th>\n",
       "      <td>105059</td>\n",
       "      <td>9001</td>\n",
       "      <td>2023</td>\n",
       "      <td>15.33266</td>\n",
       "      <td>8.360,04</td>\n",
       "      <td>0,00</td>\n",
       "      <td>8.36004</td>\n",
       "      <td>0,00</td>\n",
       "      <td>55.0</td>\n",
       "      <td>50.000000</td>\n",
       "      <td>50.000000</td>\n",
       "      <td>51</td>\n",
       "      <td>83.606557</td>\n",
       "    </tr>\n",
       "    <tr>\n",
       "      <th>3</th>\n",
       "      <td>106226</td>\n",
       "      <td>9001</td>\n",
       "      <td>2023</td>\n",
       "      <td>2.20718</td>\n",
       "      <td>0,00</td>\n",
       "      <td>0,00</td>\n",
       "      <td>0.00000</td>\n",
       "      <td>94.458,89</td>\n",
       "      <td>inf</td>\n",
       "      <td>58.823529</td>\n",
       "      <td>41.176471</td>\n",
       "      <td>28</td>\n",
       "      <td>62.222222</td>\n",
       "    </tr>\n",
       "    <tr>\n",
       "      <th>4</th>\n",
       "      <td>106228</td>\n",
       "      <td>9001</td>\n",
       "      <td>2023</td>\n",
       "      <td>98.36302</td>\n",
       "      <td>935,26</td>\n",
       "      <td>0,00</td>\n",
       "      <td>93526.00000</td>\n",
       "      <td>152.011,26</td>\n",
       "      <td>0.0</td>\n",
       "      <td>50.000000</td>\n",
       "      <td>50.000000</td>\n",
       "      <td>-5</td>\n",
       "      <td>-11.627907</td>\n",
       "    </tr>\n",
       "    <tr>\n",
       "      <th>5</th>\n",
       "      <td>117582</td>\n",
       "      <td>9001</td>\n",
       "      <td>2023</td>\n",
       "      <td>99082.0</td>\n",
       "      <td>4.032,61</td>\n",
       "      <td>275,27</td>\n",
       "      <td>78000.00000</td>\n",
       "      <td>7.883,97</td>\n",
       "      <td>38.0</td>\n",
       "      <td>63.333333</td>\n",
       "      <td>36.666667</td>\n",
       "      <td>12</td>\n",
       "      <td>28.571429</td>\n",
       "    </tr>\n",
       "    <tr>\n",
       "      <th>6</th>\n",
       "      <td>130542</td>\n",
       "      <td>9001</td>\n",
       "      <td>2023</td>\n",
       "      <td>32.99842</td>\n",
       "      <td>59,81</td>\n",
       "      <td>13.648,31</td>\n",
       "      <td>5981.00000</td>\n",
       "      <td>89.812,32</td>\n",
       "      <td>0.0</td>\n",
       "      <td>69.117647</td>\n",
       "      <td>30.882353</td>\n",
       "      <td>-29</td>\n",
       "      <td>-74.358974</td>\n",
       "    </tr>\n",
       "    <tr>\n",
       "      <th>7</th>\n",
       "      <td>130761</td>\n",
       "      <td>9001</td>\n",
       "      <td>2023</td>\n",
       "      <td>53174.0</td>\n",
       "      <td>911,24</td>\n",
       "      <td>0,00</td>\n",
       "      <td>91124.00000</td>\n",
       "      <td>903,47</td>\n",
       "      <td>18.0</td>\n",
       "      <td>28.571429</td>\n",
       "      <td>71.428571</td>\n",
       "      <td>13</td>\n",
       "      <td>48.148148</td>\n",
       "    </tr>\n",
       "    <tr>\n",
       "      <th>8</th>\n",
       "      <td>639137</td>\n",
       "      <td>9001</td>\n",
       "      <td>2023</td>\n",
       "      <td>0.0</td>\n",
       "      <td>2.628,00</td>\n",
       "      <td>0,00</td>\n",
       "      <td>2.62800</td>\n",
       "      <td>2.628,00</td>\n",
       "      <td>0.0</td>\n",
       "      <td>25.000000</td>\n",
       "      <td>75.000000</td>\n",
       "      <td>22</td>\n",
       "      <td>84.615385</td>\n",
       "    </tr>\n",
       "    <tr>\n",
       "      <th>9</th>\n",
       "      <td>640649</td>\n",
       "      <td>9001</td>\n",
       "      <td>2023</td>\n",
       "      <td>1.29659</td>\n",
       "      <td>1.789,91</td>\n",
       "      <td>0,00</td>\n",
       "      <td>1.78991</td>\n",
       "      <td>3.136,33</td>\n",
       "      <td>22.0</td>\n",
       "      <td>28.571429</td>\n",
       "      <td>71.428571</td>\n",
       "      <td>6</td>\n",
       "      <td>30.000000</td>\n",
       "    </tr>\n",
       "    <tr>\n",
       "      <th>10</th>\n",
       "      <td>645925</td>\n",
       "      <td>9001</td>\n",
       "      <td>2023</td>\n",
       "      <td>78000.0</td>\n",
       "      <td>3.918,00</td>\n",
       "      <td>0,00</td>\n",
       "      <td>3.91800</td>\n",
       "      <td>46.217,24</td>\n",
       "      <td>597243.0</td>\n",
       "      <td>51.428571</td>\n",
       "      <td>48.571429</td>\n",
       "      <td>-16</td>\n",
       "      <td>-84.210526</td>\n",
       "    </tr>\n",
       "    <tr>\n",
       "      <th>11</th>\n",
       "      <td>650657</td>\n",
       "      <td>9001</td>\n",
       "      <td>2023</td>\n",
       "      <td>32040.0</td>\n",
       "      <td>0,00</td>\n",
       "      <td>0,00</td>\n",
       "      <td>0.00000</td>\n",
       "      <td>0,00</td>\n",
       "      <td>inf</td>\n",
       "      <td>NaN</td>\n",
       "      <td>NaN</td>\n",
       "      <td>18</td>\n",
       "      <td>100.000000</td>\n",
       "    </tr>\n",
       "    <tr>\n",
       "      <th>12</th>\n",
       "      <td>652965</td>\n",
       "      <td>9001</td>\n",
       "      <td>2023</td>\n",
       "      <td>78000.0</td>\n",
       "      <td>0,00</td>\n",
       "      <td>0,00</td>\n",
       "      <td>0.00000</td>\n",
       "      <td>780,00</td>\n",
       "      <td>inf</td>\n",
       "      <td>25.000000</td>\n",
       "      <td>75.000000</td>\n",
       "      <td>6</td>\n",
       "      <td>60.000000</td>\n",
       "    </tr>\n",
       "    <tr>\n",
       "      <th>13</th>\n",
       "      <td>657928</td>\n",
       "      <td>9001</td>\n",
       "      <td>2023</td>\n",
       "      <td>7.59185</td>\n",
       "      <td>0,00</td>\n",
       "      <td>0,00</td>\n",
       "      <td>0.00000</td>\n",
       "      <td>7.591,85</td>\n",
       "      <td>inf</td>\n",
       "      <td>25.000000</td>\n",
       "      <td>75.000000</td>\n",
       "      <td>4</td>\n",
       "      <td>50.000000</td>\n",
       "    </tr>\n",
       "    <tr>\n",
       "      <th>14</th>\n",
       "      <td>658515</td>\n",
       "      <td>9001</td>\n",
       "      <td>2023</td>\n",
       "      <td>2.0856</td>\n",
       "      <td>5.059,20</td>\n",
       "      <td>6.228,00</td>\n",
       "      <td>1.16880</td>\n",
       "      <td>157,20</td>\n",
       "      <td>54.0</td>\n",
       "      <td>41.333333</td>\n",
       "      <td>58.666667</td>\n",
       "      <td>-142</td>\n",
       "      <td>-1775.000000</td>\n",
       "    </tr>\n",
       "    <tr>\n",
       "      <th>15</th>\n",
       "      <td>658721</td>\n",
       "      <td>9001</td>\n",
       "      <td>2023</td>\n",
       "      <td>0.0</td>\n",
       "      <td>2.892,00</td>\n",
       "      <td>0,00</td>\n",
       "      <td>2.89200</td>\n",
       "      <td>12.622,03</td>\n",
       "      <td>0.0</td>\n",
       "      <td>17.391304</td>\n",
       "      <td>82.608696</td>\n",
       "      <td>-20</td>\n",
       "      <td>-666.666667</td>\n",
       "    </tr>\n",
       "  </tbody>\n",
       "</table>\n",
       "</div>"
      ],
      "text/plain": [
       "    Customer  Company Code  Fiscal Year Balance Carryforward     Debit  \\\n",
       "0     104617          9001         2023              6234.62   2169.37   \n",
       "1     104988          9001         2023             18.18327      0,00   \n",
       "2     105059          9001         2023             15.33266  8.360,04   \n",
       "3     106226          9001         2023              2.20718      0,00   \n",
       "4     106228          9001         2023             98.36302    935,26   \n",
       "5     117582          9001         2023              99082.0  4.032,61   \n",
       "6     130542          9001         2023             32.99842     59,81   \n",
       "7     130761          9001         2023              53174.0    911,24   \n",
       "8     639137          9001         2023                  0.0  2.628,00   \n",
       "9     640649          9001         2023              1.29659  1.789,91   \n",
       "10    645925          9001         2023              78000.0  3.918,00   \n",
       "11    650657          9001         2023              32040.0      0,00   \n",
       "12    652965          9001         2023              78000.0      0,00   \n",
       "13    657928          9001         2023              7.59185      0,00   \n",
       "14    658515          9001         2023               2.0856  5.059,20   \n",
       "15    658721          9001         2023                  0.0  2.892,00   \n",
       "\n",
       "       Credit        Sales Clearing Amount       DSO    Delay %  Ontimepay %  \\\n",
       "0        0,00   2169.37000       15.113,95      86.0  38.461538    61.538462   \n",
       "1        0,00      0.00000       15.111,89       inf  57.142857    42.857143   \n",
       "2        0,00      8.36004            0,00      55.0  50.000000    50.000000   \n",
       "3        0,00      0.00000       94.458,89       inf  58.823529    41.176471   \n",
       "4        0,00  93526.00000      152.011,26       0.0  50.000000    50.000000   \n",
       "5      275,27  78000.00000        7.883,97      38.0  63.333333    36.666667   \n",
       "6   13.648,31   5981.00000       89.812,32       0.0  69.117647    30.882353   \n",
       "7        0,00  91124.00000          903,47      18.0  28.571429    71.428571   \n",
       "8        0,00      2.62800        2.628,00       0.0  25.000000    75.000000   \n",
       "9        0,00      1.78991        3.136,33      22.0  28.571429    71.428571   \n",
       "10       0,00      3.91800       46.217,24  597243.0  51.428571    48.571429   \n",
       "11       0,00      0.00000            0,00       inf        NaN          NaN   \n",
       "12       0,00      0.00000          780,00       inf  25.000000    75.000000   \n",
       "13       0,00      0.00000        7.591,85       inf  25.000000    75.000000   \n",
       "14   6.228,00      1.16880          157,20      54.0  41.333333    58.666667   \n",
       "15       0,00      2.89200       12.622,03       0.0  17.391304    82.608696   \n",
       "\n",
       "    No Docs  OverdueInvoice%  \n",
       "0       133        83.647799  \n",
       "1        74        84.090909  \n",
       "2        51        83.606557  \n",
       "3        28        62.222222  \n",
       "4        -5       -11.627907  \n",
       "5        12        28.571429  \n",
       "6       -29       -74.358974  \n",
       "7        13        48.148148  \n",
       "8        22        84.615385  \n",
       "9         6        30.000000  \n",
       "10      -16       -84.210526  \n",
       "11       18       100.000000  \n",
       "12        6        60.000000  \n",
       "13        4        50.000000  \n",
       "14     -142     -1775.000000  \n",
       "15      -20      -666.666667  "
      ]
     },
     "execution_count": 142,
     "metadata": {},
     "output_type": "execute_result"
    }
   ],
   "source": [
    "data_knc"
   ]
  },
  {
   "cell_type": "code",
   "execution_count": null,
   "id": "62a72061",
   "metadata": {},
   "outputs": [],
   "source": []
  }
 ],
 "metadata": {
  "kernelspec": {
   "display_name": "Python 3 (ipykernel)",
   "language": "python",
   "name": "python3"
  },
  "language_info": {
   "codemirror_mode": {
    "name": "ipython",
    "version": 3
   },
   "file_extension": ".py",
   "mimetype": "text/x-python",
   "name": "python",
   "nbconvert_exporter": "python",
   "pygments_lexer": "ipython3",
   "version": "3.10.9"
  }
 },
 "nbformat": 4,
 "nbformat_minor": 5
}
