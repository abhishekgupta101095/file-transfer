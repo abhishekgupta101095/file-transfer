{
 "cells": [
  {
   "cell_type": "code",
   "execution_count": null,
   "id": "d529cc67-f590-4104-b2bc-64379fa42fc7",
   "metadata": {},
   "outputs": [],
   "source": []
  },
  {
   "cell_type": "code",
   "execution_count": null,
   "id": "bf1ffc28-0c8f-460f-81e8-9561c39f6a23",
   "metadata": {},
   "outputs": [],
   "source": [
    "from selenium import webdriver\n",
    "from selenium.webdriver.chrome.service import Service\n",
    "from selenium.webdriver.chrome.options import Options\n",
    "from selenium.webdriver.common.by import By\n",
    "from webdriver_manager.chrome import ChromeDriverManager\n",
    "import time\n",
    "\n",
    "# Step 1: Setup WebDriver with automatic driver management\n",
    "chrome_options = Options()\n",
    "chrome_options.add_argument(\"--headless\")  # Run in background (remove this for visible mode)\n",
    "service = Service(ChromeDriverManager().install())  # Auto-download ChromeDriver\n",
    "driver = webdriver.Chrome(service=service, options=chrome_options)\n",
    "\n",
    "# Step 2: Open the webpage\n",
    "driver.get(\"https://forms.ferc.gov/\")\n",
    "\n",
    "# Step 3: Click on \"Form 1 Viewer\"\n",
    "form_viewer_link = driver.find_element(By.ID, \"LinkButton1\")\n",
    "form_viewer_link.click()\n",
    "time.sleep(3)  # Wait for page to load\n",
    "\n",
    "# Step 4: Extract SHA-256 Checksum\n",
    "checksum_element = driver.find_element(By.ID, \"Content1_txtFormViewSHA256\")\n",
    "checksum_value = checksum_element.text.strip()\n",
    "\n",
    "# Step 5: Save the checksum to a file\n",
    "with open(\"checksum.txt\", \"w\") as file:\n",
    "    file.write(checksum_value)\n",
    "\n",
    "print(\"Extracted SHA-256 Checksum:\", checksum_value)\n",
    "\n",
    "# Close the browser\n",
    "driver.quit()\n"
   ]
  }
 ],
 "metadata": {
  "kernelspec": {
   "display_name": "Python 3 (ipykernel)",
   "language": "python",
   "name": "python3"
  },
  "language_info": {
   "codemirror_mode": {
    "name": "ipython",
    "version": 3
   },
   "file_extension": ".py",
   "mimetype": "text/x-python",
   "name": "python",
   "nbconvert_exporter": "python",
   "pygments_lexer": "ipython3",
   "version": "3.10.9"
  }
 },
 "nbformat": 4,
 "nbformat_minor": 5
}
