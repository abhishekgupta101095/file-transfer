{
 "cells": [
  {
   "cell_type": "code",
   "execution_count": 2,
   "id": "db85190d-44e3-4aec-a071-fa8ae8d49768",
   "metadata": {},
   "outputs": [
    {
     "name": "stdout",
     "output_type": "stream",
     "text": [
      "Requirement already satisfied: pandas in c:\\users\\abhishek.cw.gupta\\appdata\\local\\anaconda-3\\lib\\site-packages (2.2.3)\n",
      "Requirement already satisfied: numpy>=1.22.4 in c:\\users\\abhishek.cw.gupta\\appdata\\local\\anaconda-3\\lib\\site-packages (from pandas) (2.2.1)\n",
      "Requirement already satisfied: pytz>=2020.1 in c:\\users\\abhishek.cw.gupta\\appdata\\local\\anaconda-3\\lib\\site-packages (from pandas) (2022.7)\n",
      "Requirement already satisfied: python-dateutil>=2.8.2 in c:\\users\\abhishek.cw.gupta\\appdata\\local\\anaconda-3\\lib\\site-packages (from pandas) (2.8.2)\n",
      "Requirement already satisfied: tzdata>=2022.7 in c:\\users\\abhishek.cw.gupta\\appdata\\local\\anaconda-3\\lib\\site-packages (from pandas) (2023.3)\n",
      "Requirement already satisfied: six>=1.5 in c:\\users\\abhishek.cw.gupta\\appdata\\local\\anaconda-3\\lib\\site-packages (from python-dateutil>=2.8.2->pandas) (1.16.0)\n",
      "Note: you may need to restart the kernel to use updated packages.\n"
     ]
    },
    {
     "name": "stderr",
     "output_type": "stream",
     "text": [
      "WARNING: Ignoring invalid distribution -cipy (c:\\users\\abhishek.cw.gupta\\appdata\\local\\anaconda-3\\lib\\site-packages)\n",
      "WARNING: Ignoring invalid distribution -cipy (c:\\users\\abhishek.cw.gupta\\appdata\\local\\anaconda-3\\lib\\site-packages)\n",
      "WARNING: Ignoring invalid distribution -cipy (c:\\users\\abhishek.cw.gupta\\appdata\\local\\anaconda-3\\lib\\site-packages)\n",
      "WARNING: Ignoring invalid distribution -cipy (c:\\users\\abhishek.cw.gupta\\appdata\\local\\anaconda-3\\lib\\site-packages)\n",
      "WARNING: Ignoring invalid distribution -cipy (c:\\users\\abhishek.cw.gupta\\appdata\\local\\anaconda-3\\lib\\site-packages)\n",
      "WARNING: Ignoring invalid distribution -cipy (c:\\users\\abhishek.cw.gupta\\appdata\\local\\anaconda-3\\lib\\site-packages)\n"
     ]
    }
   ],
   "source": [
    "pip install --upgrade pandas"
   ]
  },
  {
   "cell_type": "code",
   "execution_count": 3,
   "id": "3a2653c6-9abe-43a8-be2a-2dd3667e02ff",
   "metadata": {},
   "outputs": [
    {
     "name": "stdout",
     "output_type": "stream",
     "text": [
      "✅ Data successfully saved to RenewableGenerators_GATS_Page2.xlsx\n"
     ]
    }
   ],
   "source": [
    "import requests\n",
    "import pandas as pd\n",
    "from bs4 import BeautifulSoup\n",
    "\n",
    "# Define URL and parameters to fetch rows 201-400\n",
    "url = \"https://gats.pjm-eis.com/gats2/PublicReports/RenewableGeneratorsRegisteredinGATS\"\n",
    "params = {\n",
    "    \"pageSize\": 200,  # Set page size to 200\n",
    "    \"page\": 2  # Fetch the second page (201-400)\n",
    "}\n",
    "\n",
    "# Headers to mimic a browser request (avoids blocking)\n",
    "headers = {\n",
    "    \"User-Agent\": \"Mozilla/5.0 (Windows NT 10.0; Win64; x64) AppleWebKit/537.36 (KHTML, like Gecko) Chrome/91.0.4472.124 Safari/537.36\"\n",
    "}\n",
    "\n",
    "# Send request (ensuring we do not exceed the 5-hit limit)\n",
    "response = requests.get(url, params=params, headers=headers)\n",
    "\n",
    "# Verify successful response\n",
    "if response.status_code == 200:\n",
    "    soup = BeautifulSoup(response.text, \"html.parser\")\n",
    "\n",
    "    # Locate the table\n",
    "    table = soup.find(\"table\", {\"id\": \"GridView_DXMainTable\"})\n",
    "    \n",
    "    if table:\n",
    "        rows = table.find_all(\"tr\")\n",
    "\n",
    "        # Extract headers from the first row\n",
    "        header_row = rows[0].find_all([\"th\", \"td\"])\n",
    "        headers = [th.text.strip() for th in header_row]\n",
    "\n",
    "        # Extract data from the remaining rows\n",
    "        data = []\n",
    "        for row in rows[1:]:  # Skip header row\n",
    "            cols = row.find_all(\"td\")\n",
    "            row_data = [col.text.strip() for col in cols]\n",
    "            data.append(row_data)\n",
    "\n",
    "        # Ensure proper column alignment\n",
    "        max_cols = max(len(row) for row in data)\n",
    "        if len(headers) < max_cols:\n",
    "            headers = [f\"Column_{i+1}\" for i in range(max_cols)]\n",
    "\n",
    "        # Create DataFrame\n",
    "        df = pd.DataFrame(data, columns=headers)\n",
    "\n",
    "        # Save DataFrame to Excel\n",
    "        file_name = \"RenewableGenerators_GATS_Page2.xlsx\"\n",
    "        df.to_excel(file_name, index=False)\n",
    "\n",
    "        print(f\"✅ Data successfully saved to {file_name}\")\n",
    "    else:\n",
    "        print(\"❌ No data found on the page.\")\n",
    "else:\n",
    "    print(f\"❌ Failed to fetch data. Status Code: {response.status_code}\")\n"
   ]
  },
  {
   "cell_type": "code",
   "execution_count": null,
   "id": "98b9172e",
   "metadata": {},
   "outputs": [],
   "source": []
  }
 ],
 "metadata": {
  "kernelspec": {
   "display_name": "Python 3 (ipykernel)",
   "language": "python",
   "name": "python3"
  },
  "language_info": {
   "codemirror_mode": {
    "name": "ipython",
    "version": 3
   },
   "file_extension": ".py",
   "mimetype": "text/x-python",
   "name": "python",
   "nbconvert_exporter": "python",
   "pygments_lexer": "ipython3",
   "version": "3.10.9"
  }
 },
 "nbformat": 4,
 "nbformat_minor": 5
}
