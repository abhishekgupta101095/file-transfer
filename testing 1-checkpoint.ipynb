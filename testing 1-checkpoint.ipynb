{
 "cells": [
  {
   "cell_type": "code",
   "execution_count": 1,
   "id": "03317e35-fc78-40ef-9a0e-9d58ef4e651f",
   "metadata": {
    "tags": []
   },
   "outputs": [],
   "source": [
    "from email_classifier import EmailClassifier"
   ]
  },
  {
   "cell_type": "code",
   "execution_count": 2,
   "id": "5a1428ef-402b-4adb-a0f5-f932b1e20d1b",
   "metadata": {
    "tags": []
   },
   "outputs": [],
   "source": [
    "message_benefit_1 = '''\n",
    "Dear Sir, \n",
    "\n",
    "Could you please send me the benefit summary for group insurance plan? We would like to review the coverage details and ensure everything is up to date. \n",
    "If you need any additional information from our end, please let me know. \n",
    "Thank you for your help! \n",
    "Policy ID: 5648321 \n",
    "\n",
    "Best regards, \n",
    "Mike Ross, TCR LLP \n",
    "'''\n",
    "\n",
    "message_subject_1 = \"Request for Benefit Summary\""
   ]
  },
  {
   "cell_type": "code",
   "execution_count": 3,
   "id": "67356631-3b6c-4e63-a946-4742082f0012",
   "metadata": {
    "tags": []
   },
   "outputs": [],
   "source": [
    "ec = EmailClassifier()\n",
    "json_test_1 = ec.find_email_classification(message_subject_1, message_benefit_1)"
   ]
  },
  {
   "cell_type": "code",
   "execution_count": 4,
   "id": "5491e65a-442b-4c07-bd8c-fcf29e17df50",
   "metadata": {
    "tags": []
   },
   "outputs": [
    {
     "data": {
      "text/plain": [
       "{'classification': 'am benefit summaries',\n",
       " 'urgency': 'low',\n",
       " 'sentiment': 'normal',\n",
       " 'policy_id': '5648321',\n",
       " 'insured_name': 'tcr llp'}"
      ]
     },
     "execution_count": 4,
     "metadata": {},
     "output_type": "execute_result"
    }
   ],
   "source": [
    "json_test_1"
   ]
  },
  {
   "cell_type": "code",
   "execution_count": 5,
   "id": "d9166ae6-2354-456c-871c-06564332ca16",
   "metadata": {
    "tags": []
   },
   "outputs": [],
   "source": [
    "#'am benefit summaries'\n",
    "#AM Invoices/Requests\n",
    "#AM Forms"
   ]
  },
  {
   "cell_type": "code",
   "execution_count": 6,
   "id": "ba510e9a-4378-4d78-b168-91a9c3d1909b",
   "metadata": {
    "tags": []
   },
   "outputs": [],
   "source": [
    "\n",
    "flyer_sub_1 =  \"Request for Enrollment Form for Group Benefits Insurance\"\n",
    " \n",
    "flyer_body_1 = '''Dear Sir,\n",
    " I hope you're doing well.\n",
    " Could you please send me the latest enrollment forms for group benefits program? \n",
    "We would like to distribute these to our employees for the upcoming open enrollment period.\n",
    " If there are any other related materials that you think might be useful, please feel free to include those as well. \n",
    "Thank you for your help! My Policy ID is 654321\n",
    " Best regards,\n",
    "Alisa Richards\n",
    "Automate.AI'''\n"
   ]
  },
  {
   "cell_type": "code",
   "execution_count": 7,
   "id": "0da97061-2242-4129-979f-56741075618d",
   "metadata": {
    "tags": []
   },
   "outputs": [],
   "source": [
    "json_test_2 = ec.find_email_classification(flyer_sub_1, flyer_body_1)"
   ]
  },
  {
   "cell_type": "code",
   "execution_count": 8,
   "id": "1f652097-7e14-499f-a65c-aef135f7eebb",
   "metadata": {
    "tags": []
   },
   "outputs": [
    {
     "name": "stdout",
     "output_type": "stream",
     "text": [
      "{'classification': 'am forms', 'urgency': 'low', 'sentiment': 'normal', 'policy_id': '654321', 'insured_name': 'automate.ai'}\n"
     ]
    }
   ],
   "source": [
    "print(json_test_2)"
   ]
  },
  {
   "cell_type": "code",
   "execution_count": 9,
   "id": "7f3dbd3e-edbe-4694-a37e-f60f247b09d6",
   "metadata": {
    "tags": []
   },
   "outputs": [],
   "source": [
    "import extract_msg\n",
    "\n",
    "f = r'emails/FW Comprehensive Group Benefits Insurance Quote Request-2.msg'  # Replace with yours\n",
    "msg = extract_msg.Message(f)\n",
    "msg_sender = msg.sender\n",
    "msg_date = msg.date\n",
    "msg_subj = msg.subject\n",
    "msg_message = msg.body\n",
    "msg.close()"
   ]
  },
  {
   "cell_type": "code",
   "execution_count": 10,
   "id": "72b23a1b-3317-41a5-9a22-1c4dd3a86296",
   "metadata": {
    "tags": []
   },
   "outputs": [],
   "source": [
    "json_test_3 = ec.find_email_classification(msg_subj, msg_message)"
   ]
  },
  {
   "cell_type": "code",
   "execution_count": 11,
   "id": "b11ad3fd-648c-4392-97d6-8e7b0732d956",
   "metadata": {
    "tags": []
   },
   "outputs": [
    {
     "data": {
      "text/plain": [
       "{'classification': 'new quote / underwriting',\n",
       " 'urgency': 'high',\n",
       " 'sentiment': 'normal',\n",
       " 'policy_id': None,\n",
       " 'insured_name': None}"
      ]
     },
     "execution_count": 11,
     "metadata": {},
     "output_type": "execute_result"
    }
   ],
   "source": [
    "json_test_3"
   ]
  },
  {
   "cell_type": "code",
   "execution_count": 12,
   "id": "9d4f2d59-9b6b-48cb-a621-76e88822a0b4",
   "metadata": {
    "tags": []
   },
   "outputs": [],
   "source": [
    "inv_subj_1 =  \"Request for Invoice for Recent Payment for Policy ID 3236745\"\n",
    "inv_body_1 ='''Dear Sir,\n",
    " I hope this email finds you well.\n",
    "Could you kindly send me the most recent invoice for our group insurance plan? \n",
    " \n",
    "Additionally, I would appreciate it if you could also send any relevant materials that might assist us in understanding the benefits and coverage for this year.\n",
    " \n",
    "Thank you in advance for your assistance. Policy ID: 679318\n",
    " \n",
    "Best regards,\n",
    "Sam Taylor'''"
   ]
  },
  {
   "cell_type": "code",
   "execution_count": 13,
   "id": "93670a23-e656-43c9-9a86-b4933049fc1f",
   "metadata": {
    "tags": []
   },
   "outputs": [],
   "source": [
    "json_test_4 = ec.find_email_classification(inv_subj_1, inv_body_1)"
   ]
  },
  {
   "cell_type": "code",
   "execution_count": 14,
   "id": "b3a70010-ce51-4996-a4b1-a221cefda4ad",
   "metadata": {
    "tags": []
   },
   "outputs": [
    {
     "name": "stdout",
     "output_type": "stream",
     "text": [
      "{'classification': 'am invoices/requests', 'urgency': 'low', 'sentiment': 'normal', 'policy_id': '679318', 'insured_name': 'unknown'}\n"
     ]
    }
   ],
   "source": [
    "print(json_test_4)"
   ]
  },
  {
   "cell_type": "code",
   "execution_count": null,
   "id": "3f69a263-796f-4604-8c0b-a31c349bebe9",
   "metadata": {},
   "outputs": [],
   "source": []
  }
 ],
 "metadata": {
  "kernelspec": {
   "display_name": "Python 3 (ipykernel)",
   "language": "python",
   "name": "python3"
  },
  "language_info": {
   "codemirror_mode": {
    "name": "ipython",
    "version": 3
   },
   "file_extension": ".py",
   "mimetype": "text/x-python",
   "name": "python",
   "nbconvert_exporter": "python",
   "pygments_lexer": "ipython3",
   "version": "3.10.9"
  }
 },
 "nbformat": 4,
 "nbformat_minor": 5
}
