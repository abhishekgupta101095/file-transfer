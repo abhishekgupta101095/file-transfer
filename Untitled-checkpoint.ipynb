{
 "cells": [
  {
   "cell_type": "code",
   "execution_count": 5,
   "id": "7ba8550a",
   "metadata": {},
   "outputs": [],
   "source": [
    "import pandas as pd\n",
    "import numpy as np\n",
    "import pdfplumber\n",
    "import datetime as dt"
   ]
  },
  {
   "cell_type": "code",
   "execution_count": 6,
   "id": "c3bf2857",
   "metadata": {},
   "outputs": [
    {
     "name": "stdout",
     "output_type": "stream",
     "text": [
      "***** [[['ASSETS', '', None, '', '', None], ['Current assets:', '', None, '', '', None], ['Cash and cash equivalents', '$', '53,888', '', '$', '49,343'], ['Marketable securities', '16,138', None, '', '15,062', None], ['Inventories', '34,405', None, '', '34,170', None], ['Accounts receivable, net and other', '42,360', None, '', '37,646', None], ['Total current assets', '146,791', None, '', '136,221', None], ['Property and equipment, net', '186,715', None, '', '190,754', None], ['Operating leases', '66,123', None, '', '68,262', None], ['Goodwill', '20,288', None, '', '22,749', None], ['Other assets', '42,758', None, '', '46,392', None], ['Total assets', '$', '462,675', '', '$', '464,378'], ['LIABILITIES AND STOCKHOLDERS’ EQUITY', '', None, '', '', None], ['Current liabilities:', '', None, '', '', None], ['Accounts payable', '$', '79,600', '', '$', '66,907'], ['Accrued expenses and other', '62,566', None, '', '66,382', None], ['Unearned revenue', '13,227', None, '', '14,281', None], ['Total current liabilities', '155,393', None, '', '147,570', None], ['Long-term lease liabilities', '72,968', None, '', '74,267', None], ['Long-term debt', '67,150', None, '', '67,084', None], ['Other long-term liabilities', '21,121', None, '', '20,931', None], ['Commitments and contingencies (Note 4)', '', None, '', '', None], ['Stockholders’ equity:', '', None, '', '', None], ['Preferred stock ($0.01 par value; 500 shares authorized; no shares issued or outstanding)', '—', None, '', '—', None], ['Common stock ($0.01 par value; 100,000 shares authorized; 10,757 and 10,773 shares issued; 10,242 and\\n10,258 shares outstanding)', '108', None, '', '108', None], ['Treasury stock, at cost', '(7,837)', None, '', '(7,837)', None], ['Additional paid-in capital', '75,066', None, '', '79,863', None], ['Accumulated other comprehensive income (loss)', '(4,487)', None, '', '(3,973)', None], ['Retained earnings', '83,193', None, '', '86,365', None], ['Total stockholders’ equity', '146,043', None, '', '154,526', None], ['Total liabilities and stockholders’ equity', '$', '462,675', '', '$', '464,378']]]\n"
     ]
    },
    {
     "name": "stderr",
     "output_type": "stream",
     "text": [
      "C:\\Users\\abhishek.cw.gupta\\AppData\\Local\\Temp\\ipykernel_22896\\2962389935.py:101: SettingWithCopyWarning: \n",
      "A value is trying to be set on a copy of a slice from a DataFrame\n",
      "\n",
      "See the caveats in the documentation: https://pandas.pydata.org/pandas-docs/stable/user_guide/indexing.html#returning-a-view-versus-a-copy\n",
      "  data_ukmbp['bp_ratio'][0] = (bs_dataframe[\"Total current assets\"][3]-bs_dataframe['Inventories'][3])/bs_dataframe['Total liabilities and stockholders’ equity'][4]\n",
      "C:\\Users\\abhishek.cw.gupta\\AppData\\Local\\Temp\\ipykernel_22896\\2962389935.py:122: SettingWithCopyWarning: \n",
      "A value is trying to be set on a copy of a slice from a DataFrame\n",
      "\n",
      "See the caveats in the documentation: https://pandas.pydata.org/pandas-docs/stable/user_guide/indexing.html#returning-a-view-versus-a-copy\n",
      "  data_ukmbp[\"Strategy Change1\"][ind] = 'GEN00X'\n",
      "C:\\Users\\abhishek.cw.gupta\\AppData\\Local\\Temp\\ipykernel_22896\\2962389935.py:123: SettingWithCopyWarning: \n",
      "A value is trying to be set on a copy of a slice from a DataFrame\n",
      "\n",
      "See the caveats in the documentation: https://pandas.pydata.org/pandas-docs/stable/user_guide/indexing.html#returning-a-view-versus-a-copy\n",
      "  data_ukmbp['Summary'][ind] = f'Due to change in bp_ratio {item}, the strategy changed from GEN001 to GEN00X'\n"
     ]
    },
    {
     "data": {
      "text/plain": [
       "0       3.235300e+10\n",
       "1       3.235300e+10\n",
       "2       3.235300e+10\n",
       "3       3.235300e+10\n",
       "4       3.235300e+10\n",
       "            ...     \n",
       "5757             NaN\n",
       "5758             NaN\n",
       "5759             NaN\n",
       "5760             NaN\n",
       "5761             NaN\n",
       "Name: Outstanding, Length: 5762, dtype: float64"
      ]
     },
     "execution_count": 6,
     "metadata": {},
     "output_type": "execute_result"
    }
   ],
   "source": [
    "data = pd.ExcelFile(r\"C:\\Users\\abhishek.cw.gupta\\Downloads\\Gen AI - Collection Use case data_V1Latest1.xlsx\")\n",
    "\n",
    "# Getting the data for sheet FBL5N Table\n",
    "data_fbl5n = data.parse('FBL5N Report ')\n",
    "\n",
    "# Reading the ukmbp_cms data\n",
    "data_ukmbp = data.parse('UKMBP_CMS')\n",
    "\n",
    "# Reading the disputed items list\n",
    "data_di = data.parse('Disputed Items')\n",
    "\n",
    "# Retrieve Worklist data\n",
    "data_worklist = data.parse('Collection Worklist Mf')\n",
    "\n",
    "# comparing the date with todays date\n",
    "from datetime import datetime, timedelta, date\n",
    "\n",
    "# Get today's date\n",
    "data_fbl5n['Present Date'] = date.today()\n",
    "\n",
    "# Comparing the Net Due Date greater than Present Date\n",
    "(data_fbl5n['Net Due Date']) > data_fbl5n['Present Date']\n",
    "\n",
    "data_fbl5n['Amount in Local Currency'] = [float(str(i).replace(\",\", \"\")) for i in data_fbl5n['Amount in Local Currency']]\n",
    "\n",
    "# Calculating the Payment Due sum > Present day and group by customer and Amaount sum\n",
    "amount_sum = pd.DataFrame(data_fbl5n[data_fbl5n['Net Due Date'] > data_fbl5n['Present Date']].groupby('Customer')['Amount in Local Currency'].sum())\n",
    "\n",
    "# Checking the Rule_2 condition\n",
    "amount_sum['cond_2'] = (amount_sum['Amount in Local Currency'] > 50000) & (amount_sum['Amount in Local Currency'] < 1000000)\n",
    "\n",
    "# Checking the Rule_2 condition and assigning the valuation points accordingly\n",
    "amount_sum['valu_2'] = np.where(amount_sum['cond_2'] == True, 35, 0)\n",
    "\n",
    "# index change to columns\n",
    "amount_sum.reset_index(level=0, inplace=True) \n",
    "\n",
    "# Ceating the customer column\n",
    "data_ukmbp['Customer'] = ['Amazon.com','Target Corp', 'Walmart Inc.']\n",
    "\n",
    "# Merging the dataframes with the rule\n",
    "result = pd.merge(data_ukmbp, amount_sum, how=\"outer\", on=[\"Customer\", \"Customer\"])\n",
    "\n",
    "# Checking the Rule_3 condition\n",
    "amount_sum_30 = pd.DataFrame(data_fbl5n[data_fbl5n['Net Due Date'] > (data_fbl5n['Present Date'] - timedelta(days=30))].groupby('Customer')['Amount in Local Currency'].sum())\n",
    "\n",
    "# Checking the Rule_3 condition\n",
    "amount_sum['cond_3'] = (amount_sum['Amount in Local Currency'] > 50000) & (amount_sum['Amount in Local Currency'] < 10000000)\n",
    "\n",
    "# Checking the Rule_3 condition and assigning the valuation points accordingly\n",
    "amount_sum['valu_3'] = np.where(amount_sum['cond_3'] == True, 50, 0)\n",
    "\n",
    "#Merging the dataframes\n",
    "data_ukmbp = pd.merge(data_ukmbp, data_di, how=\"outer\", on =['Business Partner',\"Business Partner\"])\n",
    "\n",
    "#Merging the dataframes with the rule\n",
    "data_ukmbp = pd.merge(data_ukmbp, data_fbl5n, how=\"outer\", on=[\"Customer\", \"Customer\"])\n",
    "\n",
    "# Merging the dataframes with the rule\n",
    "data_ukmbp = pd.merge(data_ukmbp, amount_sum, how=\"outer\", on=[\"Customer\", \"Customer\"])\n",
    "\n",
    "# Rule_1 for risk class\n",
    "risk_class = '|'.join(['C','D','E'])\n",
    "data_ukmbp['Risk Class'].str.contains(risk_class)\n",
    "data_ukmbp['valu_1'] = np.where(data_ukmbp['Risk Class'].str.contains(risk_class), 0, 20)\n",
    "path = \"C:/Users/abhishek.cw.gupta/Desktop/\" + \"Amazon-2023-Annual Report.pdf\"\n",
    "with pdfplumber.open(path) as f:\n",
    "    print(\"*****\",f.pages[5].extract_tables())\n",
    "\n",
    "bs_infolist = f.pages[5].extract_tables()\n",
    "\n",
    "# cahnge the 3d list to 2d list\n",
    "import itertools\n",
    "bs_infolist2d = list(itertools.chain.from_iterable(bs_infolist))\n",
    "\n",
    "# Create a balance sheet dictionary\n",
    "bs_infodict = {tuple(e[0]): tuple(e[1:]) for e in bs_infolist2d}\n",
    "\n",
    "# Popping first element of a list\n",
    "from operator import itemgetter\n",
    "pop_list = list( map(itemgetter(0), bs_infolist2d))\n",
    "\n",
    "# Creating a dictionary from the list\n",
    "final_dict = dict(zip(pop_list, list(bs_infodict.values())))\n",
    "\n",
    "# Creating o dataframe from the dictionary\n",
    "bs_dataframe = pd.DataFrame(final_dict)\n",
    "\n",
    "# Replacing the comas in columns\n",
    "bs_dataframe['Total current assets'] = [str(i).replace(\",\", \"\") for i in bs_dataframe['Total current assets']]\n",
    "bs_dataframe['Inventories'] = [str(i).replace(\",\", \"\") for i in bs_dataframe['Inventories']]\n",
    "bs_dataframe['Total liabilities and stockholders’ equity'] = [str(i).replace(\",\", \"\") for i in bs_dataframe['Total liabilities and stockholders’ equity']]\n",
    "\n",
    "# Use the `to_numeric()` function to convert the column to floats\n",
    "bs_dataframe[\"Total current assets\"] = pd.to_numeric(bs_dataframe[\"Total current assets\"], errors='coerce')\n",
    "bs_dataframe['Inventories'] = pd.to_numeric(bs_dataframe['Inventories'], errors='coerce')\n",
    "bs_dataframe['Total liabilities and stockholders’ equity'] = pd.to_numeric(bs_dataframe['Total liabilities and stockholders’ equity'], errors='coerce')\n",
    "\n",
    "#Find the bs_ratio\n",
    "data_ukmbp['bp_ratio'] = 0\n",
    "data_ukmbp['bp_ratio'][0] = (bs_dataframe[\"Total current assets\"][3]-bs_dataframe['Inventories'][3])/bs_dataframe['Total liabilities and stockholders’ equity'][4]\n",
    "\n",
    "# Fill nan with 0's\n",
    "data_ukmbp = data_ukmbp.fillna(0)\n",
    "\n",
    "# Adding the total valuation points\n",
    "data_ukmbp['Value Total'] = data_ukmbp['valu_1'] + data_ukmbp['valu_2'] + data_ukmbp['valu_3']\n",
    "\n",
    "# Assigning the strtegy as per the valuation totals\n",
    "value_cls = [(data_ukmbp['Value Total'] == 20), (data_ukmbp['Value Total'] == 35), (data_ukmbp['Value Total'] == 55)]\n",
    "data_ukmbp[\"Strategy\"] = np.select(value_cls, ['GEN001','GEN001', 'GEN001'] )\n",
    "\n",
    "# Initializing the summary column\n",
    "data_ukmbp['Summary'] = \"\"\n",
    "#  Assigning the strtegy as per the bp_ratio\n",
    "value_cls = [(data_ukmbp['bp_ratio'] < 0.6), (data_ukmbp['bp_ratio'] != 0.0), (data_ukmbp['bp_ratio'] == 0.0) ]\n",
    "data_ukmbp[\"Strategy Change1\"] = np.select(value_cls, ['GEN00X', 'GEN00X', 'GEN001'])\n",
    "\n",
    "# Adding up strategy change summary\n",
    "for ind, item in enumerate(data_ukmbp['bp_ratio']):\n",
    "    if item < 0.6 :\n",
    "        data_ukmbp[\"Strategy Change1\"][ind] = 'GEN00X'\n",
    "        data_ukmbp['Summary'][ind] = f'Due to change in bp_ratio {item}, the strategy changed from GEN001 to GEN00X'\n",
    "    else:\n",
    "        data_ukmbp[\"Strategy Change1\"][ind] = 'GEN001'\n",
    "\n",
    "data_Worklist_mf = pd.merge(data_worklist,data_ukmbp[['Summary', \"Business Partner\", \"Value Total\"]], how=\"outer\", on=[\"Business Partner\"])\n",
    "# st.dataframe(data_Worklist_mf.style.highlight_max(axis=0))\n",
    "\n",
    "data_Worklist_mf.to_csv('worklist.csv', index = False)\n",
    "df = pd.merge(data_worklist, data_ukmbp, how=\"outer\", on=[\"Business Partner\"])\n",
    "df.columns\n",
    "df['Outstanding']"
   ]
  },
  {
   "cell_type": "code",
   "execution_count": 7,
   "id": "6e9b80a3",
   "metadata": {},
   "outputs": [
    {
     "name": "stdout",
     "output_type": "stream",
     "text": [
      "0\n"
     ]
    }
   ],
   "source": [
    "# Filter the necessary columns\n",
    "df_filtered = df[['Customer','Strategy']]\n",
    "\n",
    "# Filter based on Customer\n",
    "amazon_coll_strategy = df_filtered[df_filtered['Customer'].str.contains('Amazon')].loc[0,'Strategy']\n",
    "print(amazon_coll_strategy)"
   ]
  },
  {
   "cell_type": "code",
   "execution_count": 8,
   "id": "9f4e47c2",
   "metadata": {},
   "outputs": [
    {
     "data": {
      "text/plain": [
       "Index(['Business Partner', 'Name of Business Partner',\n",
       "       'Description of Priority', 'Strategy Currency', 'Outstanding',\n",
       "       'Amount to Be Collected', 'Promised Amount', 'Disputed Amount_x',\n",
       "       'Dunned Amount', 'Highest Dunning Level', 'Name of Credit Segment',\n",
       "       'Credit Limit', 'Utilization %', 'Risk Class_x', 'Collection Segment',\n",
       "       'Collection Strategy', 'Strategy Version',\n",
       "       'Name of Collection Strategy', 'Valuation', 'Percentage Valuation',\n",
       "       'Rule with Highest Valuation', 'Prerequisite for Rule', 'Receivables',\n",
       "       'Credit Segment', 'Score_x', 'Name of Risk Class', 'External Valuation',\n",
       "       'External Valuation Procedure', 'Gen AI comments ', 'Score_y',\n",
       "       'Credit Check Rule', 'Rule for Calc. Score and Credit Limit',\n",
       "       'Calculated Score', 'Risk Class_y', 'Customer', 'Dispute Case ID',\n",
       "       'Invoice Document', 'Disputed Amount_y', 'Status of Dispute',\n",
       "       'Reason of Dispute', 'No of Days Dispute is Open', 'Unnamed: 7',\n",
       "       'Unnamed: 8', 'Unnamed: 9', 'Unnamed: 10', 'BP ', 'Document Number',\n",
       "       'Clearing/Open item symbol ', 'Document Type', 'Document Date',\n",
       "       'Amount in Local Currency_x', 'Local Currency', 'Due Net',\n",
       "       'Net Due Date', 'Arrears by net due date', 'Posting Date',\n",
       "       'Dunning level ', 'Cash Discount', 'Payment Terms', 'Payment Date',\n",
       "       'Present Date', 'Amount in Local Currency_y', 'cond_2', 'valu_2',\n",
       "       'cond_3', 'valu_3', 'valu_1', 'bp_ratio', 'Value Total', 'Strategy',\n",
       "       'Summary', 'Strategy Change1'],\n",
       "      dtype='object')"
      ]
     },
     "execution_count": 8,
     "metadata": {},
     "output_type": "execute_result"
    }
   ],
   "source": [
    "df.columns"
   ]
  },
  {
   "cell_type": "code",
   "execution_count": 9,
   "id": "548a6ef4",
   "metadata": {},
   "outputs": [
    {
     "data": {
      "text/plain": [
       "0       2023-01-14 00:00:00\n",
       "1       2023-04-26 00:00:00\n",
       "2       2023-06-17 00:00:00\n",
       "3       2023-06-19 00:00:00\n",
       "4       2023-07-17 00:00:00\n",
       "               ...         \n",
       "5757    2024-01-02 00:00:00\n",
       "5758    2024-02-02 00:00:00\n",
       "5759    2023-09-02 00:00:00\n",
       "5760    2024-01-02 00:00:00\n",
       "5761    2023-10-17 00:00:00\n",
       "Name: Net Due Date, Length: 5762, dtype: object"
      ]
     },
     "execution_count": 9,
     "metadata": {},
     "output_type": "execute_result"
    }
   ],
   "source": [
    "df['Net Due Date']"
   ]
  },
  {
   "cell_type": "code",
   "execution_count": 10,
   "id": "8fc8b718",
   "metadata": {},
   "outputs": [
    {
     "data": {
      "text/plain": [
       "0       2023-01-04 00:00:00\n",
       "1       2023-04-16 00:00:00\n",
       "2       2023-05-23 00:00:00\n",
       "3       2023-05-25 00:00:00\n",
       "4       2023-06-22 00:00:00\n",
       "               ...         \n",
       "5757                      0\n",
       "5758                      0\n",
       "5759    2023-09-02 00:00:00\n",
       "5760    2024-01-02 00:00:00\n",
       "5761    2023-10-17 00:00:00\n",
       "Name: Payment Date, Length: 5762, dtype: object"
      ]
     },
     "execution_count": 10,
     "metadata": {},
     "output_type": "execute_result"
    }
   ],
   "source": [
    "df['Payment Date']"
   ]
  },
  {
   "cell_type": "code",
   "execution_count": 11,
   "id": "89ad56e1",
   "metadata": {},
   "outputs": [
    {
     "data": {
      "text/plain": [
       "Index(['Business Partner', 'Name of Business Partner',\n",
       "       'Description of Priority', 'Strategy Currency', 'Outstanding',\n",
       "       'Amount to Be Collected', 'Promised Amount', 'Disputed Amount',\n",
       "       'Dunned Amount', 'Highest Dunning Level', 'Name of Credit Segment',\n",
       "       'Credit Limit', 'Utilization %', 'Risk Class', 'Collection Segment',\n",
       "       'Collection Strategy', 'Strategy Version',\n",
       "       'Name of Collection Strategy', 'Valuation', 'Percentage Valuation',\n",
       "       'Rule with Highest Valuation', 'Prerequisite for Rule', 'Receivables',\n",
       "       'Credit Segment', 'Score', 'Name of Risk Class', 'External Valuation',\n",
       "       'External Valuation Procedure', 'Gen AI comments ', 'Summary',\n",
       "       'Value Total'],\n",
       "      dtype='object')"
      ]
     },
     "execution_count": 11,
     "metadata": {},
     "output_type": "execute_result"
    }
   ],
   "source": [
    "data_Worklist_mf.columns"
   ]
  },
  {
   "cell_type": "code",
   "execution_count": 12,
   "id": "fc964b30",
   "metadata": {},
   "outputs": [
    {
     "data": {
      "text/plain": [
       "Index(['Business Partner', 'Score', 'Credit Check Rule',\n",
       "       'Rule for Calc. Score and Credit Limit', 'Calculated Score',\n",
       "       'Risk Class', 'Customer', 'Dispute Case ID', 'Invoice Document',\n",
       "       'Disputed Amount', 'Status of Dispute', 'Reason of Dispute',\n",
       "       'No of Days Dispute is Open', 'Unnamed: 7', 'Unnamed: 8', 'Unnamed: 9',\n",
       "       'Unnamed: 10', 'BP ', 'Document Number', 'Clearing/Open item symbol ',\n",
       "       'Document Type', 'Document Date', 'Amount in Local Currency_x',\n",
       "       'Local Currency', 'Due Net', 'Net Due Date', 'Arrears by net due date',\n",
       "       'Posting Date', 'Dunning level ', 'Cash Discount', 'Payment Terms',\n",
       "       'Payment Date', 'Present Date', 'Amount in Local Currency_y', 'cond_2',\n",
       "       'valu_2', 'cond_3', 'valu_3', 'valu_1', 'bp_ratio', 'Value Total',\n",
       "       'Strategy', 'Summary', 'Strategy Change1'],\n",
       "      dtype='object')"
      ]
     },
     "execution_count": 12,
     "metadata": {},
     "output_type": "execute_result"
    }
   ],
   "source": [
    "data_ukmbp.columns"
   ]
  },
  {
   "cell_type": "code",
   "execution_count": 13,
   "id": "6839f419",
   "metadata": {},
   "outputs": [
    {
     "data": {
      "text/plain": [
       "Index(['ASSETS', 'Current assets:', 'Cash and cash equivalents',\n",
       "       'Marketable securities', 'Inventories',\n",
       "       'Accounts receivable, net and other', 'Total current assets',\n",
       "       'Property and equipment, net', 'Operating leases', 'Goodwill',\n",
       "       'Other assets', 'Total assets', 'LIABILITIES AND STOCKHOLDERS’ EQUITY',\n",
       "       'Current liabilities:', 'Accounts payable',\n",
       "       'Accrued expenses and other', 'Unearned revenue',\n",
       "       'Total current liabilities', 'Long-term lease liabilities',\n",
       "       'Long-term debt', 'Other long-term liabilities',\n",
       "       'Commitments and contingencies (Note 4)', 'Stockholders’ equity:',\n",
       "       'Preferred stock ($0.01 par value; 500 shares authorized; no shares issued or outstanding)',\n",
       "       'Common stock ($0.01 par value; 100,000 shares authorized; 10,757 and 10,773 shares issued; 10,242 and\\n10,258 shares outstanding)',\n",
       "       'Treasury stock, at cost', 'Additional paid-in capital',\n",
       "       'Accumulated other comprehensive income (loss)', 'Retained earnings',\n",
       "       'Total stockholders’ equity',\n",
       "       'Total liabilities and stockholders’ equity'],\n",
       "      dtype='object')"
      ]
     },
     "execution_count": 13,
     "metadata": {},
     "output_type": "execute_result"
    }
   ],
   "source": [
    "bs_dataframe.columns"
   ]
  },
  {
   "cell_type": "code",
   "execution_count": 14,
   "id": "526f5ec3",
   "metadata": {},
   "outputs": [
    {
     "data": {
      "text/plain": [
       "Index(['Business Partner', 'Score', 'Credit Check Rule',\n",
       "       'Rule for Calc. Score and Credit Limit', 'Calculated Score',\n",
       "       'Risk Class', 'Customer', 'Amount in Local Currency', 'cond_2',\n",
       "       'valu_2'],\n",
       "      dtype='object')"
      ]
     },
     "execution_count": 14,
     "metadata": {},
     "output_type": "execute_result"
    }
   ],
   "source": [
    "result.columns"
   ]
  },
  {
   "cell_type": "code",
   "execution_count": 15,
   "id": "08d86b3e",
   "metadata": {},
   "outputs": [
    {
     "data": {
      "text/plain": [
       "Index(['BP ', 'Document Number', 'Clearing/Open item symbol ', 'Document Type',\n",
       "       'Document Date', 'Amount in Local Currency', 'Local Currency',\n",
       "       'Due Net', 'Net Due Date', 'Arrears by net due date', 'Posting Date',\n",
       "       'Dunning level ', 'Cash Discount', 'Payment Terms', 'Payment Date',\n",
       "       'Customer', 'Present Date'],\n",
       "      dtype='object')"
      ]
     },
     "execution_count": 15,
     "metadata": {},
     "output_type": "execute_result"
    }
   ],
   "source": [
    "data_fbl5n.columns"
   ]
  },
  {
   "cell_type": "code",
   "execution_count": 16,
   "id": "dfd60042",
   "metadata": {},
   "outputs": [
    {
     "data": {
      "text/html": [
       "<div>\n",
       "<style scoped>\n",
       "    .dataframe tbody tr th:only-of-type {\n",
       "        vertical-align: middle;\n",
       "    }\n",
       "\n",
       "    .dataframe tbody tr th {\n",
       "        vertical-align: top;\n",
       "    }\n",
       "\n",
       "    .dataframe thead th {\n",
       "        text-align: right;\n",
       "    }\n",
       "</style>\n",
       "<table border=\"1\" class=\"dataframe\">\n",
       "  <thead>\n",
       "    <tr style=\"text-align: right;\">\n",
       "      <th></th>\n",
       "      <th>Customer</th>\n",
       "      <th>Amount in Local Currency</th>\n",
       "      <th>cond_2</th>\n",
       "      <th>valu_2</th>\n",
       "      <th>cond_3</th>\n",
       "      <th>valu_3</th>\n",
       "    </tr>\n",
       "  </thead>\n",
       "  <tbody>\n",
       "    <tr>\n",
       "      <th>0</th>\n",
       "      <td>Amazon.com</td>\n",
       "      <td>7.911202e+06</td>\n",
       "      <td>False</td>\n",
       "      <td>0</td>\n",
       "      <td>True</td>\n",
       "      <td>50</td>\n",
       "    </tr>\n",
       "    <tr>\n",
       "      <th>1</th>\n",
       "      <td>Target Corp</td>\n",
       "      <td>1.100000e+07</td>\n",
       "      <td>False</td>\n",
       "      <td>0</td>\n",
       "      <td>False</td>\n",
       "      <td>0</td>\n",
       "    </tr>\n",
       "  </tbody>\n",
       "</table>\n",
       "</div>"
      ],
      "text/plain": [
       "      Customer  Amount in Local Currency  cond_2  valu_2  cond_3  valu_3\n",
       "0   Amazon.com              7.911202e+06   False       0    True      50\n",
       "1  Target Corp              1.100000e+07   False       0   False       0"
      ]
     },
     "execution_count": 16,
     "metadata": {},
     "output_type": "execute_result"
    }
   ],
   "source": [
    "amount_sum"
   ]
  },
  {
   "cell_type": "code",
   "execution_count": null,
   "id": "bb719290",
   "metadata": {},
   "outputs": [],
   "source": []
  },
  {
   "cell_type": "code",
   "execution_count": null,
   "id": "7edfb086",
   "metadata": {},
   "outputs": [],
   "source": []
  },
  {
   "cell_type": "code",
   "execution_count": null,
   "id": "5c9a8db1",
   "metadata": {},
   "outputs": [],
   "source": []
  },
  {
   "cell_type": "code",
   "execution_count": 17,
   "id": "443c34a0",
   "metadata": {},
   "outputs": [
    {
     "data": {
      "text/plain": [
       "0      2024-02-20\n",
       "1      2024-02-20\n",
       "2      2024-02-20\n",
       "3      2024-02-20\n",
       "4      2024-02-20\n",
       "          ...    \n",
       "212    2024-02-20\n",
       "213    2024-02-20\n",
       "214    2024-02-20\n",
       "215    2024-02-20\n",
       "216    2024-02-20\n",
       "Name: Present Date, Length: 217, dtype: object"
      ]
     },
     "execution_count": 17,
     "metadata": {},
     "output_type": "execute_result"
    }
   ],
   "source": [
    "data_fbl5n['Present Date']"
   ]
  },
  {
   "cell_type": "code",
   "execution_count": 18,
   "id": "71ab638e",
   "metadata": {},
   "outputs": [
    {
     "name": "stderr",
     "output_type": "stream",
     "text": [
      "C:\\Users\\abhishek.cw.gupta\\AppData\\Local\\Temp\\ipykernel_22896\\1456919771.py:1: PerformanceWarning: Adding/subtracting object-dtype array to DatetimeArray not vectorized.\n",
      "  data_fbl5n['Net Due Date']-data_fbl5n['Present Date']\n"
     ]
    },
    {
     "ename": "TypeError",
     "evalue": "unsupported operand type(s) for -: 'Timestamp' and 'datetime.date'",
     "output_type": "error",
     "traceback": [
      "\u001b[1;31m---------------------------------------------------------------------------\u001b[0m",
      "\u001b[1;31mTypeError\u001b[0m                                 Traceback (most recent call last)",
      "Cell \u001b[1;32mIn[18], line 1\u001b[0m\n\u001b[1;32m----> 1\u001b[0m \u001b[43mdata_fbl5n\u001b[49m\u001b[43m[\u001b[49m\u001b[38;5;124;43m'\u001b[39;49m\u001b[38;5;124;43mNet Due Date\u001b[39;49m\u001b[38;5;124;43m'\u001b[39;49m\u001b[43m]\u001b[49m\u001b[38;5;241;43m-\u001b[39;49m\u001b[43mdata_fbl5n\u001b[49m\u001b[43m[\u001b[49m\u001b[38;5;124;43m'\u001b[39;49m\u001b[38;5;124;43mPresent Date\u001b[39;49m\u001b[38;5;124;43m'\u001b[39;49m\u001b[43m]\u001b[49m\n",
      "File \u001b[1;32m~\\AppData\\Local\\anaconda-3\\lib\\site-packages\\pandas\\core\\ops\\common.py:72\u001b[0m, in \u001b[0;36m_unpack_zerodim_and_defer.<locals>.new_method\u001b[1;34m(self, other)\u001b[0m\n\u001b[0;32m     68\u001b[0m             \u001b[38;5;28;01mreturn\u001b[39;00m \u001b[38;5;28mNotImplemented\u001b[39m\n\u001b[0;32m     70\u001b[0m other \u001b[38;5;241m=\u001b[39m item_from_zerodim(other)\n\u001b[1;32m---> 72\u001b[0m \u001b[38;5;28;01mreturn\u001b[39;00m \u001b[43mmethod\u001b[49m\u001b[43m(\u001b[49m\u001b[38;5;28;43mself\u001b[39;49m\u001b[43m,\u001b[49m\u001b[43m \u001b[49m\u001b[43mother\u001b[49m\u001b[43m)\u001b[49m\n",
      "File \u001b[1;32m~\\AppData\\Local\\anaconda-3\\lib\\site-packages\\pandas\\core\\arraylike.py:110\u001b[0m, in \u001b[0;36mOpsMixin.__sub__\u001b[1;34m(self, other)\u001b[0m\n\u001b[0;32m    108\u001b[0m \u001b[38;5;129m@unpack_zerodim_and_defer\u001b[39m(\u001b[38;5;124m\"\u001b[39m\u001b[38;5;124m__sub__\u001b[39m\u001b[38;5;124m\"\u001b[39m)\n\u001b[0;32m    109\u001b[0m \u001b[38;5;28;01mdef\u001b[39;00m \u001b[38;5;21m__sub__\u001b[39m(\u001b[38;5;28mself\u001b[39m, other):\n\u001b[1;32m--> 110\u001b[0m     \u001b[38;5;28;01mreturn\u001b[39;00m \u001b[38;5;28;43mself\u001b[39;49m\u001b[38;5;241;43m.\u001b[39;49m\u001b[43m_arith_method\u001b[49m\u001b[43m(\u001b[49m\u001b[43mother\u001b[49m\u001b[43m,\u001b[49m\u001b[43m \u001b[49m\u001b[43moperator\u001b[49m\u001b[38;5;241;43m.\u001b[39;49m\u001b[43msub\u001b[49m\u001b[43m)\u001b[49m\n",
      "File \u001b[1;32m~\\AppData\\Local\\anaconda-3\\lib\\site-packages\\pandas\\core\\series.py:6259\u001b[0m, in \u001b[0;36mSeries._arith_method\u001b[1;34m(self, other, op)\u001b[0m\n\u001b[0;32m   6257\u001b[0m \u001b[38;5;28;01mdef\u001b[39;00m \u001b[38;5;21m_arith_method\u001b[39m(\u001b[38;5;28mself\u001b[39m, other, op):\n\u001b[0;32m   6258\u001b[0m     \u001b[38;5;28mself\u001b[39m, other \u001b[38;5;241m=\u001b[39m ops\u001b[38;5;241m.\u001b[39malign_method_SERIES(\u001b[38;5;28mself\u001b[39m, other)\n\u001b[1;32m-> 6259\u001b[0m     \u001b[38;5;28;01mreturn\u001b[39;00m \u001b[43mbase\u001b[49m\u001b[38;5;241;43m.\u001b[39;49m\u001b[43mIndexOpsMixin\u001b[49m\u001b[38;5;241;43m.\u001b[39;49m\u001b[43m_arith_method\u001b[49m\u001b[43m(\u001b[49m\u001b[38;5;28;43mself\u001b[39;49m\u001b[43m,\u001b[49m\u001b[43m \u001b[49m\u001b[43mother\u001b[49m\u001b[43m,\u001b[49m\u001b[43m \u001b[49m\u001b[43mop\u001b[49m\u001b[43m)\u001b[49m\n",
      "File \u001b[1;32m~\\AppData\\Local\\anaconda-3\\lib\\site-packages\\pandas\\core\\base.py:1325\u001b[0m, in \u001b[0;36mIndexOpsMixin._arith_method\u001b[1;34m(self, other, op)\u001b[0m\n\u001b[0;32m   1322\u001b[0m rvalues \u001b[38;5;241m=\u001b[39m ensure_wrapped_if_datetimelike(rvalues)\n\u001b[0;32m   1324\u001b[0m \u001b[38;5;28;01mwith\u001b[39;00m np\u001b[38;5;241m.\u001b[39merrstate(\u001b[38;5;28mall\u001b[39m\u001b[38;5;241m=\u001b[39m\u001b[38;5;124m\"\u001b[39m\u001b[38;5;124mignore\u001b[39m\u001b[38;5;124m\"\u001b[39m):\n\u001b[1;32m-> 1325\u001b[0m     result \u001b[38;5;241m=\u001b[39m \u001b[43mops\u001b[49m\u001b[38;5;241;43m.\u001b[39;49m\u001b[43marithmetic_op\u001b[49m\u001b[43m(\u001b[49m\u001b[43mlvalues\u001b[49m\u001b[43m,\u001b[49m\u001b[43m \u001b[49m\u001b[43mrvalues\u001b[49m\u001b[43m,\u001b[49m\u001b[43m \u001b[49m\u001b[43mop\u001b[49m\u001b[43m)\u001b[49m\n\u001b[0;32m   1327\u001b[0m \u001b[38;5;28;01mreturn\u001b[39;00m \u001b[38;5;28mself\u001b[39m\u001b[38;5;241m.\u001b[39m_construct_result(result, name\u001b[38;5;241m=\u001b[39mres_name)\n",
      "File \u001b[1;32m~\\AppData\\Local\\anaconda-3\\lib\\site-packages\\pandas\\core\\ops\\array_ops.py:218\u001b[0m, in \u001b[0;36marithmetic_op\u001b[1;34m(left, right, op)\u001b[0m\n\u001b[0;32m    205\u001b[0m \u001b[38;5;66;03m# NB: We assume that extract_array and ensure_wrapped_if_datetimelike\u001b[39;00m\n\u001b[0;32m    206\u001b[0m \u001b[38;5;66;03m#  have already been called on `left` and `right`,\u001b[39;00m\n\u001b[0;32m    207\u001b[0m \u001b[38;5;66;03m#  and `maybe_prepare_scalar_for_op` has already been called on `right`\u001b[39;00m\n\u001b[0;32m    208\u001b[0m \u001b[38;5;66;03m# We need to special-case datetime64/timedelta64 dtypes (e.g. because numpy\u001b[39;00m\n\u001b[0;32m    209\u001b[0m \u001b[38;5;66;03m# casts integer dtypes to timedelta64 when operating with timedelta64 - GH#22390)\u001b[39;00m\n\u001b[0;32m    211\u001b[0m \u001b[38;5;28;01mif\u001b[39;00m (\n\u001b[0;32m    212\u001b[0m     should_extension_dispatch(left, right)\n\u001b[0;32m    213\u001b[0m     \u001b[38;5;129;01mor\u001b[39;00m \u001b[38;5;28misinstance\u001b[39m(right, (Timedelta, BaseOffset, Timestamp))\n\u001b[1;32m   (...)\u001b[0m\n\u001b[0;32m    216\u001b[0m     \u001b[38;5;66;03m# Timedelta/Timestamp and other custom scalars are included in the check\u001b[39;00m\n\u001b[0;32m    217\u001b[0m     \u001b[38;5;66;03m# because numexpr will fail on it, see GH#31457\u001b[39;00m\n\u001b[1;32m--> 218\u001b[0m     res_values \u001b[38;5;241m=\u001b[39m \u001b[43mop\u001b[49m\u001b[43m(\u001b[49m\u001b[43mleft\u001b[49m\u001b[43m,\u001b[49m\u001b[43m \u001b[49m\u001b[43mright\u001b[49m\u001b[43m)\u001b[49m\n\u001b[0;32m    219\u001b[0m \u001b[38;5;28;01melse\u001b[39;00m:\n\u001b[0;32m    220\u001b[0m     \u001b[38;5;66;03m# TODO we should handle EAs consistently and move this check before the if/else\u001b[39;00m\n\u001b[0;32m    221\u001b[0m     \u001b[38;5;66;03m# (https://github.com/pandas-dev/pandas/issues/41165)\u001b[39;00m\n\u001b[0;32m    222\u001b[0m     _bool_arith_check(op, left, right)\n",
      "File \u001b[1;32m~\\AppData\\Local\\anaconda-3\\lib\\site-packages\\pandas\\core\\ops\\common.py:72\u001b[0m, in \u001b[0;36m_unpack_zerodim_and_defer.<locals>.new_method\u001b[1;34m(self, other)\u001b[0m\n\u001b[0;32m     68\u001b[0m             \u001b[38;5;28;01mreturn\u001b[39;00m \u001b[38;5;28mNotImplemented\u001b[39m\n\u001b[0;32m     70\u001b[0m other \u001b[38;5;241m=\u001b[39m item_from_zerodim(other)\n\u001b[1;32m---> 72\u001b[0m \u001b[38;5;28;01mreturn\u001b[39;00m \u001b[43mmethod\u001b[49m\u001b[43m(\u001b[49m\u001b[38;5;28;43mself\u001b[39;49m\u001b[43m,\u001b[49m\u001b[43m \u001b[49m\u001b[43mother\u001b[49m\u001b[43m)\u001b[49m\n",
      "File \u001b[1;32m~\\AppData\\Local\\anaconda-3\\lib\\site-packages\\pandas\\core\\arrays\\datetimelike.py:1520\u001b[0m, in \u001b[0;36mDatetimeLikeArrayMixin.__sub__\u001b[1;34m(self, other)\u001b[0m\n\u001b[0;32m   1517\u001b[0m     result \u001b[38;5;241m=\u001b[39m \u001b[38;5;28mself\u001b[39m\u001b[38;5;241m.\u001b[39m_add_timedelta_arraylike(\u001b[38;5;241m-\u001b[39mother)\n\u001b[0;32m   1518\u001b[0m \u001b[38;5;28;01melif\u001b[39;00m is_object_dtype(other_dtype):\n\u001b[0;32m   1519\u001b[0m     \u001b[38;5;66;03m# e.g. Array/Index of DateOffset objects\u001b[39;00m\n\u001b[1;32m-> 1520\u001b[0m     result \u001b[38;5;241m=\u001b[39m \u001b[38;5;28;43mself\u001b[39;49m\u001b[38;5;241;43m.\u001b[39;49m\u001b[43m_addsub_object_array\u001b[49m\u001b[43m(\u001b[49m\u001b[43mother\u001b[49m\u001b[43m,\u001b[49m\u001b[43m \u001b[49m\u001b[43moperator\u001b[49m\u001b[38;5;241;43m.\u001b[39;49m\u001b[43msub\u001b[49m\u001b[43m)\u001b[49m\n\u001b[0;32m   1521\u001b[0m \u001b[38;5;28;01melif\u001b[39;00m is_datetime64_dtype(other_dtype) \u001b[38;5;129;01mor\u001b[39;00m is_datetime64tz_dtype(other_dtype):\n\u001b[0;32m   1522\u001b[0m     \u001b[38;5;66;03m# DatetimeIndex, ndarray[datetime64]\u001b[39;00m\n\u001b[0;32m   1523\u001b[0m     result \u001b[38;5;241m=\u001b[39m \u001b[38;5;28mself\u001b[39m\u001b[38;5;241m.\u001b[39m_sub_datetime_arraylike(other)\n",
      "File \u001b[1;32m~\\AppData\\Local\\anaconda-3\\lib\\site-packages\\pandas\\core\\arrays\\datetimelike.py:1384\u001b[0m, in \u001b[0;36mDatetimeLikeArrayMixin._addsub_object_array\u001b[1;34m(self, other, op)\u001b[0m\n\u001b[0;32m   1381\u001b[0m \u001b[38;5;28;01mwith\u001b[39;00m warnings\u001b[38;5;241m.\u001b[39mcatch_warnings():\n\u001b[0;32m   1382\u001b[0m     \u001b[38;5;66;03m# filter out warnings about Timestamp.freq\u001b[39;00m\n\u001b[0;32m   1383\u001b[0m     warnings\u001b[38;5;241m.\u001b[39mfilterwarnings(\u001b[38;5;124m\"\u001b[39m\u001b[38;5;124mignore\u001b[39m\u001b[38;5;124m\"\u001b[39m, category\u001b[38;5;241m=\u001b[39m\u001b[38;5;167;01mFutureWarning\u001b[39;00m)\n\u001b[1;32m-> 1384\u001b[0m     res_values \u001b[38;5;241m=\u001b[39m \u001b[43mop\u001b[49m\u001b[43m(\u001b[49m\u001b[38;5;28;43mself\u001b[39;49m\u001b[38;5;241;43m.\u001b[39;49m\u001b[43mastype\u001b[49m\u001b[43m(\u001b[49m\u001b[38;5;124;43m\"\u001b[39;49m\u001b[38;5;124;43mO\u001b[39;49m\u001b[38;5;124;43m\"\u001b[39;49m\u001b[43m)\u001b[49m\u001b[43m,\u001b[49m\u001b[43m \u001b[49m\u001b[43mnp\u001b[49m\u001b[38;5;241;43m.\u001b[39;49m\u001b[43masarray\u001b[49m\u001b[43m(\u001b[49m\u001b[43mother\u001b[49m\u001b[43m)\u001b[49m\u001b[43m)\u001b[49m\n\u001b[0;32m   1386\u001b[0m result \u001b[38;5;241m=\u001b[39m pd_array(res_values\u001b[38;5;241m.\u001b[39mravel())\n\u001b[0;32m   1387\u001b[0m result \u001b[38;5;241m=\u001b[39m extract_array(result, extract_numpy\u001b[38;5;241m=\u001b[39m\u001b[38;5;28;01mTrue\u001b[39;00m)\u001b[38;5;241m.\u001b[39mreshape(\u001b[38;5;28mself\u001b[39m\u001b[38;5;241m.\u001b[39mshape)\n",
      "\u001b[1;31mTypeError\u001b[0m: unsupported operand type(s) for -: 'Timestamp' and 'datetime.date'"
     ]
    }
   ],
   "source": [
    "data_fbl5n['Net Due Date']-data_fbl5n['Present Date']\n",
    "# d1 = datetime.strptime(str_d1, \"%Y/%m/%d\")\n",
    "# d2 = datetime.strptime(str_d2, \"%Y/%m/%d\")\n",
    "# data_fbl5n['Difference'] = data_fbl5n['Net Due Date'].sub(data_fbl5n['Present Date'], axis=0)\n",
    "# df_test['Difference'] = (data_fbl5n['Net Due Date'] - data_fbl5n['Present Date']).dt.days\n",
    "# difference between dates in timedelta\n",
    "# delta = datetime.strptime(data_fbl5n['Net Due Date'], \"%Y-%m-%d\") - datetime.strptime(data_fbl5n['Present Date'].str, \"%Y-%m-%d\")\n",
    "# data_fbl5n['Difference']"
   ]
  },
  {
   "cell_type": "code",
   "execution_count": 19,
   "id": "8931420f",
   "metadata": {},
   "outputs": [
    {
     "data": {
      "text/html": [
       "<div>\n",
       "<style scoped>\n",
       "    .dataframe tbody tr th:only-of-type {\n",
       "        vertical-align: middle;\n",
       "    }\n",
       "\n",
       "    .dataframe tbody tr th {\n",
       "        vertical-align: top;\n",
       "    }\n",
       "\n",
       "    .dataframe thead th {\n",
       "        text-align: right;\n",
       "    }\n",
       "</style>\n",
       "<table border=\"1\" class=\"dataframe\">\n",
       "  <thead>\n",
       "    <tr style=\"text-align: right;\">\n",
       "      <th></th>\n",
       "      <th>Amount in Local Currency</th>\n",
       "    </tr>\n",
       "    <tr>\n",
       "      <th>Customer</th>\n",
       "      <th></th>\n",
       "    </tr>\n",
       "  </thead>\n",
       "  <tbody>\n",
       "    <tr>\n",
       "      <th>Amazon.com</th>\n",
       "      <td>5.927021e+08</td>\n",
       "    </tr>\n",
       "    <tr>\n",
       "      <th>Target Corp</th>\n",
       "      <td>1.500000e+07</td>\n",
       "    </tr>\n",
       "    <tr>\n",
       "      <th>Walmart Inc.</th>\n",
       "      <td>2.688200e+05</td>\n",
       "    </tr>\n",
       "  </tbody>\n",
       "</table>\n",
       "</div>"
      ],
      "text/plain": [
       "               Amount in Local Currency\n",
       "Customer                               \n",
       "Amazon.com                 5.927021e+08\n",
       "Target Corp                1.500000e+07\n",
       "Walmart Inc.               2.688200e+05"
      ]
     },
     "execution_count": 19,
     "metadata": {},
     "output_type": "execute_result"
    }
   ],
   "source": [
    "amount_sum_30"
   ]
  },
  {
   "cell_type": "code",
   "execution_count": 20,
   "id": "67b85307",
   "metadata": {},
   "outputs": [
    {
     "data": {
      "text/html": [
       "<div>\n",
       "<style scoped>\n",
       "    .dataframe tbody tr th:only-of-type {\n",
       "        vertical-align: middle;\n",
       "    }\n",
       "\n",
       "    .dataframe tbody tr th {\n",
       "        vertical-align: top;\n",
       "    }\n",
       "\n",
       "    .dataframe thead th {\n",
       "        text-align: right;\n",
       "    }\n",
       "</style>\n",
       "<table border=\"1\" class=\"dataframe\">\n",
       "  <thead>\n",
       "    <tr style=\"text-align: right;\">\n",
       "      <th></th>\n",
       "      <th>Business Partner</th>\n",
       "      <th>Score</th>\n",
       "      <th>Credit Check Rule</th>\n",
       "      <th>Rule for Calc. Score and Credit Limit</th>\n",
       "      <th>Calculated Score</th>\n",
       "      <th>Risk Class</th>\n",
       "      <th>Customer</th>\n",
       "      <th>Dispute Case ID</th>\n",
       "      <th>Invoice Document</th>\n",
       "      <th>Disputed Amount</th>\n",
       "      <th>...</th>\n",
       "      <th>cond_2</th>\n",
       "      <th>valu_2</th>\n",
       "      <th>cond_3</th>\n",
       "      <th>valu_3</th>\n",
       "      <th>valu_1</th>\n",
       "      <th>bp_ratio</th>\n",
       "      <th>Value Total</th>\n",
       "      <th>Strategy</th>\n",
       "      <th>Summary</th>\n",
       "      <th>Strategy Change1</th>\n",
       "    </tr>\n",
       "  </thead>\n",
       "  <tbody>\n",
       "    <tr>\n",
       "      <th>0</th>\n",
       "      <td>18.0</td>\n",
       "      <td>0.0</td>\n",
       "      <td>3.0</td>\n",
       "      <td>B2C-EXIST</td>\n",
       "      <td>0.0</td>\n",
       "      <td>B</td>\n",
       "      <td>Amazon.com</td>\n",
       "      <td>DC001</td>\n",
       "      <td>9.300000e+09</td>\n",
       "      <td>0</td>\n",
       "      <td>...</td>\n",
       "      <td>False</td>\n",
       "      <td>0.0</td>\n",
       "      <td>True</td>\n",
       "      <td>50.0</td>\n",
       "      <td>20</td>\n",
       "      <td>0.219758</td>\n",
       "      <td>70.0</td>\n",
       "      <td>0</td>\n",
       "      <td>Due to change in bp_ratio 0.21975847262359544,...</td>\n",
       "      <td>GEN00X</td>\n",
       "    </tr>\n",
       "    <tr>\n",
       "      <th>1</th>\n",
       "      <td>18.0</td>\n",
       "      <td>0.0</td>\n",
       "      <td>3.0</td>\n",
       "      <td>B2C-EXIST</td>\n",
       "      <td>0.0</td>\n",
       "      <td>B</td>\n",
       "      <td>Amazon.com</td>\n",
       "      <td>DC001</td>\n",
       "      <td>9.300000e+09</td>\n",
       "      <td>0</td>\n",
       "      <td>...</td>\n",
       "      <td>False</td>\n",
       "      <td>0.0</td>\n",
       "      <td>True</td>\n",
       "      <td>50.0</td>\n",
       "      <td>20</td>\n",
       "      <td>0.000000</td>\n",
       "      <td>70.0</td>\n",
       "      <td>0</td>\n",
       "      <td>Due to change in bp_ratio 0.0, the strategy ch...</td>\n",
       "      <td>GEN00X</td>\n",
       "    </tr>\n",
       "    <tr>\n",
       "      <th>2</th>\n",
       "      <td>18.0</td>\n",
       "      <td>0.0</td>\n",
       "      <td>3.0</td>\n",
       "      <td>B2C-EXIST</td>\n",
       "      <td>0.0</td>\n",
       "      <td>B</td>\n",
       "      <td>Amazon.com</td>\n",
       "      <td>DC001</td>\n",
       "      <td>9.300000e+09</td>\n",
       "      <td>0</td>\n",
       "      <td>...</td>\n",
       "      <td>False</td>\n",
       "      <td>0.0</td>\n",
       "      <td>True</td>\n",
       "      <td>50.0</td>\n",
       "      <td>20</td>\n",
       "      <td>0.000000</td>\n",
       "      <td>70.0</td>\n",
       "      <td>0</td>\n",
       "      <td>Due to change in bp_ratio 0.0, the strategy ch...</td>\n",
       "      <td>GEN00X</td>\n",
       "    </tr>\n",
       "    <tr>\n",
       "      <th>3</th>\n",
       "      <td>18.0</td>\n",
       "      <td>0.0</td>\n",
       "      <td>3.0</td>\n",
       "      <td>B2C-EXIST</td>\n",
       "      <td>0.0</td>\n",
       "      <td>B</td>\n",
       "      <td>Amazon.com</td>\n",
       "      <td>DC001</td>\n",
       "      <td>9.300000e+09</td>\n",
       "      <td>0</td>\n",
       "      <td>...</td>\n",
       "      <td>False</td>\n",
       "      <td>0.0</td>\n",
       "      <td>True</td>\n",
       "      <td>50.0</td>\n",
       "      <td>20</td>\n",
       "      <td>0.000000</td>\n",
       "      <td>70.0</td>\n",
       "      <td>0</td>\n",
       "      <td>Due to change in bp_ratio 0.0, the strategy ch...</td>\n",
       "      <td>GEN00X</td>\n",
       "    </tr>\n",
       "    <tr>\n",
       "      <th>4</th>\n",
       "      <td>18.0</td>\n",
       "      <td>0.0</td>\n",
       "      <td>3.0</td>\n",
       "      <td>B2C-EXIST</td>\n",
       "      <td>0.0</td>\n",
       "      <td>B</td>\n",
       "      <td>Amazon.com</td>\n",
       "      <td>DC001</td>\n",
       "      <td>9.300000e+09</td>\n",
       "      <td>0</td>\n",
       "      <td>...</td>\n",
       "      <td>False</td>\n",
       "      <td>0.0</td>\n",
       "      <td>True</td>\n",
       "      <td>50.0</td>\n",
       "      <td>20</td>\n",
       "      <td>0.000000</td>\n",
       "      <td>70.0</td>\n",
       "      <td>0</td>\n",
       "      <td>Due to change in bp_ratio 0.0, the strategy ch...</td>\n",
       "      <td>GEN00X</td>\n",
       "    </tr>\n",
       "    <tr>\n",
       "      <th>...</th>\n",
       "      <td>...</td>\n",
       "      <td>...</td>\n",
       "      <td>...</td>\n",
       "      <td>...</td>\n",
       "      <td>...</td>\n",
       "      <td>...</td>\n",
       "      <td>...</td>\n",
       "      <td>...</td>\n",
       "      <td>...</td>\n",
       "      <td>...</td>\n",
       "      <td>...</td>\n",
       "      <td>...</td>\n",
       "      <td>...</td>\n",
       "      <td>...</td>\n",
       "      <td>...</td>\n",
       "      <td>...</td>\n",
       "      <td>...</td>\n",
       "      <td>...</td>\n",
       "      <td>...</td>\n",
       "      <td>...</td>\n",
       "      <td>...</td>\n",
       "    </tr>\n",
       "    <tr>\n",
       "      <th>5757</th>\n",
       "      <td>0.0</td>\n",
       "      <td>0.0</td>\n",
       "      <td>0.0</td>\n",
       "      <td>0</td>\n",
       "      <td>0.0</td>\n",
       "      <td>0</td>\n",
       "      <td>Walmart Inc.</td>\n",
       "      <td>0</td>\n",
       "      <td>0.000000e+00</td>\n",
       "      <td>0</td>\n",
       "      <td>...</td>\n",
       "      <td>0</td>\n",
       "      <td>0.0</td>\n",
       "      <td>0</td>\n",
       "      <td>0.0</td>\n",
       "      <td>0</td>\n",
       "      <td>0.000000</td>\n",
       "      <td>0.0</td>\n",
       "      <td>0</td>\n",
       "      <td>Due to change in bp_ratio 0.0, the strategy ch...</td>\n",
       "      <td>GEN00X</td>\n",
       "    </tr>\n",
       "    <tr>\n",
       "      <th>5758</th>\n",
       "      <td>0.0</td>\n",
       "      <td>0.0</td>\n",
       "      <td>0.0</td>\n",
       "      <td>0</td>\n",
       "      <td>0.0</td>\n",
       "      <td>0</td>\n",
       "      <td>Walmart Inc.</td>\n",
       "      <td>0</td>\n",
       "      <td>0.000000e+00</td>\n",
       "      <td>0</td>\n",
       "      <td>...</td>\n",
       "      <td>0</td>\n",
       "      <td>0.0</td>\n",
       "      <td>0</td>\n",
       "      <td>0.0</td>\n",
       "      <td>0</td>\n",
       "      <td>0.000000</td>\n",
       "      <td>0.0</td>\n",
       "      <td>0</td>\n",
       "      <td>Due to change in bp_ratio 0.0, the strategy ch...</td>\n",
       "      <td>GEN00X</td>\n",
       "    </tr>\n",
       "    <tr>\n",
       "      <th>5759</th>\n",
       "      <td>0.0</td>\n",
       "      <td>0.0</td>\n",
       "      <td>0.0</td>\n",
       "      <td>0</td>\n",
       "      <td>0.0</td>\n",
       "      <td>0</td>\n",
       "      <td>Walmart Inc.</td>\n",
       "      <td>0</td>\n",
       "      <td>0.000000e+00</td>\n",
       "      <td>0</td>\n",
       "      <td>...</td>\n",
       "      <td>0</td>\n",
       "      <td>0.0</td>\n",
       "      <td>0</td>\n",
       "      <td>0.0</td>\n",
       "      <td>0</td>\n",
       "      <td>0.000000</td>\n",
       "      <td>0.0</td>\n",
       "      <td>0</td>\n",
       "      <td>Due to change in bp_ratio 0.0, the strategy ch...</td>\n",
       "      <td>GEN00X</td>\n",
       "    </tr>\n",
       "    <tr>\n",
       "      <th>5760</th>\n",
       "      <td>0.0</td>\n",
       "      <td>0.0</td>\n",
       "      <td>0.0</td>\n",
       "      <td>0</td>\n",
       "      <td>0.0</td>\n",
       "      <td>0</td>\n",
       "      <td>Walmart Inc.</td>\n",
       "      <td>0</td>\n",
       "      <td>0.000000e+00</td>\n",
       "      <td>0</td>\n",
       "      <td>...</td>\n",
       "      <td>0</td>\n",
       "      <td>0.0</td>\n",
       "      <td>0</td>\n",
       "      <td>0.0</td>\n",
       "      <td>0</td>\n",
       "      <td>0.000000</td>\n",
       "      <td>0.0</td>\n",
       "      <td>0</td>\n",
       "      <td>Due to change in bp_ratio 0.0, the strategy ch...</td>\n",
       "      <td>GEN00X</td>\n",
       "    </tr>\n",
       "    <tr>\n",
       "      <th>5761</th>\n",
       "      <td>0.0</td>\n",
       "      <td>0.0</td>\n",
       "      <td>0.0</td>\n",
       "      <td>0</td>\n",
       "      <td>0.0</td>\n",
       "      <td>0</td>\n",
       "      <td>Walmart Inc.</td>\n",
       "      <td>0</td>\n",
       "      <td>0.000000e+00</td>\n",
       "      <td>0</td>\n",
       "      <td>...</td>\n",
       "      <td>0</td>\n",
       "      <td>0.0</td>\n",
       "      <td>0</td>\n",
       "      <td>0.0</td>\n",
       "      <td>0</td>\n",
       "      <td>0.000000</td>\n",
       "      <td>0.0</td>\n",
       "      <td>0</td>\n",
       "      <td>Due to change in bp_ratio 0.0, the strategy ch...</td>\n",
       "      <td>GEN00X</td>\n",
       "    </tr>\n",
       "  </tbody>\n",
       "</table>\n",
       "<p>5762 rows × 44 columns</p>\n",
       "</div>"
      ],
      "text/plain": [
       "      Business Partner  Score  Credit Check Rule  \\\n",
       "0                 18.0    0.0                3.0   \n",
       "1                 18.0    0.0                3.0   \n",
       "2                 18.0    0.0                3.0   \n",
       "3                 18.0    0.0                3.0   \n",
       "4                 18.0    0.0                3.0   \n",
       "...                ...    ...                ...   \n",
       "5757               0.0    0.0                0.0   \n",
       "5758               0.0    0.0                0.0   \n",
       "5759               0.0    0.0                0.0   \n",
       "5760               0.0    0.0                0.0   \n",
       "5761               0.0    0.0                0.0   \n",
       "\n",
       "     Rule for Calc. Score and Credit Limit  Calculated Score Risk Class  \\\n",
       "0                                B2C-EXIST               0.0          B   \n",
       "1                                B2C-EXIST               0.0          B   \n",
       "2                                B2C-EXIST               0.0          B   \n",
       "3                                B2C-EXIST               0.0          B   \n",
       "4                                B2C-EXIST               0.0          B   \n",
       "...                                    ...               ...        ...   \n",
       "5757                                     0               0.0          0   \n",
       "5758                                     0               0.0          0   \n",
       "5759                                     0               0.0          0   \n",
       "5760                                     0               0.0          0   \n",
       "5761                                     0               0.0          0   \n",
       "\n",
       "           Customer Dispute Case ID  Invoice Document Disputed Amount  ...  \\\n",
       "0        Amazon.com           DC001      9.300000e+09               0  ...   \n",
       "1        Amazon.com           DC001      9.300000e+09               0  ...   \n",
       "2        Amazon.com           DC001      9.300000e+09               0  ...   \n",
       "3        Amazon.com           DC001      9.300000e+09               0  ...   \n",
       "4        Amazon.com           DC001      9.300000e+09               0  ...   \n",
       "...             ...             ...               ...             ...  ...   \n",
       "5757  Walmart Inc.                0      0.000000e+00               0  ...   \n",
       "5758  Walmart Inc.                0      0.000000e+00               0  ...   \n",
       "5759  Walmart Inc.                0      0.000000e+00               0  ...   \n",
       "5760  Walmart Inc.                0      0.000000e+00               0  ...   \n",
       "5761  Walmart Inc.                0      0.000000e+00               0  ...   \n",
       "\n",
       "     cond_2 valu_2  cond_3  valu_3 valu_1  bp_ratio Value Total  Strategy  \\\n",
       "0     False    0.0    True    50.0     20  0.219758        70.0         0   \n",
       "1     False    0.0    True    50.0     20  0.000000        70.0         0   \n",
       "2     False    0.0    True    50.0     20  0.000000        70.0         0   \n",
       "3     False    0.0    True    50.0     20  0.000000        70.0         0   \n",
       "4     False    0.0    True    50.0     20  0.000000        70.0         0   \n",
       "...     ...    ...     ...     ...    ...       ...         ...       ...   \n",
       "5757      0    0.0       0     0.0      0  0.000000         0.0         0   \n",
       "5758      0    0.0       0     0.0      0  0.000000         0.0         0   \n",
       "5759      0    0.0       0     0.0      0  0.000000         0.0         0   \n",
       "5760      0    0.0       0     0.0      0  0.000000         0.0         0   \n",
       "5761      0    0.0       0     0.0      0  0.000000         0.0         0   \n",
       "\n",
       "                                                Summary  Strategy Change1  \n",
       "0     Due to change in bp_ratio 0.21975847262359544,...            GEN00X  \n",
       "1     Due to change in bp_ratio 0.0, the strategy ch...            GEN00X  \n",
       "2     Due to change in bp_ratio 0.0, the strategy ch...            GEN00X  \n",
       "3     Due to change in bp_ratio 0.0, the strategy ch...            GEN00X  \n",
       "4     Due to change in bp_ratio 0.0, the strategy ch...            GEN00X  \n",
       "...                                                 ...               ...  \n",
       "5757  Due to change in bp_ratio 0.0, the strategy ch...            GEN00X  \n",
       "5758  Due to change in bp_ratio 0.0, the strategy ch...            GEN00X  \n",
       "5759  Due to change in bp_ratio 0.0, the strategy ch...            GEN00X  \n",
       "5760  Due to change in bp_ratio 0.0, the strategy ch...            GEN00X  \n",
       "5761  Due to change in bp_ratio 0.0, the strategy ch...            GEN00X  \n",
       "\n",
       "[5762 rows x 44 columns]"
      ]
     },
     "execution_count": 20,
     "metadata": {},
     "output_type": "execute_result"
    }
   ],
   "source": [
    "data_ukmbp"
   ]
  },
  {
   "cell_type": "code",
   "execution_count": 21,
   "id": "75e428e0",
   "metadata": {},
   "outputs": [
    {
     "data": {
      "text/plain": [
       "Index(['Business Partner', 'Score', 'Credit Check Rule',\n",
       "       'Rule for Calc. Score and Credit Limit', 'Calculated Score',\n",
       "       'Risk Class', 'Customer', 'Dispute Case ID', 'Invoice Document',\n",
       "       'Disputed Amount', 'Status of Dispute', 'Reason of Dispute',\n",
       "       'No of Days Dispute is Open', 'Unnamed: 7', 'Unnamed: 8', 'Unnamed: 9',\n",
       "       'Unnamed: 10', 'BP _x', 'Document Number_x',\n",
       "       'Clearing/Open item symbol _x', 'Document Type_x', 'Document Date_x',\n",
       "       'Amount in Local Currency_x', 'Local Currency_x', 'Due Net_x',\n",
       "       'Net Due Date_x', 'Arrears by net due date_x', 'Posting Date_x',\n",
       "       'Dunning level _x', 'Cash Discount_x', 'Payment Terms_x',\n",
       "       'Payment Date_x', 'Present Date_x', 'Amount in Local Currency_y',\n",
       "       'cond_2', 'valu_2', 'cond_3', 'valu_3', 'valu_1', 'bp_ratio',\n",
       "       'Value Total', 'Strategy', 'Summary', 'Strategy Change1', 'BP _y',\n",
       "       'Document Number_y', 'Clearing/Open item symbol _y', 'Document Type_y',\n",
       "       'Document Date_y', 'Amount in Local Currency', 'Local Currency_y',\n",
       "       'Due Net_y', 'Net Due Date_y', 'Arrears by net due date_y',\n",
       "       'Posting Date_y', 'Dunning level _y', 'Cash Discount_y',\n",
       "       'Payment Terms_y', 'Payment Date_y', 'Present Date_y'],\n",
       "      dtype='object')"
      ]
     },
     "execution_count": 21,
     "metadata": {},
     "output_type": "execute_result"
    }
   ],
   "source": [
    "df_check2 = pd.merge(data_ukmbp,data_fbl5n, how=\"outer\", on=[\"Customer\", \"Customer\"])\n",
    "df_check2.columns"
   ]
  },
  {
   "cell_type": "code",
   "execution_count": 22,
   "id": "f3e7f80c",
   "metadata": {},
   "outputs": [
    {
     "data": {
      "text/plain": [
       "Index(['Business Partner', 'Score', 'Credit Check Rule',\n",
       "       'Rule for Calc. Score and Credit Limit', 'Calculated Score',\n",
       "       'Risk Class', 'Customer', 'Dispute Case ID', 'Invoice Document',\n",
       "       'Disputed Amount', 'Status of Dispute', 'Reason of Dispute',\n",
       "       'No of Days Dispute is Open', 'Unnamed: 7', 'Unnamed: 8', 'Unnamed: 9',\n",
       "       'Unnamed: 10', 'BP ', 'Document Number', 'Clearing/Open item symbol ',\n",
       "       'Document Type', 'Document Date', 'Amount in Local Currency_x',\n",
       "       'Local Currency', 'Due Net', 'Net Due Date', 'Arrears by net due date',\n",
       "       'Posting Date', 'Dunning level ', 'Cash Discount', 'Payment Terms',\n",
       "       'Payment Date', 'Present Date', 'Amount in Local Currency_y', 'cond_2',\n",
       "       'valu_2', 'cond_3', 'valu_3', 'valu_1', 'bp_ratio', 'Value Total',\n",
       "       'Strategy', 'Summary', 'Strategy Change1'],\n",
       "      dtype='object')"
      ]
     },
     "execution_count": 22,
     "metadata": {},
     "output_type": "execute_result"
    }
   ],
   "source": [
    "data_ukmbp.columns"
   ]
  },
  {
   "cell_type": "code",
   "execution_count": 23,
   "id": "ea9782ab",
   "metadata": {},
   "outputs": [
    {
     "data": {
      "text/plain": [
       "Index(['BP ', 'Document Number', 'Clearing/Open item symbol ', 'Document Type',\n",
       "       'Document Date', 'Amount in Local Currency', 'Local Currency',\n",
       "       'Due Net', 'Net Due Date', 'Arrears by net due date', 'Posting Date',\n",
       "       'Dunning level ', 'Cash Discount', 'Payment Terms', 'Payment Date',\n",
       "       'Customer', 'Present Date'],\n",
       "      dtype='object')"
      ]
     },
     "execution_count": 23,
     "metadata": {},
     "output_type": "execute_result"
    }
   ],
   "source": [
    "data_fbl5n.columns"
   ]
  },
  {
   "cell_type": "code",
   "execution_count": 24,
   "id": "707d7932",
   "metadata": {},
   "outputs": [
    {
     "ename": "NameError",
     "evalue": "name 'df_check' is not defined",
     "output_type": "error",
     "traceback": [
      "\u001b[1;31m---------------------------------------------------------------------------\u001b[0m",
      "\u001b[1;31mNameError\u001b[0m                                 Traceback (most recent call last)",
      "Cell \u001b[1;32mIn[24], line 1\u001b[0m\n\u001b[1;32m----> 1\u001b[0m \u001b[43mdf_check\u001b[49m\n",
      "\u001b[1;31mNameError\u001b[0m: name 'df_check' is not defined"
     ]
    }
   ],
   "source": [
    "df_check"
   ]
  },
  {
   "cell_type": "code",
   "execution_count": null,
   "id": "77e0680d",
   "metadata": {},
   "outputs": [],
   "source": [
    "df_check2"
   ]
  },
  {
   "cell_type": "code",
   "execution_count": null,
   "id": "c4352fe2",
   "metadata": {},
   "outputs": [],
   "source": [
    "df.columns"
   ]
  },
  {
   "cell_type": "code",
   "execution_count": null,
   "id": "2335d88c",
   "metadata": {},
   "outputs": [],
   "source": [
    "df['Net Due Date']"
   ]
  },
  {
   "cell_type": "code",
   "execution_count": null,
   "id": "88e8ad2d",
   "metadata": {},
   "outputs": [],
   "source": [
    "df.columns"
   ]
  },
  {
   "cell_type": "code",
   "execution_count": null,
   "id": "f0285a99",
   "metadata": {},
   "outputs": [],
   "source": [
    "df['Present Date']"
   ]
  },
  {
   "cell_type": "code",
   "execution_count": 25,
   "id": "b12cf3b9",
   "metadata": {},
   "outputs": [],
   "source": [
    "df=df.drop(df[df['Payment Date']==0].index)"
   ]
  },
  {
   "cell_type": "code",
   "execution_count": null,
   "id": "2ac2a2ba",
   "metadata": {},
   "outputs": [],
   "source": [
    "df['Net Due Date']-df['Payment Date']"
   ]
  },
  {
   "cell_type": "code",
   "execution_count": null,
   "id": "51839451",
   "metadata": {},
   "outputs": [],
   "source": [
    "df['Payment Date']"
   ]
  },
  {
   "cell_type": "code",
   "execution_count": 26,
   "id": "a64cec8a",
   "metadata": {},
   "outputs": [],
   "source": [
    "\n",
    "# df['Net Due Date'] = pd.to_datetime(df['Net Due Date'])  \n",
    "df['Payment Date'] = pd.to_datetime(df['Payment Date'], errors='coerce')  \n",
    "# df['Payment Date'][0] = df['Payment Date'][0].dt.date\n",
    "# type(df['Payment Date'][0])\n",
    "# type(df['Net Due Date'][4])\n",
    "# df['Payment Date'].apply(pd.Timestamp)"
   ]
  },
  {
   "cell_type": "code",
   "execution_count": null,
   "id": "def523fb",
   "metadata": {},
   "outputs": [],
   "source": [
    "print(type(df['Net Due Date'][0]))"
   ]
  },
  {
   "cell_type": "code",
   "execution_count": null,
   "id": "19069c01",
   "metadata": {},
   "outputs": [],
   "source": [
    "print(type(df['Payment Date'][0]))"
   ]
  },
  {
   "cell_type": "code",
   "execution_count": null,
   "id": "52d24763",
   "metadata": {},
   "outputs": [],
   "source": [
    "df['Payment Date']"
   ]
  },
  {
   "cell_type": "code",
   "execution_count": 27,
   "id": "ee76c1aa",
   "metadata": {},
   "outputs": [
    {
     "ename": "TypeError",
     "evalue": "unsupported operand type(s) for -: 'Timestamp' and 'datetime.date'",
     "output_type": "error",
     "traceback": [
      "\u001b[1;31m---------------------------------------------------------------------------\u001b[0m",
      "\u001b[1;31mTypeError\u001b[0m                                 Traceback (most recent call last)",
      "File \u001b[1;32m~\\AppData\\Local\\anaconda-3\\lib\\site-packages\\pandas\\core\\ops\\array_ops.py:165\u001b[0m, in \u001b[0;36m_na_arithmetic_op\u001b[1;34m(left, right, op, is_cmp)\u001b[0m\n\u001b[0;32m    164\u001b[0m \u001b[38;5;28;01mtry\u001b[39;00m:\n\u001b[1;32m--> 165\u001b[0m     result \u001b[38;5;241m=\u001b[39m \u001b[43mfunc\u001b[49m\u001b[43m(\u001b[49m\u001b[43mleft\u001b[49m\u001b[43m,\u001b[49m\u001b[43m \u001b[49m\u001b[43mright\u001b[49m\u001b[43m)\u001b[49m\n\u001b[0;32m    166\u001b[0m \u001b[38;5;28;01mexcept\u001b[39;00m \u001b[38;5;167;01mTypeError\u001b[39;00m:\n",
      "File \u001b[1;32m~\\AppData\\Local\\anaconda-3\\lib\\site-packages\\pandas\\core\\computation\\expressions.py:241\u001b[0m, in \u001b[0;36mevaluate\u001b[1;34m(op, a, b, use_numexpr)\u001b[0m\n\u001b[0;32m    239\u001b[0m     \u001b[38;5;28;01mif\u001b[39;00m use_numexpr:\n\u001b[0;32m    240\u001b[0m         \u001b[38;5;66;03m# error: \"None\" not callable\u001b[39;00m\n\u001b[1;32m--> 241\u001b[0m         \u001b[38;5;28;01mreturn\u001b[39;00m \u001b[43m_evaluate\u001b[49m\u001b[43m(\u001b[49m\u001b[43mop\u001b[49m\u001b[43m,\u001b[49m\u001b[43m \u001b[49m\u001b[43mop_str\u001b[49m\u001b[43m,\u001b[49m\u001b[43m \u001b[49m\u001b[43ma\u001b[49m\u001b[43m,\u001b[49m\u001b[43m \u001b[49m\u001b[43mb\u001b[49m\u001b[43m)\u001b[49m  \u001b[38;5;66;03m# type: ignore[misc]\u001b[39;00m\n\u001b[0;32m    242\u001b[0m \u001b[38;5;28;01mreturn\u001b[39;00m _evaluate_standard(op, op_str, a, b)\n",
      "File \u001b[1;32m~\\AppData\\Local\\anaconda-3\\lib\\site-packages\\pandas\\core\\computation\\expressions.py:129\u001b[0m, in \u001b[0;36m_evaluate_numexpr\u001b[1;34m(op, op_str, a, b)\u001b[0m\n\u001b[0;32m    128\u001b[0m \u001b[38;5;28;01mif\u001b[39;00m result \u001b[38;5;129;01mis\u001b[39;00m \u001b[38;5;28;01mNone\u001b[39;00m:\n\u001b[1;32m--> 129\u001b[0m     result \u001b[38;5;241m=\u001b[39m \u001b[43m_evaluate_standard\u001b[49m\u001b[43m(\u001b[49m\u001b[43mop\u001b[49m\u001b[43m,\u001b[49m\u001b[43m \u001b[49m\u001b[43mop_str\u001b[49m\u001b[43m,\u001b[49m\u001b[43m \u001b[49m\u001b[43ma\u001b[49m\u001b[43m,\u001b[49m\u001b[43m \u001b[49m\u001b[43mb\u001b[49m\u001b[43m)\u001b[49m\n\u001b[0;32m    131\u001b[0m \u001b[38;5;28;01mreturn\u001b[39;00m result\n",
      "File \u001b[1;32m~\\AppData\\Local\\anaconda-3\\lib\\site-packages\\pandas\\core\\computation\\expressions.py:70\u001b[0m, in \u001b[0;36m_evaluate_standard\u001b[1;34m(op, op_str, a, b)\u001b[0m\n\u001b[0;32m     69\u001b[0m     _store_test_result(\u001b[38;5;28;01mFalse\u001b[39;00m)\n\u001b[1;32m---> 70\u001b[0m \u001b[38;5;28;01mreturn\u001b[39;00m \u001b[43mop\u001b[49m\u001b[43m(\u001b[49m\u001b[43ma\u001b[49m\u001b[43m,\u001b[49m\u001b[43m \u001b[49m\u001b[43mb\u001b[49m\u001b[43m)\u001b[49m\n",
      "\u001b[1;31mTypeError\u001b[0m: unsupported operand type(s) for -: 'Timestamp' and 'datetime.date'",
      "\nDuring handling of the above exception, another exception occurred:\n",
      "\u001b[1;31mTypeError\u001b[0m                                 Traceback (most recent call last)",
      "Cell \u001b[1;32mIn[27], line 1\u001b[0m\n\u001b[1;32m----> 1\u001b[0m \u001b[43mdf\u001b[49m\u001b[43m[\u001b[49m\u001b[38;5;124;43m'\u001b[39;49m\u001b[38;5;124;43mNet Due Date\u001b[39;49m\u001b[38;5;124;43m'\u001b[39;49m\u001b[43m]\u001b[49m\u001b[38;5;241;43m-\u001b[39;49m\u001b[43mdf\u001b[49m\u001b[43m[\u001b[49m\u001b[38;5;124;43m'\u001b[39;49m\u001b[38;5;124;43mPresent Date\u001b[39;49m\u001b[38;5;124;43m'\u001b[39;49m\u001b[43m]\u001b[49m\n",
      "File \u001b[1;32m~\\AppData\\Local\\anaconda-3\\lib\\site-packages\\pandas\\core\\ops\\common.py:72\u001b[0m, in \u001b[0;36m_unpack_zerodim_and_defer.<locals>.new_method\u001b[1;34m(self, other)\u001b[0m\n\u001b[0;32m     68\u001b[0m             \u001b[38;5;28;01mreturn\u001b[39;00m \u001b[38;5;28mNotImplemented\u001b[39m\n\u001b[0;32m     70\u001b[0m other \u001b[38;5;241m=\u001b[39m item_from_zerodim(other)\n\u001b[1;32m---> 72\u001b[0m \u001b[38;5;28;01mreturn\u001b[39;00m \u001b[43mmethod\u001b[49m\u001b[43m(\u001b[49m\u001b[38;5;28;43mself\u001b[39;49m\u001b[43m,\u001b[49m\u001b[43m \u001b[49m\u001b[43mother\u001b[49m\u001b[43m)\u001b[49m\n",
      "File \u001b[1;32m~\\AppData\\Local\\anaconda-3\\lib\\site-packages\\pandas\\core\\arraylike.py:110\u001b[0m, in \u001b[0;36mOpsMixin.__sub__\u001b[1;34m(self, other)\u001b[0m\n\u001b[0;32m    108\u001b[0m \u001b[38;5;129m@unpack_zerodim_and_defer\u001b[39m(\u001b[38;5;124m\"\u001b[39m\u001b[38;5;124m__sub__\u001b[39m\u001b[38;5;124m\"\u001b[39m)\n\u001b[0;32m    109\u001b[0m \u001b[38;5;28;01mdef\u001b[39;00m \u001b[38;5;21m__sub__\u001b[39m(\u001b[38;5;28mself\u001b[39m, other):\n\u001b[1;32m--> 110\u001b[0m     \u001b[38;5;28;01mreturn\u001b[39;00m \u001b[38;5;28;43mself\u001b[39;49m\u001b[38;5;241;43m.\u001b[39;49m\u001b[43m_arith_method\u001b[49m\u001b[43m(\u001b[49m\u001b[43mother\u001b[49m\u001b[43m,\u001b[49m\u001b[43m \u001b[49m\u001b[43moperator\u001b[49m\u001b[38;5;241;43m.\u001b[39;49m\u001b[43msub\u001b[49m\u001b[43m)\u001b[49m\n",
      "File \u001b[1;32m~\\AppData\\Local\\anaconda-3\\lib\\site-packages\\pandas\\core\\series.py:6259\u001b[0m, in \u001b[0;36mSeries._arith_method\u001b[1;34m(self, other, op)\u001b[0m\n\u001b[0;32m   6257\u001b[0m \u001b[38;5;28;01mdef\u001b[39;00m \u001b[38;5;21m_arith_method\u001b[39m(\u001b[38;5;28mself\u001b[39m, other, op):\n\u001b[0;32m   6258\u001b[0m     \u001b[38;5;28mself\u001b[39m, other \u001b[38;5;241m=\u001b[39m ops\u001b[38;5;241m.\u001b[39malign_method_SERIES(\u001b[38;5;28mself\u001b[39m, other)\n\u001b[1;32m-> 6259\u001b[0m     \u001b[38;5;28;01mreturn\u001b[39;00m \u001b[43mbase\u001b[49m\u001b[38;5;241;43m.\u001b[39;49m\u001b[43mIndexOpsMixin\u001b[49m\u001b[38;5;241;43m.\u001b[39;49m\u001b[43m_arith_method\u001b[49m\u001b[43m(\u001b[49m\u001b[38;5;28;43mself\u001b[39;49m\u001b[43m,\u001b[49m\u001b[43m \u001b[49m\u001b[43mother\u001b[49m\u001b[43m,\u001b[49m\u001b[43m \u001b[49m\u001b[43mop\u001b[49m\u001b[43m)\u001b[49m\n",
      "File \u001b[1;32m~\\AppData\\Local\\anaconda-3\\lib\\site-packages\\pandas\\core\\base.py:1325\u001b[0m, in \u001b[0;36mIndexOpsMixin._arith_method\u001b[1;34m(self, other, op)\u001b[0m\n\u001b[0;32m   1322\u001b[0m rvalues \u001b[38;5;241m=\u001b[39m ensure_wrapped_if_datetimelike(rvalues)\n\u001b[0;32m   1324\u001b[0m \u001b[38;5;28;01mwith\u001b[39;00m np\u001b[38;5;241m.\u001b[39merrstate(\u001b[38;5;28mall\u001b[39m\u001b[38;5;241m=\u001b[39m\u001b[38;5;124m\"\u001b[39m\u001b[38;5;124mignore\u001b[39m\u001b[38;5;124m\"\u001b[39m):\n\u001b[1;32m-> 1325\u001b[0m     result \u001b[38;5;241m=\u001b[39m \u001b[43mops\u001b[49m\u001b[38;5;241;43m.\u001b[39;49m\u001b[43marithmetic_op\u001b[49m\u001b[43m(\u001b[49m\u001b[43mlvalues\u001b[49m\u001b[43m,\u001b[49m\u001b[43m \u001b[49m\u001b[43mrvalues\u001b[49m\u001b[43m,\u001b[49m\u001b[43m \u001b[49m\u001b[43mop\u001b[49m\u001b[43m)\u001b[49m\n\u001b[0;32m   1327\u001b[0m \u001b[38;5;28;01mreturn\u001b[39;00m \u001b[38;5;28mself\u001b[39m\u001b[38;5;241m.\u001b[39m_construct_result(result, name\u001b[38;5;241m=\u001b[39mres_name)\n",
      "File \u001b[1;32m~\\AppData\\Local\\anaconda-3\\lib\\site-packages\\pandas\\core\\ops\\array_ops.py:226\u001b[0m, in \u001b[0;36marithmetic_op\u001b[1;34m(left, right, op)\u001b[0m\n\u001b[0;32m    222\u001b[0m     _bool_arith_check(op, left, right)\n\u001b[0;32m    224\u001b[0m     \u001b[38;5;66;03m# error: Argument 1 to \"_na_arithmetic_op\" has incompatible type\u001b[39;00m\n\u001b[0;32m    225\u001b[0m     \u001b[38;5;66;03m# \"Union[ExtensionArray, ndarray[Any, Any]]\"; expected \"ndarray[Any, Any]\"\u001b[39;00m\n\u001b[1;32m--> 226\u001b[0m     res_values \u001b[38;5;241m=\u001b[39m \u001b[43m_na_arithmetic_op\u001b[49m\u001b[43m(\u001b[49m\u001b[43mleft\u001b[49m\u001b[43m,\u001b[49m\u001b[43m \u001b[49m\u001b[43mright\u001b[49m\u001b[43m,\u001b[49m\u001b[43m \u001b[49m\u001b[43mop\u001b[49m\u001b[43m)\u001b[49m  \u001b[38;5;66;03m# type: ignore[arg-type]\u001b[39;00m\n\u001b[0;32m    228\u001b[0m \u001b[38;5;28;01mreturn\u001b[39;00m res_values\n",
      "File \u001b[1;32m~\\AppData\\Local\\anaconda-3\\lib\\site-packages\\pandas\\core\\ops\\array_ops.py:172\u001b[0m, in \u001b[0;36m_na_arithmetic_op\u001b[1;34m(left, right, op, is_cmp)\u001b[0m\n\u001b[0;32m    166\u001b[0m \u001b[38;5;28;01mexcept\u001b[39;00m \u001b[38;5;167;01mTypeError\u001b[39;00m:\n\u001b[0;32m    167\u001b[0m     \u001b[38;5;28;01mif\u001b[39;00m \u001b[38;5;129;01mnot\u001b[39;00m is_cmp \u001b[38;5;129;01mand\u001b[39;00m (is_object_dtype(left\u001b[38;5;241m.\u001b[39mdtype) \u001b[38;5;129;01mor\u001b[39;00m is_object_dtype(right)):\n\u001b[0;32m    168\u001b[0m         \u001b[38;5;66;03m# For object dtype, fallback to a masked operation (only operating\u001b[39;00m\n\u001b[0;32m    169\u001b[0m         \u001b[38;5;66;03m#  on the non-missing values)\u001b[39;00m\n\u001b[0;32m    170\u001b[0m         \u001b[38;5;66;03m# Don't do this for comparisons, as that will handle complex numbers\u001b[39;00m\n\u001b[0;32m    171\u001b[0m         \u001b[38;5;66;03m#  incorrectly, see GH#32047\u001b[39;00m\n\u001b[1;32m--> 172\u001b[0m         result \u001b[38;5;241m=\u001b[39m \u001b[43m_masked_arith_op\u001b[49m\u001b[43m(\u001b[49m\u001b[43mleft\u001b[49m\u001b[43m,\u001b[49m\u001b[43m \u001b[49m\u001b[43mright\u001b[49m\u001b[43m,\u001b[49m\u001b[43m \u001b[49m\u001b[43mop\u001b[49m\u001b[43m)\u001b[49m\n\u001b[0;32m    173\u001b[0m     \u001b[38;5;28;01melse\u001b[39;00m:\n\u001b[0;32m    174\u001b[0m         \u001b[38;5;28;01mraise\u001b[39;00m\n",
      "File \u001b[1;32m~\\AppData\\Local\\anaconda-3\\lib\\site-packages\\pandas\\core\\ops\\array_ops.py:110\u001b[0m, in \u001b[0;36m_masked_arith_op\u001b[1;34m(x, y, op)\u001b[0m\n\u001b[0;32m    108\u001b[0m     \u001b[38;5;66;03m# See GH#5284, GH#5035, GH#19448 for historical reference\u001b[39;00m\n\u001b[0;32m    109\u001b[0m     \u001b[38;5;28;01mif\u001b[39;00m mask\u001b[38;5;241m.\u001b[39many():\n\u001b[1;32m--> 110\u001b[0m         result[mask] \u001b[38;5;241m=\u001b[39m \u001b[43mop\u001b[49m\u001b[43m(\u001b[49m\u001b[43mxrav\u001b[49m\u001b[43m[\u001b[49m\u001b[43mmask\u001b[49m\u001b[43m]\u001b[49m\u001b[43m,\u001b[49m\u001b[43m \u001b[49m\u001b[43myrav\u001b[49m\u001b[43m[\u001b[49m\u001b[43mmask\u001b[49m\u001b[43m]\u001b[49m\u001b[43m)\u001b[49m\n\u001b[0;32m    112\u001b[0m \u001b[38;5;28;01melse\u001b[39;00m:\n\u001b[0;32m    113\u001b[0m     \u001b[38;5;28;01mif\u001b[39;00m \u001b[38;5;129;01mnot\u001b[39;00m is_scalar(y):\n",
      "\u001b[1;31mTypeError\u001b[0m: unsupported operand type(s) for -: 'Timestamp' and 'datetime.date'"
     ]
    }
   ],
   "source": [
    "df['Net Due Date']-df['Present Date']"
   ]
  },
  {
   "cell_type": "code",
   "execution_count": null,
   "id": "6207bf27",
   "metadata": {},
   "outputs": [],
   "source": [
    "data_fbl5n.columns"
   ]
  },
  {
   "cell_type": "code",
   "execution_count": null,
   "id": "b149cec9",
   "metadata": {},
   "outputs": [],
   "source": [
    "df.columns"
   ]
  },
  {
   "cell_type": "code",
   "execution_count": 28,
   "id": "f5fd0fe8",
   "metadata": {},
   "outputs": [
    {
     "data": {
      "text/plain": [
       "0.20689655172413793"
      ]
     },
     "execution_count": 28,
     "metadata": {},
     "output_type": "execute_result"
    }
   ],
   "source": [
    "bad_debt_prob=(df[(df['Reason of Dispute']=='Bad Debt') & (df['Business Partner']==18)].count()[0])/(df[(df['Business Partner']==18)].count()[0])\n",
    "bad_debt_prob"
   ]
  },
  {
   "cell_type": "code",
   "execution_count": null,
   "id": "6665b95d",
   "metadata": {},
   "outputs": [],
   "source": [
    "(data_di[data_di['Reason of Dispute']=='Bad Debt'].count()[0])/(data_di.count()[0])"
   ]
  },
  {
   "cell_type": "code",
   "execution_count": 31,
   "id": "07f1a8da",
   "metadata": {},
   "outputs": [
    {
     "data": {
      "text/plain": [
       "6693724137.931034"
      ]
     },
     "execution_count": 31,
     "metadata": {},
     "output_type": "execute_result"
    }
   ],
   "source": [
    "var = bad_debt_prob*df['Outstanding'][0]\n",
    "var"
   ]
  },
  {
   "cell_type": "code",
   "execution_count": null,
   "id": "8c0c5ebf",
   "metadata": {},
   "outputs": [],
   "source": []
  }
 ],
 "metadata": {
  "kernelspec": {
   "display_name": "Python 3 (ipykernel)",
   "language": "python",
   "name": "python3"
  },
  "language_info": {
   "codemirror_mode": {
    "name": "ipython",
    "version": 3
   },
   "file_extension": ".py",
   "mimetype": "text/x-python",
   "name": "python",
   "nbconvert_exporter": "python",
   "pygments_lexer": "ipython3",
   "version": "3.10.9"
  }
 },
 "nbformat": 4,
 "nbformat_minor": 5
}
